{
 "cells": [
  {
   "cell_type": "markdown",
   "id": "0b7938c8",
   "metadata": {},
   "source": [
    "### Question-1\n",
    "Write a Python program to find words which are greater than given length k?\n",
    "\n",
    "\n",
    "##### Answer:"
   ]
  },
  {
   "cell_type": "code",
   "execution_count": 1,
   "id": "dc775ef6",
   "metadata": {},
   "outputs": [
    {
     "data": {
      "text/plain": [
       "\"['there'], have greater length than 3\""
      ]
     },
     "execution_count": 1,
     "metadata": {},
     "output_type": "execute_result"
    }
   ],
   "source": [
    "def find_greater_words(lst, length):\n",
    "    greater_words = []\n",
    "    try:\n",
    "        for word in lst:\n",
    "            if len(word) > length:\n",
    "                greater_words.append(word)\n",
    "        return f\"{greater_words}, have greater length than {length}\"\n",
    "    \n",
    "    except Exception as error:\n",
    "        return \"There is an error\", error\n",
    "\n",
    "find_greater_words(['hi', 'there', 'how', 'are', 'you'], 3)"
   ]
  },
  {
   "cell_type": "markdown",
   "id": "0ddeea98",
   "metadata": {},
   "source": [
    "### Question-1\n",
    "Write a Python program for removing i-th character from a string?\n",
    "\n",
    "\n",
    "##### Answer:"
   ]
  },
  {
   "cell_type": "code",
   "execution_count": 2,
   "id": "8c34a438",
   "metadata": {},
   "outputs": [
    {
     "data": {
      "text/plain": [
       "'Tusar  Ahmed'"
      ]
     },
     "execution_count": 2,
     "metadata": {},
     "output_type": "execute_result"
    }
   ],
   "source": [
    "def remove_ith_char(string, ith):\n",
    "    try:\n",
    "        return string.replace(string[ith], \"\",1)\n",
    "    \n",
    "    except Exception as error:\n",
    "        return \"Error: \", error\n",
    "\n",
    "remove_ith_char('Tusar _ Ahmed', 6)\n",
    "            "
   ]
  },
  {
   "cell_type": "markdown",
   "id": "a4c9f53c",
   "metadata": {},
   "source": [
    "### Question-3\n",
    "Write a Python program to split and join a string?\n",
    "\n",
    "\n",
    "##### Answer:"
   ]
  },
  {
   "cell_type": "code",
   "execution_count": 3,
   "id": "f7b8d127",
   "metadata": {},
   "outputs": [
    {
     "name": "stdout",
     "output_type": "stream",
     "text": [
      "['Write', 'a', 'python', 'program', 'to', 'split', 'and', 'join', 'a', 'string']\n"
     ]
    },
    {
     "data": {
      "text/plain": [
       "'Write a python program to split and join a string'"
      ]
     },
     "execution_count": 3,
     "metadata": {},
     "output_type": "execute_result"
    }
   ],
   "source": [
    "def split_join(string):\n",
    "    try:\n",
    "        # spliting the string\n",
    "        new_lst = string.split(\" \")\n",
    "        print(new_lst) # print the list\n",
    "        \n",
    "        # joining string again\n",
    "        new_string = \" \"\n",
    "        return new_string.join(new_lst)\n",
    "    except Exception as e:\n",
    "        return \"error\", e\n",
    "    \n",
    "split_join(\"Write a python program to split and join a string\")"
   ]
  },
  {
   "cell_type": "markdown",
   "id": "6bf80285",
   "metadata": {},
   "source": [
    "### Question 4\n",
    "Write a Python to check if a given string is binary string or not?\n",
    "\n",
    "\n",
    "##### Answer:"
   ]
  },
  {
   "cell_type": "code",
   "execution_count": 4,
   "id": "f62fbb22",
   "metadata": {},
   "outputs": [
    {
     "data": {
      "text/plain": [
       "'It is a binary string'"
      ]
     },
     "execution_count": 4,
     "metadata": {},
     "output_type": "execute_result"
    }
   ],
   "source": [
    "def check_binary(string):\n",
    "    try:\n",
    "        s = set(string)\n",
    "        b = {'0', '1'}\n",
    "        if s==b or s=={'0'} or s=={'1'}:\n",
    "            return (\"It is a binary string\")\n",
    "        else:\n",
    "            return (\"Not binary\")\n",
    "            \n",
    "    except Exception as error:\n",
    "        print(\"Error occured: \", error)\n",
    "\n",
    "check_binary(\"001111000\")"
   ]
  },
  {
   "cell_type": "markdown",
   "id": "19ec89ef",
   "metadata": {},
   "source": [
    "### Question-5\n",
    "Write a Python program to find uncommon words from two Strings?\n",
    "\n",
    "\n",
    "##### Answer:"
   ]
  },
  {
   "cell_type": "code",
   "execution_count": 5,
   "id": "e77278e0",
   "metadata": {},
   "outputs": [
    {
     "data": {
      "text/plain": [
       "['Write', 'a', 'Python', 'program']"
      ]
     },
     "execution_count": 5,
     "metadata": {},
     "output_type": "execute_result"
    }
   ],
   "source": [
    "def find_uncommon_words(string_1, string_2):\n",
    "    \n",
    "    words = {}\n",
    "    \n",
    "    for i in string_1.split():\n",
    "        words[i] = words.get(i, 0) + 1\n",
    "        \n",
    "    # for string 2\n",
    "    for i in string_2.split():\n",
    "        words[i] = words.get(i, 0) +1\n",
    "        \n",
    "    return [word for word in words if words[word] == 1]\n",
    "\n",
    "string_1 = \"Write a Python program find uncommon words from two Strings?\"\n",
    "string_2 = \" find uncommon words from two Strings?\"\n",
    "\n",
    "find_uncommon_words(string_1, string_2)"
   ]
  },
  {
   "cell_type": "markdown",
   "id": "15c4bee2",
   "metadata": {},
   "source": [
    "### Question-6\n",
    "Write a Python to find all duplicate characters in string?\n",
    "\n",
    "\n",
    "##### Answer:"
   ]
  },
  {
   "cell_type": "code",
   "execution_count": 6,
   "id": "d7eebb14",
   "metadata": {},
   "outputs": [
    {
     "data": {
      "text/plain": [
       "('Duplicate characters are: ', ['i', 's', ' '])"
      ]
     },
     "execution_count": 6,
     "metadata": {},
     "output_type": "execute_result"
    }
   ],
   "source": [
    "def find_duplicate_char(string):\n",
    "    new_lst = []\n",
    "    duplicates = []\n",
    "    for i in string:\n",
    "        new_lst.append(i)\n",
    "        \n",
    "    for i in range(len(new_lst)):\n",
    "        if (new_lst.count(new_lst[i]) > 1) and (new_lst[i] not in duplicates):\n",
    "            duplicates.append(new_lst[i])\n",
    "            \n",
    "    return \"Duplicate characters are: \", duplicates\n",
    "            \n",
    "find_duplicate_char(\"This is a string\")"
   ]
  },
  {
   "cell_type": "markdown",
   "id": "761bbc4f",
   "metadata": {},
   "source": [
    "### Question-7\n",
    "Write a Python Program to check if a string contains any special character?\n",
    "\n",
    "\n",
    "##### Answer:"
   ]
  },
  {
   "cell_type": "code",
   "execution_count": 7,
   "id": "82124a25",
   "metadata": {},
   "outputs": [
    {
     "data": {
      "text/plain": [
       "'Special character found. '"
      ]
     },
     "execution_count": 7,
     "metadata": {},
     "output_type": "execute_result"
    }
   ],
   "source": [
    "def check_special_char(string):\n",
    "    import re\n",
    "    \n",
    "    special_char = re.compile(\"[@_!#$%^&*()<>?/\\|}{~:]\")\n",
    "    \n",
    "    if special_char.search(string):\n",
    "        return \"Special character found. \"\n",
    "        \n",
    "    else:\n",
    "        return \"Special Character Not Found\"\n",
    "        \n",
    "        \n",
    "check_special_char(\"this is a## string\")"
   ]
  },
  {
   "cell_type": "code",
   "execution_count": null,
   "id": "8982d095",
   "metadata": {},
   "outputs": [],
   "source": []
  },
  {
   "cell_type": "code",
   "execution_count": null,
   "id": "e49e4654",
   "metadata": {},
   "outputs": [],
   "source": []
  }
 ],
 "metadata": {
  "kernelspec": {
   "display_name": "Python 3 (ipykernel)",
   "language": "python",
   "name": "python3"
  },
  "language_info": {
   "codemirror_mode": {
    "name": "ipython",
    "version": 3
   },
   "file_extension": ".py",
   "mimetype": "text/x-python",
   "name": "python",
   "nbconvert_exporter": "python",
   "pygments_lexer": "ipython3",
   "version": "3.9.7"
  }
 },
 "nbformat": 4,
 "nbformat_minor": 5
}
