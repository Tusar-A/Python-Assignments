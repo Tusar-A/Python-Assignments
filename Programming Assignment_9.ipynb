{
 "cells": [
  {
   "cell_type": "markdown",
   "id": "6124caa2",
   "metadata": {},
   "source": [
    "### Question-1\n",
    "Write a Python program to check if the given number is a Disarium Number?\n",
    "\n",
    "\n",
    "##### Answer:"
   ]
  },
  {
   "cell_type": "code",
   "execution_count": 1,
   "id": "4f333f93",
   "metadata": {},
   "outputs": [
    {
     "name": "stdout",
     "output_type": "stream",
     "text": [
      "The gien number is disarium.\n"
     ]
    }
   ],
   "source": [
    "def check_disarium(num):\n",
    "    summ = 0\n",
    "    \n",
    "    for i in range(len(str(num))):\n",
    "        summ +=int(str(num)[i])**(i+1)\n",
    "        \n",
    "    if summ == num:\n",
    "        print(\"The gien number is disarium.\")\n",
    "    else:\n",
    "        print(\"Not Desarium\")\n",
    "    \n",
    "    \n",
    "\n",
    "num = 89\n",
    "check_disarium(num)"
   ]
  },
  {
   "cell_type": "markdown",
   "id": "ff6c641d",
   "metadata": {},
   "source": [
    "### Question-2\n",
    "Write a Python program to print all disarium numbers between 1 to 100?\n",
    "\n",
    "\n",
    "##### Answer:"
   ]
  },
  {
   "cell_type": "code",
   "execution_count": 2,
   "id": "9d1295fa",
   "metadata": {
    "scrolled": true
   },
   "outputs": [
    {
     "name": "stdout",
     "output_type": "stream",
     "text": [
      "0\n",
      "1\n",
      "2\n",
      "3\n",
      "4\n",
      "5\n",
      "6\n",
      "7\n",
      "8\n",
      "9\n",
      "89\n"
     ]
    }
   ],
   "source": [
    "def disarium_between():\n",
    "    for i in range(100):\n",
    "        temp = 0\n",
    "        for j in range(len(str(i))):\n",
    "            temp += int(str(i)[j])**(j+1)\n",
    "        if temp ==i:\n",
    "            print(i)\n",
    "            \n",
    "disarium_between()"
   ]
  },
  {
   "cell_type": "markdown",
   "id": "82d8246b",
   "metadata": {},
   "source": [
    "### Question-3\n",
    "Write a Python program to check if the given number is Happy Number?\n",
    "\n",
    "\n",
    "##### Answer:"
   ]
  },
  {
   "cell_type": "code",
   "execution_count": 3,
   "id": "b5fd4ba8",
   "metadata": {},
   "outputs": [
    {
     "name": "stdout",
     "output_type": "stream",
     "text": [
      "True\n"
     ]
    }
   ],
   "source": [
    "def is_happy(num):\n",
    "    repeat = set()\n",
    "    \n",
    "    while num!=1:\n",
    "        num = sum(int(i)**2 for i in str(num))\n",
    "                \n",
    "        if num in repeat:\n",
    "            return False\n",
    "        \n",
    "        repeat.add(num)\n",
    "    \n",
    "    return True\n",
    "        \n",
    "print(is_happy(932))"
   ]
  },
  {
   "cell_type": "markdown",
   "id": "43eca839",
   "metadata": {},
   "source": [
    "### Question-4\n",
    "Write a Python program to print all happy numbers between 1 and 100?\n",
    "\n",
    "\n",
    "##### Answer:"
   ]
  },
  {
   "cell_type": "code",
   "execution_count": 4,
   "id": "9e8136b9",
   "metadata": {},
   "outputs": [
    {
     "name": "stdout",
     "output_type": "stream",
     "text": [
      "1\n",
      "7\n",
      "10\n",
      "13\n",
      "19\n",
      "23\n",
      "28\n",
      "31\n",
      "32\n",
      "44\n",
      "49\n",
      "68\n",
      "70\n",
      "79\n",
      "82\n",
      "86\n",
      "91\n",
      "94\n",
      "97\n"
     ]
    }
   ],
   "source": [
    "# Taking the function from the answer of the question-3\n",
    "\n",
    "for i in range(1,100):\n",
    "    if is_happy(i):\n",
    "        print(i)"
   ]
  },
  {
   "cell_type": "markdown",
   "id": "0ed3a202",
   "metadata": {},
   "source": [
    "### Question-5\n",
    "Write a Python program to determine whether the given number is a Harshad Number?\n",
    "\n",
    "\n",
    "##### Answer:"
   ]
  },
  {
   "cell_type": "code",
   "execution_count": 5,
   "id": "9eccc144",
   "metadata": {},
   "outputs": [
    {
     "name": "stdout",
     "output_type": "stream",
     "text": [
      "True\n"
     ]
    }
   ],
   "source": [
    "def is_harshad(num):\n",
    "    if (num>0):\n",
    "        a = 0\n",
    "        temp = num\n",
    "        while temp>0:\n",
    "            a = a + temp%10\n",
    "            temp = temp //10\n",
    "        return not num%a\n",
    "print(is_harshad(111))"
   ]
  },
  {
   "cell_type": "markdown",
   "id": "493ae460",
   "metadata": {},
   "source": [
    "### Question-6\n",
    "Write a Python program to print all pronic numbers between 1 and 100?\n",
    "\n",
    "\n",
    "##### Answer:"
   ]
  },
  {
   "cell_type": "code",
   "execution_count": 6,
   "id": "9d58dbd8",
   "metadata": {
    "scrolled": true
   },
   "outputs": [
    {
     "name": "stdout",
     "output_type": "stream",
     "text": [
      "1\n",
      "2\n",
      "3\n",
      "4\n",
      "5\n",
      "6\n",
      "7\n",
      "8\n",
      "9\n",
      "10\n",
      "12\n",
      "18\n",
      "20\n",
      "21\n",
      "24\n",
      "27\n",
      "30\n",
      "36\n",
      "40\n",
      "42\n",
      "45\n",
      "48\n",
      "50\n",
      "54\n",
      "60\n",
      "63\n",
      "70\n",
      "72\n",
      "80\n",
      "81\n",
      "84\n",
      "90\n"
     ]
    }
   ],
   "source": [
    "# Taking the function from the answer of the question-5\n",
    "\n",
    "for i in range(1,100):\n",
    "    if is_harshad(i):\n",
    "        print(i)"
   ]
  },
  {
   "cell_type": "code",
   "execution_count": null,
   "id": "20174ae0",
   "metadata": {},
   "outputs": [],
   "source": []
  },
  {
   "cell_type": "code",
   "execution_count": null,
   "id": "03db4bd5",
   "metadata": {},
   "outputs": [],
   "source": []
  }
 ],
 "metadata": {
  "kernelspec": {
   "display_name": "Python 3 (ipykernel)",
   "language": "python",
   "name": "python3"
  },
  "language_info": {
   "codemirror_mode": {
    "name": "ipython",
    "version": 3
   },
   "file_extension": ".py",
   "mimetype": "text/x-python",
   "name": "python",
   "nbconvert_exporter": "python",
   "pygments_lexer": "ipython3",
   "version": "3.9.7"
  }
 },
 "nbformat": 4,
 "nbformat_minor": 5
}
