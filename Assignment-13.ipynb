{
 "cells": [
  {
   "cell_type": "markdown",
   "id": "e555fe12",
   "metadata": {},
   "source": [
    "### Question-1\n",
    "What advantages do Excel spreadsheets have over CSV spreadsheets?\n",
    "\n",
    "\n",
    "##### Answer:\n",
    "Excel spreadsheets can perform data operations whereas CSV spreadsheets can't perform operations on data. Again for the use in data-warehouse, excel is more preferable for its detailed standardized schema specification.\n",
    "\n",
    "Apart from that Excel can store different form of data like text, charts, graphs and so on but CSV can't do it."
   ]
  },
  {
   "cell_type": "markdown",
   "id": "1989e24d",
   "metadata": {},
   "source": [
    "### Question-2\n",
    "What do you pass to csv.reader() and csv.writer() to create reader and writer objects?\n",
    "\n",
    "\n",
    "##### Answer:\n",
    "First it need to call the open() function with an argument of 'r' and then inside the reader() function the file object should be passed for reader() object. For writer, first call the open() function with an argument of 'w' and then call writer() with argument of file. The following code will be used for:"
   ]
  },
  {
   "cell_type": "code",
   "execution_count": 1,
   "id": "46831fe5",
   "metadata": {},
   "outputs": [
    {
     "name": "stdout",
     "output_type": "stream",
     "text": [
      "['No', 'Name', 'Dept.']\n",
      "[]\n",
      "['1', 'Tusar', 'EEE']\n",
      "[]\n",
      "['2', 'Ahmed', 'EEE']\n",
      "[]\n"
     ]
    }
   ],
   "source": [
    "import csv     \n",
    "        \n",
    "# For writer function\n",
    "\n",
    "csv_list = [['No', 'Name', 'Dept.'], [1, 'Tusar', 'EEE'], [2, 'Ahmed', 'EEE']]\n",
    "with open('students.csv', 'w') as file:\n",
    "    writer = csv.writer(file)\n",
    "    writer.writerows(csv_list)\n",
    "    \n",
    "    \n",
    "# for reader function\n",
    "with open('students.csv', 'r') as file:\n",
    "    reader = csv.reader(file) \n",
    "    for row in reader:\n",
    "        print(row)"
   ]
  },
  {
   "cell_type": "markdown",
   "id": "994b7234",
   "metadata": {},
   "source": [
    "### Question-3\n",
    "What modes do File objects for reader and writer objects need to be opened in?\n",
    "\n",
    "\n",
    "##### Answer:\n",
    "File objects for reader and writer objects need to be opened in 'r+' or 'w+' modes."
   ]
  },
  {
   "cell_type": "markdown",
   "id": "465fe0d4",
   "metadata": {},
   "source": [
    "### Question-4\n",
    "What method takes a list argument and writes it to a CSV file?\n",
    "\n",
    "\n",
    "##### Answer:\n",
    "The writerows() method takes a list of argument and writes it to a CSV file."
   ]
  },
  {
   "cell_type": "markdown",
   "id": "c82529ba",
   "metadata": {},
   "source": [
    "### Question-5\n",
    "What do the keyword arguments delimiter and line terminator do?\n",
    "\n",
    "\n",
    "##### Answer:\n",
    "The delimiter and lineterminator keyword argument changes the delimiter and line terminator characters of the file."
   ]
  },
  {
   "cell_type": "markdown",
   "id": "075049ac",
   "metadata": {},
   "source": [
    "### Question-6\n",
    "What function takes a string of JSON data and returns a Python data structure?\n",
    "\n",
    "\n",
    "##### Answer:\n",
    "The .loads() method takens a string of JSON data and return a python data structure."
   ]
  },
  {
   "cell_type": "markdown",
   "id": "7b2fc734",
   "metadata": {},
   "source": [
    "### Question-7\n",
    "What function takes a Python data structure and returns a string of JSON data?\n",
    "\n",
    "\n",
    "##### Answer:\n",
    "The .dumps() function takes a python data structure and return a string of JSON data."
   ]
  },
  {
   "cell_type": "code",
   "execution_count": null,
   "id": "40e5ff31",
   "metadata": {},
   "outputs": [],
   "source": []
  }
 ],
 "metadata": {
  "kernelspec": {
   "display_name": "Python 3 (ipykernel)",
   "language": "python",
   "name": "python3"
  },
  "language_info": {
   "codemirror_mode": {
    "name": "ipython",
    "version": 3
   },
   "file_extension": ".py",
   "mimetype": "text/x-python",
   "name": "python",
   "nbconvert_exporter": "python",
   "pygments_lexer": "ipython3",
   "version": "3.9.7"
  }
 },
 "nbformat": 4,
 "nbformat_minor": 5
}
