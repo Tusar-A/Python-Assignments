{
 "cells": [
  {
   "cell_type": "markdown",
   "id": "77b82e14",
   "metadata": {},
   "source": [
    "### Question-1\n",
    "Is the Python Standard Library included with PyInputPlus?\n",
    "\n",
    "#### Answer\n",
    "PyInputPlus is not a part of python standard library, It  need to be install seperately."
   ]
  },
  {
   "cell_type": "markdown",
   "id": "c63a3f2b",
   "metadata": {},
   "source": [
    "### Question-2\n",
    "Why is PyInputPlus commonly imported with import pyinputplus as pypi?\n",
    "\n",
    "\n",
    "#### Answer:\n",
    "pyinputplus is imported as pypi which is the alias of pyinputplus, so that the module can have a shorter name that makes it easier while calling any function of the module."
   ]
  },
  {
   "cell_type": "markdown",
   "id": "269398da",
   "metadata": {},
   "source": [
    "### Question-3\n",
    "How do you distinguish between inputInt() and inputFloat()?\n",
    "\n",
    "#### Answer:\n",
    "The distinguish between inputInt() and inputFloat() is the type of input these functions take. The inputInt() takes only integer value and the inputFloat() function takes only floating-point numeric value."
   ]
  },
  {
   "cell_type": "markdown",
   "id": "e5b6d10a",
   "metadata": {},
   "source": [
    "### Question-4\n",
    "Using PyInputPlus, how do you ensure that the user enters a whole number between 0 and 99?\n",
    "\n",
    "#### Answer:\n",
    "Using inputInt() function, it can be ensured that the user enters whole number between 0 and 99."
   ]
  },
  {
   "cell_type": "markdown",
   "id": "5783f6b7",
   "metadata": {},
   "source": [
    "### Question-5\n",
    "What is transferred to the keyword arguments allowRegexes and blockRegexes?\n",
    "\n",
    "#### Answer:\n",
    "We can use regular expressions to specify whether an input is allowed ot not. the allowRegexes and blockRegexes arguments take a list of regular expression strings and determine what the PyInputPlus function will accept or reject as valid input."
   ]
  },
  {
   "cell_type": "markdown",
   "id": "853be8e0",
   "metadata": {},
   "source": [
    "### Question-6\n",
    "If a blank input is entered three times, what does inputStr(limit=3) do?\n",
    "\n",
    "\n",
    "#### Answer:\n",
    "After entering blank input three time, it will throw RetryLimiitException exception."
   ]
  },
  {
   "cell_type": "markdown",
   "id": "18d0a87c",
   "metadata": {},
   "source": [
    "### Question-7\n",
    "If blank input is entered three times, what does inputStr(limit=3, default=&#39;hello&#39;) do?\n",
    "\n",
    "#### Answer:\n",
    "After entering blank input three time, it will return the default given value instead of throwing an error."
   ]
  },
  {
   "cell_type": "code",
   "execution_count": null,
   "id": "1d7df8ee",
   "metadata": {},
   "outputs": [],
   "source": []
  }
 ],
 "metadata": {
  "kernelspec": {
   "display_name": "Python 3 (ipykernel)",
   "language": "python",
   "name": "python3"
  },
  "language_info": {
   "codemirror_mode": {
    "name": "ipython",
    "version": 3
   },
   "file_extension": ".py",
   "mimetype": "text/x-python",
   "name": "python",
   "nbconvert_exporter": "python",
   "pygments_lexer": "ipython3",
   "version": "3.9.7"
  }
 },
 "nbformat": 4,
 "nbformat_minor": 5
}
