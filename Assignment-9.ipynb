{
 "cells": [
  {
   "cell_type": "markdown",
   "id": "383d2ba4",
   "metadata": {},
   "source": [
    "### Question-1\n",
    "To what does a relative path refer?\n",
    "\n",
    "#### Answer:\n",
    "A relative path is a path that describes the location of a directory relative to the current directory."
   ]
  },
  {
   "cell_type": "markdown",
   "id": "6a9183d2",
   "metadata": {},
   "source": [
    "### Question-2\n",
    "What does an absolute path start with your operating system?\n",
    "\n",
    "#### Answer:\n",
    "An absolute path is a path that contains the entire path to file or directory that need to access."
   ]
  },
  {
   "cell_type": "markdown",
   "id": "e728fbed",
   "metadata": {},
   "source": [
    "### Question-3\n",
    "What do the functions os.getcwd() and os.chdir() do?\n",
    "\n",
    "#### Answer:\n",
    "The os.getcwd() allows to see the current working directory and the os.chdir() allows to change the current working directory."
   ]
  },
  {
   "cell_type": "markdown",
   "id": "c2dff35b",
   "metadata": {},
   "source": [
    "### Question-4\n",
    "What are the . and .. folders?\n",
    "\n",
    "#### Answer:\n",
    "\".\" represents the current folder and \"..\" refers to the folder above it or the parent folder."
   ]
  },
  {
   "cell_type": "markdown",
   "id": "2a241a02",
   "metadata": {},
   "source": [
    "### Question-5\n",
    "In C:\\bacon\\eggs\\spam.txt, which part is the dir name, and which part is the base name?\n",
    "\n",
    "#### Answer:\n",
    "Here, C:\\bacon\\eggs\\ is the dir name and the spam.txt is the base name."
   ]
  },
  {
   "cell_type": "markdown",
   "id": "d457ae2f",
   "metadata": {},
   "source": [
    "### Question-6\n",
    "What are the three “mode” arguments that can be passed to the open() function?\n",
    "\n",
    "#### Answer:\n",
    "The three mode arguments that can be passed to the open() function are \"r\", \"w\", \"r+\""
   ]
  },
  {
   "cell_type": "markdown",
   "id": "0dd02dbf",
   "metadata": {},
   "source": [
    "### Question-7\n",
    "What happens if an existing file is opened in write mode?\n",
    "\n",
    "\n",
    "#### Answer:\n",
    "If a file is opened in write mode that already existed then its contents are discarded and the file will be treated as new empty file."
   ]
  },
  {
   "cell_type": "markdown",
   "id": "77e2ef4a",
   "metadata": {},
   "source": [
    "### Question-8\n",
    "How do you tell the difference between read() and readlines()?\n",
    "\n",
    "\n",
    "#### Answer:\n",
    "The read() will return the whole contents of the file and the readlines() will return line of the file."
   ]
  },
  {
   "cell_type": "markdown",
   "id": "b5375632",
   "metadata": {},
   "source": [
    "### Question-9\n",
    "What data structure does a shelf value resemble?\n",
    "\n",
    "#### Answer:\n",
    "A shelf value resembles a dictionary value which has keys and values,, along with keys() and values() methods."
   ]
  },
  {
   "cell_type": "code",
   "execution_count": null,
   "id": "412fc7db",
   "metadata": {},
   "outputs": [],
   "source": []
  }
 ],
 "metadata": {
  "kernelspec": {
   "display_name": "Python 3 (ipykernel)",
   "language": "python",
   "name": "python3"
  },
  "language_info": {
   "codemirror_mode": {
    "name": "ipython",
    "version": 3
   },
   "file_extension": ".py",
   "mimetype": "text/x-python",
   "name": "python",
   "nbconvert_exporter": "python",
   "pygments_lexer": "ipython3",
   "version": "3.9.7"
  }
 },
 "nbformat": 4,
 "nbformat_minor": 5
}
