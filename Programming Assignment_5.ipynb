{
 "cells": [
  {
   "cell_type": "markdown",
   "id": "abe25d8a",
   "metadata": {},
   "source": [
    "### Question-1\n",
    "Write a Python Program to Find LCM?\n",
    "\n",
    "### Answer:"
   ]
  },
  {
   "cell_type": "code",
   "execution_count": 1,
   "id": "dec18653",
   "metadata": {},
   "outputs": [
    {
     "data": {
      "text/plain": [
       "('The value of LCM: ', 36)"
      ]
     },
     "execution_count": 1,
     "metadata": {},
     "output_type": "execute_result"
    }
   ],
   "source": [
    "def lcm_calculate(a, b):\n",
    "    \n",
    "    if a>b:\n",
    "        greater = a\n",
    "    else:\n",
    "        greater = b\n",
    "        \n",
    "    while True:\n",
    "        if (greater%a==0) and (greater%b)==0:\n",
    "            lcm = greater\n",
    "            break\n",
    "            \n",
    "        greater+=1\n",
    "        \n",
    "    return \"The value of LCM: \", lcm\n",
    "\n",
    "lcm_calculate(4,9)"
   ]
  },
  {
   "cell_type": "markdown",
   "id": "a9af31a5",
   "metadata": {},
   "source": [
    "### Question-2\n",
    "Write a Python Program to Find HCF?\n",
    "\n",
    "\n",
    "##### Answer:"
   ]
  },
  {
   "cell_type": "code",
   "execution_count": 2,
   "id": "f79ed1ad",
   "metadata": {},
   "outputs": [
    {
     "data": {
      "text/plain": [
       "('HCF value is: ', 2)"
      ]
     },
     "execution_count": 2,
     "metadata": {},
     "output_type": "execute_result"
    }
   ],
   "source": [
    "def hcf_calculate(a,b):\n",
    "    if a<b:\n",
    "        lower = a\n",
    "    else:\n",
    "        lower = b\n",
    "        \n",
    "    for i in range(1, lower+1):\n",
    "        if (a%i==0) and (b%i==0):\n",
    "            hcf = i\n",
    "    return \"HCF value is: \", hcf\n",
    "\n",
    "hcf_calculate(34,44)"
   ]
  },
  {
   "cell_type": "markdown",
   "id": "f131ad5e",
   "metadata": {},
   "source": [
    "### Question-3\n",
    "Write a Python Program to Convert Decimal to Binary, Octal and Hexadecimal?\n",
    "\n",
    "\n",
    "##### Answer:"
   ]
  },
  {
   "cell_type": "code",
   "execution_count": 3,
   "id": "925bc748",
   "metadata": {},
   "outputs": [
    {
     "name": "stdout",
     "output_type": "stream",
     "text": [
      "Binary value from decimal is:  0b1100100\n",
      "Hexadecimal value from octal is:  0x15747\n"
     ]
    }
   ],
   "source": [
    "def type_conversion(dec, octal):\n",
    "    print(\"Binary value from decimal is: \", bin(dec))\n",
    "    print(\"Hexadecimal value from octal is: \", hex(octal))\n",
    "    \n",
    "type_conversion(100, 87879)"
   ]
  },
  {
   "cell_type": "markdown",
   "id": "579e2919",
   "metadata": {},
   "source": [
    "### Question-4\n",
    "Write a Python Program To Find ASCII value of a character?\n",
    "\n",
    "\n",
    "##### Answer:"
   ]
  },
  {
   "cell_type": "code",
   "execution_count": 4,
   "id": "120c64a3",
   "metadata": {},
   "outputs": [
    {
     "name": "stdout",
     "output_type": "stream",
     "text": [
      "Enter a character: k\n"
     ]
    },
    {
     "data": {
      "text/plain": [
       "('The ASCII value of ', 'k', 'is: ', 107)"
      ]
     },
     "execution_count": 4,
     "metadata": {},
     "output_type": "execute_result"
    }
   ],
   "source": [
    "def char_to_ascii(char):\n",
    "    return \"The ASCII value of \", char, \"is: \", ord(char)\n",
    "\n",
    "char_input = input(\"Enter a character: \")\n",
    "char_to_ascii(char_input)"
   ]
  },
  {
   "cell_type": "markdown",
   "id": "d64f282f",
   "metadata": {},
   "source": [
    "## Question-5\n",
    "5. Write a Python Program to Make a Simple Calculator with 4 basic mathematical operations?\n",
    "\n",
    "\n",
    "##### Answer:"
   ]
  },
  {
   "cell_type": "code",
   "execution_count": 5,
   "id": "305056ae",
   "metadata": {},
   "outputs": [
    {
     "name": "stdout",
     "output_type": "stream",
     "text": [
      "Enter the first value: 6\n",
      "Enter the second value: 10\n",
      "Enter the operator: -\n"
     ]
    },
    {
     "data": {
      "text/plain": [
       "4"
      ]
     },
     "execution_count": 5,
     "metadata": {},
     "output_type": "execute_result"
    }
   ],
   "source": [
    "try:\n",
    "    def calculator(a,b, o):\n",
    "\n",
    "        if o == '+':\n",
    "            return a+b\n",
    "        elif o == '-':\n",
    "            return abs(a-b)\n",
    "        elif o == '*':\n",
    "            return a*b\n",
    "        elif o == '/':\n",
    "            return a/b\n",
    "        else:\n",
    "            return \"Check the operator and numbers.\"\n",
    "except Exception as e:\n",
    "    print(e)\n",
    "    \n",
    "\n",
    "a = int(input('Enter the first value: '))\n",
    "b = int(input('Enter the second value: '))\n",
    "o = input('Enter the operator: ')\n",
    "calculator(a,b,o)"
   ]
  },
  {
   "cell_type": "code",
   "execution_count": null,
   "id": "59d30750",
   "metadata": {},
   "outputs": [],
   "source": []
  }
 ],
 "metadata": {
  "kernelspec": {
   "display_name": "Python 3 (ipykernel)",
   "language": "python",
   "name": "python3"
  },
  "language_info": {
   "codemirror_mode": {
    "name": "ipython",
    "version": 3
   },
   "file_extension": ".py",
   "mimetype": "text/x-python",
   "name": "python",
   "nbconvert_exporter": "python",
   "pygments_lexer": "ipython3",
   "version": "3.9.7"
  }
 },
 "nbformat": 4,
 "nbformat_minor": 5
}
