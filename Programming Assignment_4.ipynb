{
 "cells": [
  {
   "cell_type": "markdown",
   "id": "478e0615",
   "metadata": {},
   "source": [
    "### Question-1\n",
    "Write a Python Program to Find the Factorial of a Number?\n",
    "\n",
    "##### Answer:"
   ]
  },
  {
   "cell_type": "code",
   "execution_count": 1,
   "id": "8b883756",
   "metadata": {},
   "outputs": [
    {
     "name": "stdout",
     "output_type": "stream",
     "text": [
      "Input last number to find it's factorial: 5\n"
     ]
    },
    {
     "data": {
      "text/plain": [
       "'The factorial of 5 is 120'"
      ]
     },
     "execution_count": 1,
     "metadata": {},
     "output_type": "execute_result"
    }
   ],
   "source": [
    "# program to find factorial\n",
    "\n",
    "def factorial():\n",
    "    user_input = int(input(\"Input last number to find it's factorial: \"))\n",
    "    multi = 1\n",
    "    for i in range(1, user_input+1):\n",
    "        multi = multi*i\n",
    "        \n",
    "    return \"The factorial of {} is {}\".format(user_input, multi)\n",
    "\n",
    "factorial()"
   ]
  },
  {
   "cell_type": "markdown",
   "id": "7e786e04",
   "metadata": {},
   "source": [
    "### Question-2\n",
    "Write a Python Program to Display the multiplication Table?\n",
    "\n",
    "##### Answer:"
   ]
  },
  {
   "cell_type": "code",
   "execution_count": 2,
   "id": "e7f6da98",
   "metadata": {},
   "outputs": [
    {
     "name": "stdout",
     "output_type": "stream",
     "text": [
      "Input the number of which you need multiplication table: 5\n",
      "5x1 = 5\n",
      "5x2 = 10\n",
      "5x3 = 15\n",
      "5x4 = 20\n",
      "5x5 = 25\n",
      "5x6 = 30\n",
      "5x7 = 35\n",
      "5x8 = 40\n",
      "5x9 = 45\n",
      "5x10 = 50\n"
     ]
    }
   ],
   "source": [
    "# displaying multiplication table\n",
    "\n",
    "def multiplication_table():\n",
    "    user_input = int(input(\"Input the number of which you need multiplication table: \"))\n",
    "    \n",
    "    # creating multiplication table \n",
    "    for i in range(1, 11):\n",
    "        print(\"{}x{} = {}\".format(user_input, i, user_input*i))\n",
    "            \n",
    "multiplication_table()"
   ]
  },
  {
   "cell_type": "markdown",
   "id": "19d05b59",
   "metadata": {},
   "source": [
    "### Question-3\n",
    "Write a Python Program to Print the Fibonacci sequence?\n",
    "\n",
    "##### Answer:"
   ]
  },
  {
   "cell_type": "code",
   "execution_count": 3,
   "id": "fcbae300",
   "metadata": {},
   "outputs": [
    {
     "name": "stdout",
     "output_type": "stream",
     "text": [
      "Input the sequence number: 5\n",
      "1 2 3 5 "
     ]
    }
   ],
   "source": [
    "# creating fibonacci sequence\n",
    "\n",
    "def fib_seq():\n",
    "    user_input = int(input(\"Input the sequence number: \"))\n",
    "    \n",
    "    first_val = 0\n",
    "    second_val = 1\n",
    "    \n",
    "    for i in range(2,user_input+1):\n",
    "        third_val = first_val + second_val\n",
    "        \n",
    "        first_val = second_val\n",
    "        second_val = third_val\n",
    "        \n",
    "        print(third_val, end=\" \")\n",
    "        \n",
    "fib_seq()"
   ]
  },
  {
   "cell_type": "markdown",
   "id": "4d1ca327",
   "metadata": {},
   "source": [
    "### Question-4\n",
    "Write a Python Program to Check Armstrong Number?\n",
    "\n",
    "##### Answer:"
   ]
  },
  {
   "cell_type": "code",
   "execution_count": 4,
   "id": "3f93f778",
   "metadata": {},
   "outputs": [
    {
     "name": "stdout",
     "output_type": "stream",
     "text": [
      "Enter a number: 400\n",
      "400 is not a Armstrong number.\n"
     ]
    }
   ],
   "source": [
    "def armstrong_num(num):\n",
    "    summ = 0\n",
    "    \n",
    "    temp = num\n",
    "    \n",
    "    while temp>0:\n",
    "        val = temp%10\n",
    "        summ +=val**3\n",
    "        temp //=10\n",
    "        \n",
    "    if num == summ:\n",
    "        print(\"{} is an Armstrong number.\".format(num))\n",
    "    else:\n",
    "        print(\"{} is not a Armstrong number.\".format(num))\n",
    "\n",
    "        \n",
    "user_input = int(input(\"Enter a number: \"))\n",
    "armstrong_num(user_input)"
   ]
  },
  {
   "cell_type": "markdown",
   "id": "58c9f2e3",
   "metadata": {},
   "source": [
    "### Question-5\n",
    "Write a Python Program to Find Armstrong Number in an Interval?\n",
    "\n",
    "##### Answer:"
   ]
  },
  {
   "cell_type": "code",
   "execution_count": 5,
   "id": "8bd7063a",
   "metadata": {},
   "outputs": [
    {
     "name": "stdout",
     "output_type": "stream",
     "text": [
      "Enter a number: 500\n",
      "[1, 153, 370, 371, 407]\n"
     ]
    }
   ],
   "source": [
    "def armstrong_num(num):\n",
    "    number_lst = []\n",
    "    for i in range(1, num):\n",
    "        summ = 0\n",
    "        temp = i\n",
    "\n",
    "        while temp>0:\n",
    "            val = temp%10\n",
    "            summ +=val**3\n",
    "            temp //=10\n",
    "\n",
    "        if i == summ:\n",
    "            number_lst.append(i)\n",
    "\n",
    "    print(number_lst)\n",
    "\n",
    "        \n",
    "user_input = int(input(\"Enter a number: \"))\n",
    "armstrong_num(user_input)"
   ]
  },
  {
   "cell_type": "markdown",
   "id": "7a295ac9",
   "metadata": {},
   "source": [
    "### Question-6\n",
    "Write a Python Program to Find the Sum of Natural Numbers?\n",
    "\n",
    "##### Answer:"
   ]
  },
  {
   "cell_type": "code",
   "execution_count": 6,
   "id": "1cc4aedb",
   "metadata": {},
   "outputs": [
    {
     "name": "stdout",
     "output_type": "stream",
     "text": [
      "Enter a number: 5\n",
      "15\n"
     ]
    }
   ],
   "source": [
    "num = 0\n",
    "usr_inp = int(input(\"Enter a number: \"))\n",
    "\n",
    "while usr_inp>0:\n",
    "    num +=usr_inp\n",
    "    usr_inp-=1\n",
    "    \n",
    "print(num)"
   ]
  },
  {
   "cell_type": "code",
   "execution_count": null,
   "id": "12e6d33b",
   "metadata": {},
   "outputs": [],
   "source": []
  }
 ],
 "metadata": {
  "kernelspec": {
   "display_name": "Python 3 (ipykernel)",
   "language": "python",
   "name": "python3"
  },
  "language_info": {
   "codemirror_mode": {
    "name": "ipython",
    "version": 3
   },
   "file_extension": ".py",
   "mimetype": "text/x-python",
   "name": "python",
   "nbconvert_exporter": "python",
   "pygments_lexer": "ipython3",
   "version": "3.9.7"
  }
 },
 "nbformat": 4,
 "nbformat_minor": 5
}
