{
 "cells": [
  {
   "cell_type": "markdown",
   "id": "73462e8a",
   "metadata": {},
   "source": [
    "### Question-1\n",
    "\n",
    "Define a class with a generator which can iterate the numbers, which are divisible by\n",
    "7, between a given range 0 and n."
   ]
  },
  {
   "cell_type": "code",
   "execution_count": 1,
   "id": "3511d9ce",
   "metadata": {},
   "outputs": [
    {
     "name": "stdout",
     "output_type": "stream",
     "text": [
      "10\n",
      "[0, 7]\n",
      "0 True\n",
      "1 False\n",
      "2 False\n",
      "3 False\n",
      "4 False\n",
      "5 False\n",
      "6 False\n",
      "7 True\n",
      "8 False\n",
      "9 False\n"
     ]
    }
   ],
   "source": [
    "n = int(input())\n",
    "divBy7 = [i for i in range(0, n) if (i % 7 == 0)]\n",
    "print(divBy7)\n",
    "\n",
    "def divChecker(n):\n",
    "    for i in range(n):\n",
    "        if i % 7 == 0:\n",
    "            value = True\n",
    "        else:\n",
    "            value = False\n",
    "        print(i, value)\n",
    "\n",
    "divChecker(n)"
   ]
  },
  {
   "cell_type": "markdown",
   "id": "766587ea",
   "metadata": {},
   "source": [
    "### Question 2:\n",
    "Write a program to compute the frequency of the words from the input. The output\n",
    "should output after sorting the key alphanumerically.\n",
    "\n",
    "Suppose the following input is supplied to the program:\n",
    "\n",
    "New to Python or choosing between Python 2 and Python 3? Read Python 2 or\n",
    "Python 3.\n",
    "\n",
    "Then, the output should be:\n",
    "\n",
    "2:2\n",
    "\n",
    "3.:1\n",
    "\n",
    "3?:1\n",
    "\n",
    "New:1\n",
    "\n",
    "Python:5\n",
    "\n",
    "Read:1\n",
    "\n",
    "and:1\n",
    "\n",
    "between:1\n",
    "\n",
    "choosing:1\n",
    "\n",
    "or:2\n",
    "\n",
    "to:1"
   ]
  },
  {
   "cell_type": "code",
   "execution_count": 2,
   "id": "9b70030a",
   "metadata": {},
   "outputs": [
    {
     "name": "stdout",
     "output_type": "stream",
     "text": [
      "Enter the input: New to Python or choosing between Python 2 and Python 3? Read Python 2 or Python 3.\n",
      "2 : 2\n",
      "3. : 1\n",
      "3? : 1\n",
      "New : 1\n",
      "Python : 5\n",
      "Read : 1\n",
      "and : 1\n",
      "between : 1\n",
      "choosing : 1\n",
      "or : 2\n",
      "to : 1\n"
     ]
    }
   ],
   "source": [
    "freqency = {}\n",
    "input_sentance = input(\"Enter the input: \")\n",
    "\n",
    "for word in input_sentance.split():\n",
    "    freqency[word] = freqency.get(word,0)+1\n",
    "    \n",
    "words = list(freqency.keys())\n",
    "words.sort()\n",
    "\n",
    "for i in words:\n",
    "    print(i,\":\",freqency[i])"
   ]
  },
  {
   "cell_type": "markdown",
   "id": "b8a212a5",
   "metadata": {},
   "source": [
    "### Question 3:\n",
    "\n",
    "Define a class Person and its two child classes: Male and Female. All classes have a\n",
    "method &quot;getGender&quot; which can print &quot;Male&quot; for Male class and &quot;Female&quot; for Female\n",
    "class."
   ]
  },
  {
   "cell_type": "code",
   "execution_count": 3,
   "id": "5f18103c",
   "metadata": {},
   "outputs": [
    {
     "name": "stdout",
     "output_type": "stream",
     "text": [
      "Male\n"
     ]
    }
   ],
   "source": [
    "# Creating parent class\n",
    "class Person:\n",
    "    def GetGender(self):\n",
    "        return \"unknown\"\n",
    "\n",
    "# male child class    \n",
    "class Male(Person):\n",
    "    def GetGender(self):\n",
    "        return \"Male\"\n",
    "    \n",
    "# female child class\n",
    "class Female(Person):\n",
    "    def GetGender(self):\n",
    "        return \"Female\"\n",
    "    \n",
    "male = Male()\n",
    "print(male.GetGender())"
   ]
  },
  {
   "cell_type": "markdown",
   "id": "416c58c4",
   "metadata": {},
   "source": [
    "### Question 4:\n",
    "Please write a program to generate all sentences where subject is in [&quot;I&quot;, &quot;You&quot;] and\n",
    "verb is in [&quot;Play&quot;, &quot;Love&quot;] and the object is in [&quot;Hockey&quot;,&quot;Football&quot;]."
   ]
  },
  {
   "cell_type": "code",
   "execution_count": 4,
   "id": "02b13311",
   "metadata": {},
   "outputs": [
    {
     "name": "stdout",
     "output_type": "stream",
     "text": [
      "I Play Hockey.\n",
      "\n",
      "I Play Football.\n",
      "\n",
      "I Love Hockey.\n",
      "\n",
      "I Love Football.\n",
      "\n",
      "You Play Hockey.\n",
      "\n",
      "You Play Football.\n",
      "\n",
      "You Love Hockey.\n",
      "\n",
      "You Love Football.\n",
      "\n"
     ]
    }
   ],
   "source": [
    "subject = [\"I\", \"You\"]\n",
    "verb = [\"Play\", \"Love\"]\n",
    "objects = [\"Hockey\",\"Football\"]\n",
    "\n",
    "for sub in subject:\n",
    "    for verbs in verb:\n",
    "        for obj in objects:\n",
    "            print(\"{} {} {}.\\n\".format(sub, verbs, obj))"
   ]
  },
  {
   "cell_type": "markdown",
   "id": "26e18d7a",
   "metadata": {},
   "source": [
    "### Question 5:\n",
    "Please write a program to compress and decompress the string &quot;hello world!hello\n",
    "world!hello world!hello world!&quot;."
   ]
  },
  {
   "cell_type": "code",
   "execution_count": 5,
   "id": "dd4e7590",
   "metadata": {},
   "outputs": [
    {
     "name": "stdout",
     "output_type": "stream",
     "text": [
      "compressed string:  b'x\\x9c\\xcbH\\xcd\\xc9\\xc9W(\\xcf/\\xcaIQ\\xcc \\x82\\r\\x00\\xbd[\\x11\\xf5'\n",
      "Decompressed string:  b'hello world!hello world!hello world!hello world!'\n"
     ]
    }
   ],
   "source": [
    "import zlib\n",
    "text = \"hello world!hello world!hello world!hello world!\"\n",
    "text = bytes(text, 'utf-8')\n",
    "\n",
    "#compressed string\n",
    "comp = zlib.compress(text)\n",
    "print(\"compressed string: \", comp)\n",
    "\n",
    "#decompressed string\n",
    "dcomp = zlib.decompress(comp)\n",
    "print(\"Decompressed string: \", dcomp)"
   ]
  },
  {
   "cell_type": "markdown",
   "id": "3304eeed",
   "metadata": {},
   "source": [
    "### Question Question 6:\n",
    "Please write a binary search function which searches an item in a sorted list. The\n",
    "function should return the index of element to be searched in the list."
   ]
  },
  {
   "cell_type": "code",
   "execution_count": 6,
   "id": "dc9612f4",
   "metadata": {},
   "outputs": [
    {
     "name": "stdout",
     "output_type": "stream",
     "text": [
      "None\n"
     ]
    }
   ],
   "source": [
    "def binary_search(lst, items):\n",
    "    low = 0\n",
    "    high = len(lst)-1\n",
    "    \n",
    "    while low<=high:\n",
    "        mid = round((low+high)/2)\n",
    "        \n",
    "        if lst[mid] == items:\n",
    "            return mid\n",
    "        elif lst[mid]>items:\n",
    "            high = mid-1\n",
    "        else:\n",
    "            low = mid+1\n",
    "    return None\n",
    "lst = [1,2,3,4,6,7]\n",
    "print(binary_search(lst,11))"
   ]
  },
  {
   "cell_type": "code",
   "execution_count": null,
   "id": "f55c9fae",
   "metadata": {},
   "outputs": [],
   "source": []
  }
 ],
 "metadata": {
  "kernelspec": {
   "display_name": "Python 3 (ipykernel)",
   "language": "python",
   "name": "python3"
  },
  "language_info": {
   "codemirror_mode": {
    "name": "ipython",
    "version": 3
   },
   "file_extension": ".py",
   "mimetype": "text/x-python",
   "name": "python",
   "nbconvert_exporter": "python",
   "pygments_lexer": "ipython3",
   "version": "3.9.13"
  }
 },
 "nbformat": 4,
 "nbformat_minor": 5
}
