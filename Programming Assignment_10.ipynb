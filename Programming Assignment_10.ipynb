{
 "cells": [
  {
   "cell_type": "markdown",
   "id": "ce2554b2",
   "metadata": {},
   "source": [
    "### Question-1\n",
    "Write a Python program to find sum of elements in list?\n",
    "\n",
    "\n",
    "##### Answer:"
   ]
  },
  {
   "cell_type": "code",
   "execution_count": 1,
   "id": "0bdbf2df",
   "metadata": {},
   "outputs": [
    {
     "data": {
      "text/plain": [
       "14"
      ]
     },
     "execution_count": 1,
     "metadata": {},
     "output_type": "execute_result"
    }
   ],
   "source": [
    "def find_sum(lst):\n",
    "    total = 0\n",
    "    try:\n",
    "        total = sum(lst)\n",
    "        return total\n",
    "    except Exception as e:\n",
    "        return \"There is an error {}. Input list only\".format(e)\n",
    "\n",
    "find_sum([2,3,4,5])"
   ]
  },
  {
   "cell_type": "markdown",
   "id": "8c2ac7be",
   "metadata": {},
   "source": [
    "### Question-2\n",
    "Write a Python program to Multiply all numbers in the list?\n",
    "\n",
    "\n",
    "##### Answer:"
   ]
  },
  {
   "cell_type": "code",
   "execution_count": 2,
   "id": "98c612bb",
   "metadata": {},
   "outputs": [
    {
     "data": {
      "text/plain": [
       "24"
      ]
     },
     "execution_count": 2,
     "metadata": {},
     "output_type": "execute_result"
    }
   ],
   "source": [
    "def find_multiply(lst):\n",
    "    total_val = 1\n",
    "    try:\n",
    "        for i in lst:\n",
    "            total_val *= i\n",
    "        return total_val\n",
    "    except Exception as e:\n",
    "        return \"There was an error \", e\n",
    "\n",
    "find_multiply([1,2,3,4])        "
   ]
  },
  {
   "cell_type": "markdown",
   "id": "d760a0ac",
   "metadata": {},
   "source": [
    "### Question-3\n",
    "Write a Python program to find smallest number in a list?\n",
    "\n",
    "\n",
    "##### Answer"
   ]
  },
  {
   "cell_type": "code",
   "execution_count": 3,
   "id": "d6fe803a",
   "metadata": {},
   "outputs": [
    {
     "data": {
      "text/plain": [
       "1"
      ]
     },
     "execution_count": 3,
     "metadata": {},
     "output_type": "execute_result"
    }
   ],
   "source": [
    "def find_low(lst):\n",
    "    try:\n",
    "        low = min(lst)\n",
    "        return low\n",
    "    \n",
    "    except Exception as error:\n",
    "        return \"There was an error\", error\n",
    "\n",
    "find_low([1,2,3,4,5,2])"
   ]
  },
  {
   "cell_type": "markdown",
   "id": "076ba20f",
   "metadata": {},
   "source": [
    "### Question-4\n",
    "Write a Python program to find largest number in a list?\n",
    "\n",
    "\n",
    "##### Answer:"
   ]
  },
  {
   "cell_type": "code",
   "execution_count": 4,
   "id": "34734726",
   "metadata": {},
   "outputs": [
    {
     "data": {
      "text/plain": [
       "5"
      ]
     },
     "execution_count": 4,
     "metadata": {},
     "output_type": "execute_result"
    }
   ],
   "source": [
    "def find_max(lst):\n",
    "    try:\n",
    "        \n",
    "        return max(lst)\n",
    "    \n",
    "    except Exception as error:\n",
    "        return \"There was an error\", error\n",
    "\n",
    "find_max([1,2,3,4,5,2])"
   ]
  },
  {
   "cell_type": "markdown",
   "id": "bb0b5ccf",
   "metadata": {},
   "source": [
    "### Question-5\n",
    "Write a Python program to find second largest number in a list?\n",
    "\n",
    "\n",
    "##### Answer:"
   ]
  },
  {
   "cell_type": "code",
   "execution_count": 5,
   "id": "924e0ae2",
   "metadata": {},
   "outputs": [
    {
     "data": {
      "text/plain": [
       "6"
      ]
     },
     "execution_count": 5,
     "metadata": {},
     "output_type": "execute_result"
    }
   ],
   "source": [
    "def find_2nd_max(lst):\n",
    "    try:\n",
    "        sorted_list = sorted(lst)\n",
    "        \n",
    "        return sorted_list[-2]\n",
    "    \n",
    "    except Exception as error:\n",
    "        return \"There was an error\", error\n",
    "\n",
    "find_2nd_max([1,2,3,4,5,6 ,7, 2])"
   ]
  },
  {
   "cell_type": "markdown",
   "id": "8d115142",
   "metadata": {},
   "source": [
    "### Question-6\n",
    "Write a Python program to find N largest elements from a list?\n",
    "\n",
    "\n",
    "##### Answer:"
   ]
  },
  {
   "cell_type": "code",
   "execution_count": 6,
   "id": "19dc725b",
   "metadata": {},
   "outputs": [
    {
     "data": {
      "text/plain": [
       "6"
      ]
     },
     "execution_count": 6,
     "metadata": {},
     "output_type": "execute_result"
    }
   ],
   "source": [
    "def find_nth_max(lst, n):\n",
    "    try:\n",
    "        sorted_list = sorted(lst)\n",
    "        \n",
    "        return sorted_list[-n]\n",
    "    \n",
    "    except Exception as error:\n",
    "        return \"There was an error\", error\n",
    "\n",
    "find_nth_max(lst=[1,2,3,4,5,6 ,7, 2], n=2)"
   ]
  },
  {
   "cell_type": "markdown",
   "id": "7e4760e1",
   "metadata": {},
   "source": [
    "### Question-7\n",
    "Write a Python program to print even numbers in a list?\n",
    "\n",
    "##### Answer:"
   ]
  },
  {
   "cell_type": "code",
   "execution_count": 7,
   "id": "b418363e",
   "metadata": {},
   "outputs": [
    {
     "data": {
      "text/plain": [
       "[2, 4, 6, 2]"
      ]
     },
     "execution_count": 7,
     "metadata": {},
     "output_type": "execute_result"
    }
   ],
   "source": [
    "def print_even(lst):\n",
    "    try:      \n",
    "        return list(filter(lambda x: x%2==0, lst))\n",
    "    \n",
    "    except Exception as error:\n",
    "        return \"There was an error\"\n",
    "\n",
    "print_even(lst=[1,2,3,4,5,6 ,7, 2])"
   ]
  },
  {
   "cell_type": "markdown",
   "id": "f8234095",
   "metadata": {},
   "source": [
    "### Question-8\n",
    "Write a Python program to print odd numbers in a List?\n",
    "\n",
    "\n",
    "##### Answer:"
   ]
  },
  {
   "cell_type": "code",
   "execution_count": 8,
   "id": "86046be4",
   "metadata": {},
   "outputs": [
    {
     "data": {
      "text/plain": [
       "[1, 3, 5, 7]"
      ]
     },
     "execution_count": 8,
     "metadata": {},
     "output_type": "execute_result"
    }
   ],
   "source": [
    "def print_even(lst):\n",
    "    try:      \n",
    "        return list(filter(lambda x: x%2!=0, lst))\n",
    "    \n",
    "    except Exception as error:\n",
    "        return \"There was an error\", error\n",
    "\n",
    "print_even(lst=[1,2,3,4,5,6 ,7, 2])"
   ]
  },
  {
   "cell_type": "markdown",
   "id": "bb1c0fac",
   "metadata": {},
   "source": [
    "### Question-9\n",
    "Write a Python program to Remove empty List from List?\n",
    "\n",
    "\n",
    "##### Answer;"
   ]
  },
  {
   "cell_type": "code",
   "execution_count": 9,
   "id": "ed6e1367",
   "metadata": {},
   "outputs": [
    {
     "data": {
      "text/plain": [
       "[12, 12, 11, 2, [25], 3, [454], 4]"
      ]
     },
     "execution_count": 9,
     "metadata": {},
     "output_type": "execute_result"
    }
   ],
   "source": [
    "def remove_empty(lst):\n",
    "    try:\n",
    "        for i in lst:\n",
    "            if type(i)==list and len(i)==0:\n",
    "                lst.remove(i)\n",
    "        return lst\n",
    "    \n",
    "    except Exception as error:\n",
    "        return \"There was an error\", error\n",
    "\n",
    "remove_empty([12,12,11,2, [], [25], 3, [454], 4])"
   ]
  },
  {
   "cell_type": "markdown",
   "id": "f0905e3a",
   "metadata": {},
   "source": [
    "### Question-10\n",
    "Write a Python program to Cloning or Copying a list?\n",
    "\n",
    "\n",
    "##### Answer:"
   ]
  },
  {
   "cell_type": "code",
   "execution_count": 10,
   "id": "7eb6b538",
   "metadata": {},
   "outputs": [
    {
     "data": {
      "text/plain": [
       "[12, 12, 11, 2, [], [25], 3, [454], 4]"
      ]
     },
     "execution_count": 10,
     "metadata": {},
     "output_type": "execute_result"
    }
   ],
   "source": [
    "def copy_list(lst):\n",
    "    try:\n",
    "        copied_lst = lst.copy()\n",
    "        return copied_lst\n",
    "    except Exception as error:\n",
    "        return \"There was an error,\", error\n",
    "    \n",
    "copy_list([12,12,11,2, [], [25], 3, [454], 4])"
   ]
  },
  {
   "cell_type": "markdown",
   "id": "7f77cd12",
   "metadata": {},
   "source": [
    "### Question-11\n",
    "Write a Python program to Count occurrences of an element in a list?\n",
    "\n",
    "\n",
    "##### Answer:"
   ]
  },
  {
   "cell_type": "code",
   "execution_count": 11,
   "id": "d71754cb",
   "metadata": {},
   "outputs": [
    {
     "data": {
      "text/plain": [
       "'7 appears 3 times'"
      ]
     },
     "execution_count": 11,
     "metadata": {},
     "output_type": "execute_result"
    }
   ],
   "source": [
    "def copy_list(lst, element):\n",
    "    try:\n",
    "        count = lst.count(element)\n",
    "        return f\"{element} appears {count} times\"\n",
    "    \n",
    "    except Exception as error:\n",
    "        return \"There was an error,\", error\n",
    "    \n",
    "copy_list([1,2,3,4,5,6,7,7,7,8], element=7)"
   ]
  },
  {
   "cell_type": "code",
   "execution_count": null,
   "id": "397d4e18",
   "metadata": {},
   "outputs": [],
   "source": []
  },
  {
   "cell_type": "code",
   "execution_count": null,
   "id": "b75d3e94",
   "metadata": {},
   "outputs": [],
   "source": []
  }
 ],
 "metadata": {
  "kernelspec": {
   "display_name": "Python 3 (ipykernel)",
   "language": "python",
   "name": "python3"
  },
  "language_info": {
   "codemirror_mode": {
    "name": "ipython",
    "version": 3
   },
   "file_extension": ".py",
   "mimetype": "text/x-python",
   "name": "python",
   "nbconvert_exporter": "python",
   "pygments_lexer": "ipython3",
   "version": "3.9.7"
  }
 },
 "nbformat": 4,
 "nbformat_minor": 5
}
