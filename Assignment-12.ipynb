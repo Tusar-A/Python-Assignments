{
 "cells": [
  {
   "cell_type": "markdown",
   "id": "8ba29f1f",
   "metadata": {},
   "source": [
    "### Question-1\n",
    "In what modes should the PdfFileReader() and PdfFileWriter() File objects will be opened?\n",
    "\n",
    "\n",
    "##### Answer:\n",
    "The PdfFileReader() should be opened in read-binary mode by passing the argument \"rb\" and the PdfFileWriter() should be opened in write-binary mode by passing the argument \"wb\"."
   ]
  },
  {
   "cell_type": "markdown",
   "id": "9de9637d",
   "metadata": {},
   "source": [
    "### Question-2\n",
    "From a PdfFileReader object, how do you get a Page object for page 5?\n",
    "\n",
    "\n",
    "##### Answer:\n",
    "In PdfFileReader the page object of a particular page number can be found by calling getPage() method. To get object of page 5, 5 will be passed as an argument in the getPage() method."
   ]
  },
  {
   "cell_type": "markdown",
   "id": "11e8b517",
   "metadata": {},
   "source": [
    "### Question-3\n",
    "What PdfFileReader variable stores the number of pages in the PDF document?\n",
    "\n",
    "\n",
    "##### Answer:\n",
    "The number of pages in the PDF document is stored in the NumPage attribute of a PdfFileReader object."
   ]
  },
  {
   "cell_type": "markdown",
   "id": "2588654b",
   "metadata": {},
   "source": [
    "### Question-4\n",
    "If a PdfFileReader object’s PDF is encrypted with the password swordfish, what must you do\n",
    "before you can obtain Page objects from it?\n",
    "\n",
    "\n",
    "##### Answer:\n",
    "Before obtaining page objects of an encrypted PDF file, it must be decrypted by calling .decrypt('swordfish')"
   ]
  },
  {
   "cell_type": "markdown",
   "id": "452bfef4",
   "metadata": {},
   "source": [
    "### Question-5\n",
    "What methods do you use to rotate a page?\n",
    "\n",
    "\n",
    "##### Answer:\n",
    "To rotate a page .rotateClockwise() method is used from PyPDF2"
   ]
  },
  {
   "cell_type": "markdown",
   "id": "587f7003",
   "metadata": {},
   "source": [
    "### Question-6\n",
    "What is the difference between a Run object and a Paragraph object?\n",
    "\n",
    "\n",
    "##### Answer:\n",
    "A Paragraph object begins on a new line and contain multiple runs and a new paragraph begins whenever the user presses ENTER or RETURN while typing in a Word document. \n",
    "\n",
    "The Run object is the contiguous group of characters within a paragraph with the same style."
   ]
  },
  {
   "cell_type": "markdown",
   "id": "f1f24ebd",
   "metadata": {},
   "source": [
    "### Question-7\n",
    "How do you obtain a list of Paragraph objects for a Document object that’s stored in a variable\n",
    "named doc?\n",
    "\n",
    "\n",
    "##### Answer:\n",
    "To obtain a list of Paragraph objects for a Document object, the docx module can be used. For this first we need initialize a and object and then add paragraphs to it and save it. The following code illustrate it."
   ]
  },
  {
   "cell_type": "code",
   "execution_count": 1,
   "id": "8aa92da4",
   "metadata": {},
   "outputs": [],
   "source": [
    "import docx\n",
    "\n",
    "doc_file = docx.Document() # initialization\n",
    "doc_file.add_paragraph('Hi, python here!')\n",
    "doc_file.save(\"doc_object_file.docx\")"
   ]
  },
  {
   "cell_type": "markdown",
   "id": "eae0260f",
   "metadata": {},
   "source": [
    "### Question-8\n",
    "What type of object has bold, underline, italic, strike, and outline variables?\n",
    "\n",
    "\n",
    "##### Answer:\n",
    "A Run object has bold, underline, italic, strike and outline variables."
   ]
  },
  {
   "cell_type": "markdown",
   "id": "97222c6e",
   "metadata": {},
   "source": [
    "### Question-9\n",
    "What is the difference between False, True, and None for the bold variable?\n",
    "\n",
    "\n",
    "##### Answer:\n",
    "Run objects can be further styled using text attributes. Each of these attributes can be set to one of three values:\n",
    "\n",
    "False: The attribute is always disabled.\n",
    "\n",
    "True: The attribute is always enabled, no matter what other styles are applied to the run.\n",
    "\n",
    "None: defaults to whatever the run's style is set to.\n",
    "\n",
    "True always makes the Run object bolded and False makes it always not boled. None will make the run object just use the style's bold setting."
   ]
  },
  {
   "cell_type": "markdown",
   "id": "1ac9f794",
   "metadata": {},
   "source": [
    "### Question-10\n",
    "How do you create a Document object for a new Word document?\n",
    "\n",
    "\n",
    "##### Answer:\n",
    "By initializing a Document object. This can be done by calling docx.Document() function."
   ]
  },
  {
   "cell_type": "markdown",
   "id": "2c9fe1f4",
   "metadata": {},
   "source": [
    "### Question-11\n",
    "How do you add a paragraph with the text &#39;Hello, there!&#39; to a Document object stored in a\n",
    "variable named doc?\n",
    "\n",
    "##### Answer:\n",
    "The following code will add a paragraph:"
   ]
  },
  {
   "cell_type": "code",
   "execution_count": 2,
   "id": "514033e1",
   "metadata": {},
   "outputs": [],
   "source": [
    "import docx\n",
    "\n",
    "doc = docx.Document() # initialization\n",
    "doc.add_paragraph('Hello, there!')\n",
    "doc.save(\"doc_object_file.docx\")"
   ]
  },
  {
   "cell_type": "markdown",
   "id": "0afc8379",
   "metadata": {},
   "source": [
    "### Question-12\n",
    "What integers represent the levels of headings available in Word documents?\n",
    "\n",
    "\n",
    "##### Answerr:\n",
    "To represents the levels of headings integer from 0 to 4 are available in word documents"
   ]
  },
  {
   "cell_type": "code",
   "execution_count": null,
   "id": "78d674dd",
   "metadata": {},
   "outputs": [],
   "source": []
  }
 ],
 "metadata": {
  "kernelspec": {
   "display_name": "Python 3 (ipykernel)",
   "language": "python",
   "name": "python3"
  },
  "language_info": {
   "codemirror_mode": {
    "name": "ipython",
    "version": 3
   },
   "file_extension": ".py",
   "mimetype": "text/x-python",
   "name": "python",
   "nbconvert_exporter": "python",
   "pygments_lexer": "ipython3",
   "version": "3.9.7"
  }
 },
 "nbformat": 4,
 "nbformat_minor": 5
}
