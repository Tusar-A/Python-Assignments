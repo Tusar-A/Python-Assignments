{
 "cells": [
  {
   "cell_type": "raw",
   "id": "d9022ab9",
   "metadata": {},
   "source": [
    "1. In the below elements which of them are values or an expression? eg:- values can be\n",
    "integer or string and expressions will be mathematical operators.\n",
    "\n",
    "*\n",
    "'hello';\n",
    "-87.8\n",
    "-\n",
    "/\n",
    "+\n",
    "6"
   ]
  },
  {
   "cell_type": "markdown",
   "id": "1ac32d4d",
   "metadata": {},
   "source": [
    "##### Answer:\n",
    "The values are: 'hello', -87.8, 6 <br>\n",
    "The expressions are: *, -, /, +"
   ]
  },
  {
   "cell_type": "raw",
   "id": "bfe713dd",
   "metadata": {},
   "source": [
    "2. What is the difference between string and variable?"
   ]
  },
  {
   "cell_type": "markdown",
   "id": "b7337d99",
   "metadata": {},
   "source": [
    "##### Answer:\n"
   ]
  },
  {
   "cell_type": "markdown",
   "id": "005d65c8",
   "metadata": {},
   "source": [
    "In computer programming, Variable is a storage location that can hold any value, on the other hand string is a data type in programming that is text or character. String can be stored into a variable and calling the variable, it is referencing to the memory location where the string is stored."
   ]
  },
  {
   "cell_type": "raw",
   "id": "e2538fb1",
   "metadata": {},
   "source": [
    "3. Describe three different data types."
   ]
  },
  {
   "cell_type": "markdown",
   "id": "689b0cf2",
   "metadata": {},
   "source": [
    "##### Answer:\n",
    "\n",
    "In python, the most common three data types are:\n",
    "\n",
    "i. Integer: It is a data type in programming that represents any number either it is float, double or a whole number.\n",
    "<br>\n",
    "ii. String: String data type represents if the data type is either text or characters.\n",
    "<br>\n",
    "iii. Boolean: Boolean represents anything either true or false. It has only two values those are true and false or 1/0.\n",
    "    "
   ]
  },
  {
   "cell_type": "raw",
   "id": "8de35775",
   "metadata": {},
   "source": [
    "4. What is an expression made up of? What do all expressions do?"
   ]
  },
  {
   "cell_type": "markdown",
   "id": "871dfbd0",
   "metadata": {},
   "source": [
    "##### Answer:\n",
    "\n",
    "An expression is made up of variable, operators. <br>\n",
    "An expression combines the variables and operators that is interpreted to produces some other values according to the provided instruction."
   ]
  },
  {
   "cell_type": "raw",
   "id": "fd06a05e",
   "metadata": {},
   "source": [
    "5. This assignment statements, like spam = 10. What is the difference between an\n",
    "expression and a statement?"
   ]
  },
  {
   "cell_type": "markdown",
   "id": "38c72a2c",
   "metadata": {},
   "source": [
    "##### Answer:\n",
    "\n",
    "Combining variables and operators an expression is made which produces a values and the value can be passed into the function. On the other hand, statements don't produce any value and it can't be used as function argument."
   ]
  },
  {
   "cell_type": "raw",
   "id": "8f899f66",
   "metadata": {},
   "source": [
    "6. After running the following code, what does the variable bacon contain?\n",
    "bacon = 22\n",
    "bacon + 1"
   ]
  },
  {
   "cell_type": "markdown",
   "id": "e875929e",
   "metadata": {},
   "source": [
    "##### Answer:\n",
    "\n",
    "After running the code the variable bacon still contain the same value as previous which is 22. This is because in the second line 1 has been added with variable bacon but the new value is not inserted into any variable or into bacon. This is why the value will not changed and it will remain same."
   ]
  },
  {
   "cell_type": "raw",
   "id": "74884589",
   "metadata": {},
   "source": [
    "7. What should the values of the following two terms be?\n",
    "\n",
    "'spam' + 'spamspam'\n",
    "'spam' *3"
   ]
  },
  {
   "cell_type": "markdown",
   "id": "2913cb2f",
   "metadata": {},
   "source": [
    "##### Answer:\n",
    "\n",
    "The first line or term will concatenate the two string. As both are string the (+) sign will concate both and the output will be 'spamspamspam'\n",
    "<br>\n",
    "In the second term, 'spam' will be multiplied 3 times, and the value will be 'spamspamspam'"
   ]
  },
  {
   "cell_type": "raw",
   "id": "a192b779",
   "metadata": {},
   "source": [
    "8. Why is eggs a valid variable name while 100 is invalid?"
   ]
  },
  {
   "cell_type": "markdown",
   "id": "5b7747ac",
   "metadata": {},
   "source": [
    "##### Answer:\n",
    "In programming, there is a naming convention for defining variables. In python, by convension the variable name should be start with any character or underscore, but at the beggining there can't be any integer. Here, variable 'eggs' starts with 'e' which is a character or string type. On the other hand variable '100' which starts with '1' which is not valid by convension. This is why eggs is valid variable while 100 is invalid."
   ]
  },
  {
   "cell_type": "raw",
   "id": "061c2bfe",
   "metadata": {},
   "source": [
    "9. What three functions can be used to get the integer, floating-point number, or string\n",
    "version of a value?"
   ]
  },
  {
   "cell_type": "markdown",
   "id": "c6c15668",
   "metadata": {},
   "source": [
    "##### Answer:\n",
    "\n",
    "To get the integer int() function can be used. <br>\n",
    "To get the floating-point number float() function can be used. <br>\n",
    "To get string str() function can be used."
   ]
  },
  {
   "cell_type": "raw",
   "id": "608d5cf5",
   "metadata": {},
   "source": [
    "10. Why does this expression cause an error? How can you fix it?\n",
    "\n",
    "'I have eaten ' + 99 + 'burritos.'"
   ]
  },
  {
   "cell_type": "markdown",
   "id": "93fa0545",
   "metadata": {},
   "source": [
    "##### Answer:\n",
    "The expression will give a TypeError. This is because an integer can not be added with a string type data. Here the first part and the last part of the expression is string type and the middle part or 99 is an integer. This is why while adding or concatening all there parts the program found inconsistency of data types and give an error."
   ]
  },
  {
   "cell_type": "code",
   "execution_count": null,
   "id": "97b3d72c",
   "metadata": {},
   "outputs": [],
   "source": []
  }
 ],
 "metadata": {
  "kernelspec": {
   "display_name": "Python 3 (ipykernel)",
   "language": "python",
   "name": "python3"
  },
  "language_info": {
   "codemirror_mode": {
    "name": "ipython",
    "version": 3
   },
   "file_extension": ".py",
   "mimetype": "text/x-python",
   "name": "python",
   "nbconvert_exporter": "python",
   "pygments_lexer": "ipython3",
   "version": "3.9.7"
  }
 },
 "nbformat": 4,
 "nbformat_minor": 5
}
