{
 "cells": [
  {
   "cell_type": "markdown",
   "id": "3c142fdc",
   "metadata": {},
   "source": [
    "# 1. \n",
    "In the below elements which of them are values or an expression? eg:- values can be\n",
    "integer or string and expressions will be mathematical operators.\n",
    "\n",
    "* \n",
    "'hello'\n",
    "-87.8\n",
    "-\n",
    "/\n",
    "+\n",
    "6"
   ]
  },
  {
   "cell_type": "markdown",
   "id": "28d32afb",
   "metadata": {},
   "source": [
    "##### Answer:\n",
    "The values are: 'hello', -87.8, 6 <br>\n",
    "The expressions are: *, -, /, +"
   ]
  },
  {
   "cell_type": "code",
   "execution_count": null,
   "id": "e10bc46c",
   "metadata": {},
   "outputs": [],
   "source": []
  },
  {
   "cell_type": "markdown",
   "id": "6055b495",
   "metadata": {},
   "source": [
    "# 2. \n",
    "What is the difference between string and variable?"
   ]
  },
  {
   "cell_type": "markdown",
   "id": "194495e3",
   "metadata": {},
   "source": [
    "##### Answer:\n"
   ]
  },
  {
   "cell_type": "markdown",
   "id": "aae520da",
   "metadata": {},
   "source": [
    "In computer programming, Variable is a storage location that can hold any value, on the other hand string is a data type in programming that is text or character. String can be stored into a variable and calling the variable, it is referencing to the memory location where the string is stored."
   ]
  },
  {
   "cell_type": "code",
   "execution_count": null,
   "id": "53dd65b1",
   "metadata": {},
   "outputs": [],
   "source": []
  },
  {
   "cell_type": "markdown",
   "id": "1ea03fb8",
   "metadata": {},
   "source": [
    "# 3. \n",
    "Describe three different data types."
   ]
  },
  {
   "cell_type": "markdown",
   "id": "3d3e1c88",
   "metadata": {},
   "source": [
    "##### Answer:\n",
    "\n",
    "In python, the most common three data types are:\n",
    "\n",
    "i. Integer: It is a data type in programming that represents any number either it is float, double or a whole number.\n",
    "<br>\n",
    "ii. String: String data type represents if the data type is either text or characters.\n",
    "<br>\n",
    "iii. Boolean: Boolean represents anything either true or false. It has only two values those are true and false or 1/0.\n",
    "    "
   ]
  },
  {
   "cell_type": "code",
   "execution_count": null,
   "id": "3f10fc26",
   "metadata": {},
   "outputs": [],
   "source": []
  },
  {
   "cell_type": "markdown",
   "id": "baec999a",
   "metadata": {},
   "source": [
    "# 4. \n",
    "What is an expression made up of? What do all expressions do?"
   ]
  },
  {
   "cell_type": "markdown",
   "id": "7504165b",
   "metadata": {},
   "source": [
    "##### Answer:\n",
    "\n",
    "An expression is made up of variable, operators. <br>\n",
    "An expression combines the variables and operators that is interpreted to produces some other values according to the provided instruction."
   ]
  },
  {
   "cell_type": "code",
   "execution_count": null,
   "id": "17300512",
   "metadata": {},
   "outputs": [],
   "source": []
  },
  {
   "cell_type": "markdown",
   "id": "564a39c3",
   "metadata": {},
   "source": [
    "# 5. \n",
    "This assignment statements, like spam = 10. What is the difference between an\n",
    "expression and a statement?"
   ]
  },
  {
   "cell_type": "markdown",
   "id": "126eede7",
   "metadata": {},
   "source": [
    "##### Answer:\n",
    "\n",
    "Combining variables and operators an expression is made which produces a values and the value can be passed into the function. On the other hand, statements don't produce any value and it can't be used as function argument."
   ]
  },
  {
   "cell_type": "code",
   "execution_count": null,
   "id": "aca42b4a",
   "metadata": {},
   "outputs": [],
   "source": []
  },
  {
   "cell_type": "markdown",
   "id": "b2addce5",
   "metadata": {},
   "source": [
    "# 6.  \n",
    "After running the following code, what does the variable bacon contain?<br>\n",
    "bacon = 22<br>\n",
    "bacon + 1"
   ]
  },
  {
   "cell_type": "markdown",
   "id": "802ca8d8",
   "metadata": {},
   "source": [
    "##### Answer:\n",
    "\n",
    "After running the code the variable bacon still contain the same value as previous which is 22. This is because in the second line 1 has been added with variable bacon but the new value is not inserted into any variable or into bacon. This is why the value will not changed and it will remain same."
   ]
  },
  {
   "cell_type": "code",
   "execution_count": null,
   "id": "ce3084e7",
   "metadata": {},
   "outputs": [],
   "source": []
  },
  {
   "cell_type": "markdown",
   "id": "ef04893a",
   "metadata": {},
   "source": [
    "# 7. \n",
    "What should the values of the following two terms be?<br>\n",
    "\n",
    "'spam' + 'spamspam'<br>\n",
    "'spam' *3"
   ]
  },
  {
   "cell_type": "markdown",
   "id": "6bffa988",
   "metadata": {},
   "source": [
    "##### Answer:\n",
    "\n",
    "The first line or term will concatenate the two string. As both are string the (+) sign will concate both and the output will be 'spamspamspam'\n",
    "<br>\n",
    "In the second term, 'spam' will be multiplied 3 times, and the value will be 'spamspamspam'"
   ]
  },
  {
   "cell_type": "code",
   "execution_count": null,
   "id": "ddd3eec2",
   "metadata": {},
   "outputs": [],
   "source": []
  },
  {
   "cell_type": "markdown",
   "id": "890548d5",
   "metadata": {},
   "source": [
    "# 8. \n",
    "Why is eggs a valid variable name while 100 is invalid?"
   ]
  },
  {
   "cell_type": "markdown",
   "id": "3f7c4a57",
   "metadata": {},
   "source": [
    "##### Answer:\n",
    "In programming, there is a naming convention for defining variables. In python, by convension the variable name should be start with any character or underscore, but at the beggining there can't be any integer. Here, variable 'eggs' starts with 'e' which is a character or string type. On the other hand variable '100' which starts with '1' which is not valid by convension. This is why eggs is valid variable while 100 is invalid."
   ]
  },
  {
   "cell_type": "code",
   "execution_count": null,
   "id": "f27a87bd",
   "metadata": {},
   "outputs": [],
   "source": []
  },
  {
   "cell_type": "markdown",
   "id": "44be0cf9",
   "metadata": {},
   "source": [
    "# 9. \n",
    "What three functions can be used to get the integer, floating-point number, or string\n",
    "version of a value?"
   ]
  },
  {
   "cell_type": "markdown",
   "id": "23eb1a0d",
   "metadata": {},
   "source": [
    "##### Answer:\n",
    "\n",
    "To get the integer int() function can be used. <br>\n",
    "To get the floating-point number float() function can be used. <br>\n",
    "To get string str() function can be used."
   ]
  },
  {
   "cell_type": "code",
   "execution_count": null,
   "id": "1dbe9dd4",
   "metadata": {},
   "outputs": [],
   "source": []
  },
  {
   "cell_type": "markdown",
   "id": "ace3cbba",
   "metadata": {},
   "source": [
    "# 10. \n",
    "Why does this expression cause an error? How can you fix it?\n",
    "\n",
    "'I have eaten ' + 99 + 'burritos.'"
   ]
  },
  {
   "cell_type": "markdown",
   "id": "3ab1b7e1",
   "metadata": {},
   "source": [
    "##### Answer:\n",
    "The expression will give a TypeError. This is because an integer can not be added with a string type data. Here the first part and the last part of the expression is string type and the middle part or 99 is an integer. This is why while adding or concatening all there parts the program found inconsistency of data types and give an error."
   ]
  },
  {
   "cell_type": "code",
   "execution_count": null,
   "id": "4f2a47e9",
   "metadata": {},
   "outputs": [],
   "source": []
  }
 ],
 "metadata": {
  "kernelspec": {
   "display_name": "Python 3 (ipykernel)",
   "language": "python",
   "name": "python3"
  },
  "language_info": {
   "codemirror_mode": {
    "name": "ipython",
    "version": 3
   },
   "file_extension": ".py",
   "mimetype": "text/x-python",
   "name": "python",
   "nbconvert_exporter": "python",
   "pygments_lexer": "ipython3",
   "version": "3.9.7"
  }
 },
 "nbformat": 4,
 "nbformat_minor": 5
}
