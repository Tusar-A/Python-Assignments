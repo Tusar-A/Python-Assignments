{
 "cells": [
  {
   "cell_type": "markdown",
   "id": "82d78967",
   "metadata": {},
   "source": [
    "### Question-1\n",
    "What is the relationship between def statements and lambda expressions?\n",
    "\n",
    "\n",
    "##### Answer:"
   ]
  },
  {
   "cell_type": "markdown",
   "id": "aa384006",
   "metadata": {},
   "source": [
    "Both def and lambda creates the same kind of function. However there's difference syntactically for these two and lambda is an expression and def is a statement."
   ]
  },
  {
   "cell_type": "markdown",
   "id": "f9366288",
   "metadata": {},
   "source": [
    "### Question-2\n",
    "What is the benefit of lambda?\n",
    "\n",
    "\n",
    "##### Answer:"
   ]
  },
  {
   "cell_type": "markdown",
   "id": "fde66b6a",
   "metadata": {},
   "source": [
    "Lambda reduce the size of code which is a benefit for large code. Apart from that if we need to write some anonymous function then lambda also helps."
   ]
  },
  {
   "cell_type": "markdown",
   "id": "5e5d0b36",
   "metadata": {},
   "source": [
    "### Question-3\n",
    "Compare and contrast map, filter, and reduce.\n",
    "\n",
    "\n",
    "##### Answer:"
   ]
  },
  {
   "cell_type": "markdown",
   "id": "89ae87e7",
   "metadata": {},
   "source": [
    "All these three function map, filter and reduce are high order function and all of them can take user defined function as an argument and an array also. Comparing these function, the map() perform the same operation to all the values of the given array, the filter() perform filters a subset of elements that fulfill some given criteria and finally the reduce() function perform operation on an array yielding a single valued outcome."
   ]
  },
  {
   "cell_type": "markdown",
   "id": "7d2d469b",
   "metadata": {},
   "source": [
    "### Question-4\n",
    "What are function annotations, and how are they used?\n",
    "\n",
    "\n",
    "##### Answer:"
   ]
  },
  {
   "cell_type": "markdown",
   "id": "e6d0b7f8",
   "metadata": {},
   "source": [
    "Function annotations are some arbitrary python expression that are associated with various part of the function and ignored by the interpretor. These annotations are used while defining the function parameters."
   ]
  },
  {
   "cell_type": "markdown",
   "id": "ff19b36b",
   "metadata": {},
   "source": [
    "### Question-5\n",
    "What are recursive functions, and how are they used?\n",
    "\n",
    "\n",
    "##### Answer:"
   ]
  },
  {
   "cell_type": "markdown",
   "id": "6ae066b8",
   "metadata": {},
   "source": [
    "A functions is said to be recursive if the function return the function itself."
   ]
  },
  {
   "cell_type": "markdown",
   "id": "f2d2c28c",
   "metadata": {},
   "source": [
    "### Question-6\n",
    "What are some general design guidelines for coding functions?\n",
    "\n",
    "\n",
    "##### Answer:"
   ]
  },
  {
   "cell_type": "markdown",
   "id": "676a61cd",
   "metadata": {},
   "source": [
    "some of the general design guidelines for coding functions are:\n",
    "\n",
    "1. Following proper naming conventions.<br>\n",
    "2. commenting and documenting <br>\n",
    "3. Testing<br>\n",
    "4. Using log files<br>\n",
    "5. In python avoid using print as it return a None type object <br>\n",
    "6. Have error handing capabilities."
   ]
  },
  {
   "cell_type": "markdown",
   "id": "94e55e43",
   "metadata": {},
   "source": [
    "### Question-7\n",
    "Name three or more ways that functions can communicate results to a caller.\n",
    "\n",
    "\n",
    "##### Answer:"
   ]
  },
  {
   "cell_type": "markdown",
   "id": "c590d485",
   "metadata": {},
   "source": [
    "1. Function can return a single value\n",
    "2. function can return multiple values tuple\n",
    "3. function can return list, dictionary\n",
    "4. function can return object"
   ]
  },
  {
   "cell_type": "code",
   "execution_count": null,
   "id": "0ee19a8e",
   "metadata": {},
   "outputs": [],
   "source": []
  }
 ],
 "metadata": {
  "kernelspec": {
   "display_name": "Python 3 (ipykernel)",
   "language": "python",
   "name": "python3"
  },
  "language_info": {
   "codemirror_mode": {
    "name": "ipython",
    "version": 3
   },
   "file_extension": ".py",
   "mimetype": "text/x-python",
   "name": "python",
   "nbconvert_exporter": "python",
   "pygments_lexer": "ipython3",
   "version": "3.9.7"
  }
 },
 "nbformat": 4,
 "nbformat_minor": 5
}
