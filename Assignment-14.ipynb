{
 "cells": [
  {
   "cell_type": "markdown",
   "id": "a1b7a459",
   "metadata": {},
   "source": [
    "### Question-1\n",
    "What does RGBA stand for?\n",
    "\n",
    "\n",
    "##### Answer:\n",
    "RGBA stands for (Red-Green-Blue-Alpha)"
   ]
  },
  {
   "cell_type": "markdown",
   "id": "1d9f466e",
   "metadata": {},
   "source": [
    "### Question-2\n",
    "From the Pillow module, how do you get the RGBA value of any images?\n",
    "\n",
    "\n",
    "##### Answer:\n",
    "To get RGBA value of any images from Pillow module, we've to do the following.\n",
    "\n",
    "1. Import image module from the Pillow library\n",
    "\n",
    "2. Open an image useing .open() function\n",
    "\n",
    "3. Convert image object into RGBA form.\n",
    "\n",
    "4. Get RGBA values using .getdata() method.\n",
    "\n",
    "\n",
    "Code for the task may be like this:"
   ]
  },
  {
   "cell_type": "code",
   "execution_count": 1,
   "id": "91175a65",
   "metadata": {},
   "outputs": [],
   "source": [
    "from PIL import Image\n",
    "\n",
    "image = Image.open('car.jpg')\n",
    "rgba = image.convert(\"RGBA\")\n",
    "img_data = rgba.getdata()"
   ]
  },
  {
   "cell_type": "markdown",
   "id": "eb9777ac",
   "metadata": {},
   "source": [
    "### Question-3\n",
    "What is a box tuple, and how does it work?\n",
    "\n",
    "\n",
    "##### Answer:\n",
    "box tuple is a submodule that provides read-only access for the tuple of userdata type. it allows for a single tuple which is selective retrieval of the field contents."
   ]
  },
  {
   "cell_type": "markdown",
   "id": "decd5d4b",
   "metadata": {},
   "source": [
    "### Questioni-4\n",
    "Use your image and load in notebook then, How can you find out the width and height of an\n",
    "Image object?\n",
    "\n",
    "\n",
    "##### Answer:\n",
    "Using Pillow's Image module it can be found width and height of an Image object."
   ]
  },
  {
   "cell_type": "code",
   "execution_count": 2,
   "id": "6f4ba082",
   "metadata": {},
   "outputs": [
    {
     "name": "stdout",
     "output_type": "stream",
     "text": [
      "The width of the image is:  612\n",
      "The height of the image is:  358\n"
     ]
    }
   ],
   "source": [
    "from PIL import Image\n",
    "\n",
    "image = Image.open(\"car.jpg\")\n",
    "\n",
    "# get width and height\n",
    "width = image.width\n",
    "height = image.height\n",
    "\n",
    "# dispaly value\n",
    "print(\"The width of the image is: \", width)\n",
    "print(\"The height of the image is: \", height)"
   ]
  },
  {
   "cell_type": "markdown",
   "id": "ad1fc991",
   "metadata": {},
   "source": [
    "### Question-5\n",
    "What method would you call to get Image object for a 100×100 image, excluding the lower-left\n",
    "quarter of it?\n",
    "\n",
    "\n",
    "##### Answer:\n",
    "To get Image object for a 100x100 image size the crop method will be used. The method takes a box of tuple and return Image object representing the given size."
   ]
  },
  {
   "cell_type": "code",
   "execution_count": 3,
   "id": "fe2fa5d7",
   "metadata": {},
   "outputs": [
    {
     "data": {
      "text/plain": [
       "(100, 100)"
      ]
     },
     "execution_count": 3,
     "metadata": {},
     "output_type": "execute_result"
    }
   ],
   "source": [
    "from PIL import Image\n",
    "\n",
    "image = Image.open(\"car.jpg\")\n",
    "crop_img = image.resize(size=(100,100))\n",
    "crop_img.size"
   ]
  },
  {
   "cell_type": "markdown",
   "id": "a84c6d74",
   "metadata": {},
   "source": [
    "### Question-6\n",
    "After making changes to an Image object, how could you save it as an image file?\n",
    "\n",
    "\n",
    "##### Answer:\n",
    "After making changes to an Image object, the .save() function is used to save the image file. here's how"
   ]
  },
  {
   "cell_type": "code",
   "execution_count": 4,
   "id": "af78ca08",
   "metadata": {},
   "outputs": [
    {
     "name": "stdout",
     "output_type": "stream",
     "text": [
      "Previous Image size:  (612, 358)\n",
      "After edit, Size is:  (100, 100)\n"
     ]
    }
   ],
   "source": [
    "from PIL import Image\n",
    "\n",
    "image = Image.open(\"car.jpg\")\n",
    "print('Previous Image size: ', image.size)\n",
    "\n",
    "# Changing image size and saving it.\n",
    "crop_img = image.resize(size=(100,100))\n",
    "crop_img.save('edited_car.jpg')\n",
    "\n",
    "edit_img = Image.open(\"edited_car.jpg\")\n",
    "print(\"After edit, Size is: \", edit_img.size)"
   ]
  },
  {
   "cell_type": "markdown",
   "id": "598b7c27",
   "metadata": {},
   "source": [
    "### Question-7\n",
    "What module contains Pillow’s shape-drawing code?\n",
    "\n",
    "\n",
    "##### Answer:\n",
    "ImageDraw module contain Pillow's shape-drawing code."
   ]
  },
  {
   "cell_type": "markdown",
   "id": "da3f25e6",
   "metadata": {},
   "source": [
    "### Question-8\n",
    "Image objects do not have drawing methods. What kind of object does? How do you get this kind\n",
    "of object?\n",
    "\n",
    "\n",
    "##### Answer:\n",
    "The ImageDraw has drawing objects. The object can be get by the following code."
   ]
  },
  {
   "cell_type": "code",
   "execution_count": 5,
   "id": "8eaf07dd",
   "metadata": {},
   "outputs": [],
   "source": [
    "from PIL import Image, ImageDraw\n",
    "\n",
    "# creating an Image object\n",
    "img = Image.open('edited_car.jpg')\n",
    "\n",
    "# for this program, I'll draw a line on the image\n",
    "\n",
    "drawing = ImageDraw.Draw(img)\n",
    "drawing.line((0,0) + img.size, fill=256)\n",
    "\n",
    "# showing image\n",
    "img.show()"
   ]
  },
  {
   "cell_type": "code",
   "execution_count": null,
   "id": "15e642ea",
   "metadata": {},
   "outputs": [],
   "source": []
  },
  {
   "cell_type": "code",
   "execution_count": null,
   "id": "0a31f930",
   "metadata": {},
   "outputs": [],
   "source": []
  }
 ],
 "metadata": {
  "kernelspec": {
   "display_name": "Python 3 (ipykernel)",
   "language": "python",
   "name": "python3"
  },
  "language_info": {
   "codemirror_mode": {
    "name": "ipython",
    "version": 3
   },
   "file_extension": ".py",
   "mimetype": "text/x-python",
   "name": "python",
   "nbconvert_exporter": "python",
   "pygments_lexer": "ipython3",
   "version": "3.9.7"
  }
 },
 "nbformat": 4,
 "nbformat_minor": 5
}
