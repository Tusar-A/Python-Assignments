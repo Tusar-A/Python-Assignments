{
 "cells": [
  {
   "cell_type": "markdown",
   "id": "aff7b2ff",
   "metadata": {},
   "source": [
    "### Question-1\n",
    "Write a Python Program to Add Two Matrices?\n",
    "\n",
    "\n",
    "##### Answer:"
   ]
  },
  {
   "cell_type": "code",
   "execution_count": 1,
   "id": "905175f4",
   "metadata": {},
   "outputs": [
    {
     "name": "stdout",
     "output_type": "stream",
     "text": [
      "[2, 4, 6, 8]\n",
      "[10, 12, 14, 16]\n",
      "[18, 20, 22, 27]\n"
     ]
    }
   ],
   "source": [
    "mat_a = [[1,2,3,4], \n",
    "         [5,6,7,8], \n",
    "         [9,10,11,12]]\n",
    "\n",
    "mat_b = [[1,2,3,4], \n",
    "         [5,6,7,8], \n",
    "         [9,10,11,15]]\n",
    "\n",
    "mat = [[0,0,0,0], \n",
    "        [0,0,0,0], \n",
    "        [0,0,0,0]]\n",
    "\n",
    "for i in range(len(mat_a)):\n",
    "    for j in range(len(mat_b[0])):\n",
    "        mat[i][j] = mat_a[i][j]+ mat_b[i][j]\n",
    "        \n",
    "for matrix in mat:\n",
    "    print(matrix)"
   ]
  },
  {
   "cell_type": "markdown",
   "id": "da2b5f64",
   "metadata": {},
   "source": [
    "### Question-2\n",
    "Write a Python Program to Multiply Two Matrices?\n",
    "\n",
    "\n",
    "##### Answer:"
   ]
  },
  {
   "cell_type": "code",
   "execution_count": 2,
   "id": "bf0766df",
   "metadata": {},
   "outputs": [
    {
     "name": "stdout",
     "output_type": "stream",
     "text": [
      "[1, 4, 9, 16]\n",
      "[25, 36, 49, 64]\n",
      "[81, 100, 121, 180]\n"
     ]
    }
   ],
   "source": [
    "mat_a = [[1,2,3,4], \n",
    "         [5,6,7,8], \n",
    "         [9,10,11,12]]\n",
    "\n",
    "mat_b = [[1,2,3,4], \n",
    "         [5,6,7,8], \n",
    "         [9,10,11,15]]\n",
    "\n",
    "mat = [[0,0,0,0], \n",
    "        [0,0,0,0], \n",
    "        [0,0,0,0]]\n",
    "\n",
    "for i in range(len(mat_a)):\n",
    "    for j in range(len(mat_b[0])):\n",
    "        mat[i][j] = mat_a[i][j]* mat_b[i][j]\n",
    "        \n",
    "for matrix in mat:\n",
    "    print(matrix)"
   ]
  },
  {
   "cell_type": "markdown",
   "id": "e21975cb",
   "metadata": {},
   "source": [
    "### Question-3\n",
    "Write a Python Program to Transpose a Matrix?\n",
    "\n",
    "\n",
    "##### Answer:"
   ]
  },
  {
   "cell_type": "code",
   "execution_count": 3,
   "id": "ef907f6a",
   "metadata": {},
   "outputs": [
    {
     "name": "stdout",
     "output_type": "stream",
     "text": [
      "[1, 5, 9, 13]\n",
      "[2, 6, 10, 14]\n",
      "[3, 7, 11, 15]\n",
      "[4, 8, 12, 16]\n"
     ]
    }
   ],
   "source": [
    "mat_a = [[1,2,3,4], \n",
    "         [5,6,7,8], \n",
    "         [9,10,11,12],\n",
    "         [13,14,15,16]]\n",
    "mat = [[0,0,0,0], \n",
    "        [0,0,0,0], \n",
    "        [0,0,0,0],\n",
    "        [0,0,0,0]]\n",
    "\n",
    "for i in range(len(mat_a)):\n",
    "    for j in range(len(mat_a[0])):\n",
    "        mat[j][i] = mat_a[i][j]\n",
    "        \n",
    "for mats in mat:\n",
    "    print(mats)"
   ]
  },
  {
   "cell_type": "markdown",
   "id": "dfc8618f",
   "metadata": {},
   "source": [
    "### Question-4\n",
    "Write a Python Program to Sort Words in Alphabetic Order?\n",
    "\n",
    "\n",
    "##### Answer:"
   ]
  },
  {
   "cell_type": "code",
   "execution_count": 4,
   "id": "482e5fe8",
   "metadata": {},
   "outputs": [
    {
     "data": {
      "text/plain": [
       "['hi', 'order', 'program', 'python', 'words']"
      ]
     },
     "execution_count": 4,
     "metadata": {},
     "output_type": "execute_result"
    }
   ],
   "source": [
    "word_lst = ['hi', 'program', 'order', 'words', 'python']\n",
    "\n",
    "def word_sort(words):\n",
    "    words = [word.lower() for word in words]\n",
    "    return sorted(words)\n",
    "\n",
    "word_sort(word_lst)"
   ]
  },
  {
   "cell_type": "markdown",
   "id": "ca5cb0bd",
   "metadata": {},
   "source": [
    "### Question-5\n",
    "Write a Python Program to Remove Punctuation From a String?\n",
    "\n",
    "\n",
    "##### Answer:"
   ]
  },
  {
   "cell_type": "code",
   "execution_count": 5,
   "id": "fa59395a",
   "metadata": {},
   "outputs": [],
   "source": [
    "def remove_punc(string):\n",
    "    punctuations = '''!()-[]{};:'\"\\,<>./?@#$%^&*_~'''\n",
    "    removed_punctuation = \"\"\n",
    "    \n",
    "    for letter in string:\n",
    "        if letter not in punctuations:\n",
    "            removed_punctuation = removed_punctuation + letter\n",
    "    return removed_punctuation"
   ]
  },
  {
   "cell_type": "code",
   "execution_count": 6,
   "id": "02cfc13d",
   "metadata": {},
   "outputs": [
    {
     "data": {
      "text/plain": [
       "'A python program  is writen for removing  punctuation'"
      ]
     },
     "execution_count": 6,
     "metadata": {},
     "output_type": "execute_result"
    }
   ],
   "source": [
    "remove_punc(\"A python! program # is writen for removing ^ punctuation!.\")"
   ]
  }
 ],
 "metadata": {
  "kernelspec": {
   "display_name": "Python 3 (ipykernel)",
   "language": "python",
   "name": "python3"
  },
  "language_info": {
   "codemirror_mode": {
    "name": "ipython",
    "version": 3
   },
   "file_extension": ".py",
   "mimetype": "text/x-python",
   "name": "python",
   "nbconvert_exporter": "python",
   "pygments_lexer": "ipython3",
   "version": "3.9.7"
  }
 },
 "nbformat": 4,
 "nbformat_minor": 5
}
