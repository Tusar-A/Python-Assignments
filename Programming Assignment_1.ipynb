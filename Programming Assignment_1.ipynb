{
 "cells": [
  {
   "cell_type": "markdown",
   "id": "a3dd3a3f",
   "metadata": {},
   "source": [
    "### Question-1\n",
    "Write a Python program to print \"Hello Python\"?\n",
    "\n",
    "##### Answer:"
   ]
  },
  {
   "cell_type": "code",
   "execution_count": 1,
   "id": "715146ab",
   "metadata": {},
   "outputs": [
    {
     "name": "stdout",
     "output_type": "stream",
     "text": [
      "Hello Python\n"
     ]
    }
   ],
   "source": [
    "# printing \"hello python\"\n",
    "print(\"Hello Python\")"
   ]
  },
  {
   "cell_type": "markdown",
   "id": "82fff4bf",
   "metadata": {},
   "source": [
    "### Question-2\n",
    "Write a Python program to do arithmetical operations addition and division.?\n",
    "\n",
    "##### Answer:"
   ]
  },
  {
   "cell_type": "code",
   "execution_count": 2,
   "id": "1a971366",
   "metadata": {},
   "outputs": [
    {
     "name": "stdout",
     "output_type": "stream",
     "text": [
      "addition:  15\n",
      "division:  0.5\n"
     ]
    }
   ],
   "source": [
    "a = 5\n",
    "b = 10\n",
    "\n",
    "# addition operation\n",
    "addition = a + b\n",
    "print(\"addition: \", addition)\n",
    "\n",
    "# division operation\n",
    "division = a/b\n",
    "print(\"division: \", division)"
   ]
  },
  {
   "cell_type": "markdown",
   "id": "9ca971ea",
   "metadata": {},
   "source": [
    "### Question-3\n",
    "Write a Python program to find the area of a triangle?\n",
    "\n",
    "##### Answer:"
   ]
  },
  {
   "cell_type": "code",
   "execution_count": 3,
   "id": "ba4a987a",
   "metadata": {},
   "outputs": [
    {
     "name": "stdout",
     "output_type": "stream",
     "text": [
      "Area is:  25.0\n"
     ]
    }
   ],
   "source": [
    "base = 10\n",
    "height = 5\n",
    "\n",
    "# calculating area, For a triangle area = 0.5*base*height\n",
    "area = 0.5*base*height\n",
    "print(\"Area is: \", area)"
   ]
  },
  {
   "cell_type": "markdown",
   "id": "473d49b2",
   "metadata": {},
   "source": [
    "### Question-4\n",
    "Write a Python program to swap two variables?\n",
    "\n",
    "\n",
    "##### Answer:\n"
   ]
  },
  {
   "cell_type": "code",
   "execution_count": 4,
   "id": "e706549c",
   "metadata": {},
   "outputs": [
    {
     "name": "stdout",
     "output_type": "stream",
     "text": [
      "After swaping value of a is:  6\n",
      "After swaping value of b is:  5\n"
     ]
    }
   ],
   "source": [
    "a = 5\n",
    "b = 6\n",
    "\n",
    "# defining temporary variable to swap\n",
    "\n",
    "temp = a\n",
    "a = b\n",
    "b = temp\n",
    "\n",
    "print(\"After swaping value of a is: \",a)\n",
    "print(\"After swaping value of b is: \",b)"
   ]
  },
  {
   "cell_type": "markdown",
   "id": "e608d65e",
   "metadata": {},
   "source": [
    "### Question-5\n",
    "Write a Python program to generate a random number?\n",
    "\n",
    "##### Answer:\n"
   ]
  },
  {
   "cell_type": "code",
   "execution_count": 5,
   "id": "89e63f69",
   "metadata": {},
   "outputs": [
    {
     "name": "stdout",
     "output_type": "stream",
     "text": [
      "7\n"
     ]
    }
   ],
   "source": [
    "# using random module we can generate random number in python.\n",
    "import random\n",
    "\n",
    "print(random.randint(0,10)) # randint generates random number, here it will generate random number from 0-10"
   ]
  },
  {
   "cell_type": "code",
   "execution_count": null,
   "id": "13587d7f",
   "metadata": {},
   "outputs": [],
   "source": []
  }
 ],
 "metadata": {
  "kernelspec": {
   "display_name": "Python 3 (ipykernel)",
   "language": "python",
   "name": "python3"
  },
  "language_info": {
   "codemirror_mode": {
    "name": "ipython",
    "version": 3
   },
   "file_extension": ".py",
   "mimetype": "text/x-python",
   "name": "python",
   "nbconvert_exporter": "python",
   "pygments_lexer": "ipython3",
   "version": "3.9.7"
  }
 },
 "nbformat": 4,
 "nbformat_minor": 5
}
