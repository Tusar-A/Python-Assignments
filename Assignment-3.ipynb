{
 "cells": [
  {
   "cell_type": "raw",
   "id": "0bb2038a",
   "metadata": {},
   "source": [
    "1. Why are functions advantageous to have in your programs?"
   ]
  },
  {
   "cell_type": "markdown",
   "id": "ada4568a",
   "metadata": {},
   "source": [
    "#### Answer:\n",
    "The main advantage of function in programming is that, if we want the same functionality and operation we don't need to write the same code multiple time. We'll write a function once and will call it where it needed as many time as we want. Without a function we've write the whole code for each time of operation."
   ]
  },
  {
   "cell_type": "code",
   "execution_count": null,
   "id": "ed6d0d28",
   "metadata": {},
   "outputs": [],
   "source": []
  },
  {
   "cell_type": "raw",
   "id": "f5cb7346",
   "metadata": {},
   "source": [
    "2. When does the code in a function run: when it's specified or when it's called?"
   ]
  },
  {
   "cell_type": "markdown",
   "id": "7336ebcb",
   "metadata": {},
   "source": [
    "#### Answer:\n",
    "A function is run when it is called not when it is specified."
   ]
  },
  {
   "cell_type": "code",
   "execution_count": null,
   "id": "6d25920e",
   "metadata": {},
   "outputs": [],
   "source": []
  },
  {
   "cell_type": "raw",
   "id": "36402b66",
   "metadata": {},
   "source": [
    "3. What statement creates a function?"
   ]
  },
  {
   "cell_type": "markdown",
   "id": "2d025c03",
   "metadata": {},
   "source": [
    "#### Answer:\n",
    "The def() keyword creates a function."
   ]
  },
  {
   "cell_type": "code",
   "execution_count": null,
   "id": "fc445dc8",
   "metadata": {},
   "outputs": [],
   "source": []
  },
  {
   "cell_type": "raw",
   "id": "ff680117",
   "metadata": {},
   "source": [
    "4. What is the difference between a function and a function call?"
   ]
  },
  {
   "cell_type": "markdown",
   "id": "b2b41a2a",
   "metadata": {},
   "source": [
    "#### Answer:\n",
    "A function is a block of code that is used to do a specific operation and return a result. Normally it takes input as parameters and return a result. On the other hand a function call is a piece of code that is used to pass and control the function."
   ]
  },
  {
   "cell_type": "code",
   "execution_count": null,
   "id": "dbda0a58",
   "metadata": {},
   "outputs": [],
   "source": []
  },
  {
   "cell_type": "raw",
   "id": "f3929a7f",
   "metadata": {},
   "source": [
    "5. How many global scopes are there in a Python program? How many local scopes?"
   ]
  },
  {
   "cell_type": "raw",
   "id": "07159663",
   "metadata": {},
   "source": [
    "#### Answer:\n",
    "In python programming, there are total four types of scopes, those are built-i, enclosing, local and global.\n",
    "<br>\n",
    "In global scope there are only one scope in python program and in local scope there also only one scope."
   ]
  },
  {
   "cell_type": "code",
   "execution_count": null,
   "id": "c1295582",
   "metadata": {},
   "outputs": [],
   "source": []
  },
  {
   "cell_type": "raw",
   "id": "84801948",
   "metadata": {},
   "source": [
    "6. What happens to variables in a local scope when the function call returns?"
   ]
  },
  {
   "cell_type": "markdown",
   "id": "6f49ae48",
   "metadata": {},
   "source": [
    "#### Answer:\n",
    "In local scope, a local variable retains it value until the next time the function is called and it becomes undefined after the function call is completed."
   ]
  },
  {
   "cell_type": "code",
   "execution_count": null,
   "id": "b936f488",
   "metadata": {},
   "outputs": [],
   "source": []
  },
  {
   "cell_type": "raw",
   "id": "337e5c9e",
   "metadata": {},
   "source": [
    "7. What is the concept of a return value? Is it possible to have a return value in an expression?"
   ]
  },
  {
   "cell_type": "markdown",
   "id": "021a393c",
   "metadata": {},
   "source": [
    "#### Answer:\n",
    "The concept of a return values is that, when a function is called and complete it's operation producting a result the return keyword will return the result to display. And the return is used only in function, it can't be used in an expression."
   ]
  },
  {
   "cell_type": "code",
   "execution_count": null,
   "id": "18200bdc",
   "metadata": {},
   "outputs": [],
   "source": []
  },
  {
   "cell_type": "raw",
   "id": "7b7110d6",
   "metadata": {},
   "source": [
    "8. If a function does not have a return statement, what is the return value of a call to that function?"
   ]
  },
  {
   "cell_type": "markdown",
   "id": "5fe236c3",
   "metadata": {},
   "source": [
    "#### Answer\n",
    "In python if a function does not have a return statement, then the function will produce a result but it won't return the result explicitly."
   ]
  },
  {
   "cell_type": "code",
   "execution_count": null,
   "id": "c55004cc",
   "metadata": {},
   "outputs": [],
   "source": []
  },
  {
   "cell_type": "raw",
   "id": "b39bfe78",
   "metadata": {},
   "source": [
    "9. How do you make a function variable refer to the global variable?"
   ]
  },
  {
   "cell_type": "markdown",
   "id": "f012019d",
   "metadata": {},
   "source": [
    "#### Answer\n",
    "To refer a function variable to global variable, the global keyword is used. "
   ]
  },
  {
   "cell_type": "raw",
   "id": "819757f0",
   "metadata": {},
   "source": [
    "10. What is the data type of None?"
   ]
  },
  {
   "cell_type": "markdown",
   "id": "e179fb19",
   "metadata": {},
   "source": [
    "#### Answer:\n",
    "The data type None is the NoneType which refers to null value or no value in the variable."
   ]
  },
  {
   "cell_type": "code",
   "execution_count": null,
   "id": "01f20e87",
   "metadata": {},
   "outputs": [],
   "source": []
  },
  {
   "cell_type": "raw",
   "id": "19477ffe",
   "metadata": {},
   "source": [
    "11. What does the sentence import areallyourpetsnamederic do?"
   ]
  },
  {
   "cell_type": "markdown",
   "id": "6fccdd09",
   "metadata": {},
   "source": [
    "#### Answer:\n",
    "import areallyourpetsnamederic statement imports a module called areallyourpetsnamederic"
   ]
  },
  {
   "cell_type": "code",
   "execution_count": null,
   "id": "0b03e9f7",
   "metadata": {},
   "outputs": [],
   "source": []
  },
  {
   "cell_type": "raw",
   "id": "9b06ecf0",
   "metadata": {},
   "source": [
    "12. If you had a bacon() feature in a spam module, what would you call it after importing spam?"
   ]
  },
  {
   "cell_type": "markdown",
   "id": "79133700",
   "metadata": {},
   "source": [
    "#### Answer:\n",
    "After importing the spam module if we wish to use bacon feature then the following syntax should be used,\n",
    "<br>\n",
    "spam.bacon()"
   ]
  },
  {
   "cell_type": "code",
   "execution_count": null,
   "id": "82f4cdc4",
   "metadata": {},
   "outputs": [],
   "source": []
  },
  {
   "cell_type": "raw",
   "id": "c8b49d85",
   "metadata": {},
   "source": [
    "13. What can you do to save a programme from crashing if it encounters an error?"
   ]
  },
  {
   "cell_type": "markdown",
   "id": "114cf370",
   "metadata": {},
   "source": [
    "#### Answer:\n",
    "Using a try and except block or raising an error which is known as error handling can save a programme from crashing if it encounters an error."
   ]
  },
  {
   "cell_type": "code",
   "execution_count": null,
   "id": "db026c34",
   "metadata": {},
   "outputs": [],
   "source": []
  },
  {
   "cell_type": "raw",
   "id": "39ec57cd",
   "metadata": {},
   "source": [
    "14. What is the purpose of the try clause? What is the purpose of the except clause?"
   ]
  },
  {
   "cell_type": "markdown",
   "id": "432459bc",
   "metadata": {},
   "source": [
    "#### Answer:\n",
    "The purpose of the try clause is to check if the code is error free or if there is any error, and if there is the except clause  helps to handle these errors of the programme."
   ]
  },
  {
   "cell_type": "code",
   "execution_count": null,
   "id": "f76f31b9",
   "metadata": {},
   "outputs": [],
   "source": []
  }
 ],
 "metadata": {
  "kernelspec": {
   "display_name": "Python 3 (ipykernel)",
   "language": "python",
   "name": "python3"
  },
  "language_info": {
   "codemirror_mode": {
    "name": "ipython",
    "version": 3
   },
   "file_extension": ".py",
   "mimetype": "text/x-python",
   "name": "python",
   "nbconvert_exporter": "python",
   "pygments_lexer": "ipython3",
   "version": "3.9.7"
  }
 },
 "nbformat": 4,
 "nbformat_minor": 5
}
