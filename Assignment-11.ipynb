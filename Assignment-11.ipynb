{
 "cells": [
  {
   "cell_type": "markdown",
   "id": "2d43614e",
   "metadata": {},
   "source": [
    "### Question-1\n",
    "Create an assert statement that throws an AssertionError if the variable spam is a negative\n",
    "integer.\n",
    "\n",
    "##### Answer:"
   ]
  },
  {
   "cell_type": "code",
   "execution_count": 1,
   "id": "6470d02d",
   "metadata": {},
   "outputs": [
    {
     "ename": "AssertionError",
     "evalue": "AssertionError occured.",
     "output_type": "error",
     "traceback": [
      "\u001b[1;31m---------------------------------------------------------------------------\u001b[0m",
      "\u001b[1;31mAssertionError\u001b[0m                            Traceback (most recent call last)",
      "\u001b[1;32m~\\AppData\\Local\\Temp/ipykernel_9792/1350974921.py\u001b[0m in \u001b[0;36m<module>\u001b[1;34m\u001b[0m\n\u001b[0;32m      1\u001b[0m \u001b[0mspam\u001b[0m \u001b[1;33m=\u001b[0m \u001b[1;36m1\u001b[0m\u001b[1;33m\u001b[0m\u001b[1;33m\u001b[0m\u001b[0m\n\u001b[1;32m----> 2\u001b[1;33m \u001b[1;32massert\u001b[0m \u001b[0mspam\u001b[0m\u001b[1;33m<\u001b[0m\u001b[1;36m0\u001b[0m\u001b[1;33m,\u001b[0m \u001b[1;34m'AssertionError occured.'\u001b[0m\u001b[1;33m\u001b[0m\u001b[1;33m\u001b[0m\u001b[0m\n\u001b[0m",
      "\u001b[1;31mAssertionError\u001b[0m: AssertionError occured."
     ]
    }
   ],
   "source": [
    "spam = 1\n",
    "assert spam<0, 'AssertionError occured.'"
   ]
  },
  {
   "cell_type": "markdown",
   "id": "60060fbc",
   "metadata": {},
   "source": [
    "### Question-2\n",
    "Write an assert statement that triggers an AssertionError if the variables eggs and bacon contain\n",
    "strings that are the same as each other, even if their cases are different (that is, &#39;hello&#39; and &#39;hello&#39; are\n",
    "considered the same, and &#39;goodbye&#39; and &#39;GOODbye&#39; are also considered the same).\n",
    "\n",
    "\n",
    "##### Answer:"
   ]
  },
  {
   "cell_type": "code",
   "execution_count": null,
   "id": "ed72cec0",
   "metadata": {},
   "outputs": [],
   "source": [
    "try:\n",
    "    eggs = 'hello'\n",
    "    bacon = 'Hello'\n",
    "\n",
    "    assert eggs.lower() is bacon.lower(), 'AssertionError occured'\n",
    "except AssertionError as e:\n",
    "    print(e)"
   ]
  },
  {
   "cell_type": "markdown",
   "id": "a3b7c952",
   "metadata": {},
   "source": [
    "### Question-3\n",
    "\n",
    "Create an assert statement that throws an AssertionError every time.\n",
    "\n",
    "##### Answer:"
   ]
  },
  {
   "cell_type": "code",
   "execution_count": 2,
   "id": "05940376",
   "metadata": {},
   "outputs": [
    {
     "name": "stdout",
     "output_type": "stream",
     "text": [
      "An AssertionError has been occured\n"
     ]
    }
   ],
   "source": [
    "try:\n",
    "    x = 10\n",
    "    y = 12\n",
    "    assert False, \"An AssertionError has been occured\"\n",
    "except AssertionError as e:\n",
    "    print(e)"
   ]
  },
  {
   "cell_type": "markdown",
   "id": "eb0bae18",
   "metadata": {},
   "source": [
    "### Question-4\n",
    "What are the two lines that must be present in your software in order to call logging.debug()?\n",
    "\n",
    "\n",
    "##### Answer: \n",
    "To be able to call logging.debug() the following two lines must be present."
   ]
  },
  {
   "cell_type": "code",
   "execution_count": 3,
   "id": "42c0dfa6",
   "metadata": {},
   "outputs": [],
   "source": [
    "import logging\n",
    "logging.basicConfig(filename='logfile.log', level=logging.INFO)"
   ]
  },
  {
   "cell_type": "markdown",
   "id": "328d9e35",
   "metadata": {},
   "source": [
    "### Question-5\n",
    "What are the two lines that your program must have in order to have logging.debug() send a\n",
    "logging message to a file named programLog.txt?\n",
    "\n",
    "\n",
    "##### Answer:\n",
    "The following two lines must be in the program to send logging message"
   ]
  },
  {
   "cell_type": "code",
   "execution_count": 4,
   "id": "9a1b41d6",
   "metadata": {},
   "outputs": [],
   "source": [
    "import logging\n",
    "logging.basicConfig(filename='programLog.txt', level=logging.DEBUG, format=\"%(asctime)s %(levelname)s %(message)s\")"
   ]
  },
  {
   "cell_type": "markdown",
   "id": "a5756f78",
   "metadata": {},
   "source": [
    "### Question-6\n",
    "What are the five levels of logging?\n",
    "\n",
    "\n",
    "##### Answer:\n",
    "The five levels of loggings are:<br>\n",
    "                                1. DEBUG<br>\n",
    "                                2. INFO<br>\n",
    "                                3. WARNING<br>\n",
    "                                4.ERROR<br>\n",
    "                                5. CRITICAL"
   ]
  },
  {
   "cell_type": "markdown",
   "id": "97e0adcd",
   "metadata": {},
   "source": [
    "### Question-7\n",
    "What line of code would you add to your software to disable all logging messages?\n",
    "\n",
    "\n",
    "##### Answer:\n",
    "The following line of code would be used to disable all logging messages."
   ]
  },
  {
   "cell_type": "code",
   "execution_count": 5,
   "id": "f49537ad",
   "metadata": {},
   "outputs": [],
   "source": [
    "logging.disable(logging.CRITICAL)"
   ]
  },
  {
   "cell_type": "markdown",
   "id": "0d1959fa",
   "metadata": {},
   "source": [
    "### Question-8\n",
    "Why is using logging messages better than using print() to display the same message?\n",
    "\n",
    "\n",
    "##### Answer:\n",
    "Logging allows to get a direct log message to seperate files and also has different levels of severity of errors which give more flexibility whereas print statement does not give this flexibility and availablity."
   ]
  },
  {
   "cell_type": "markdown",
   "id": "aa4bc494",
   "metadata": {},
   "source": [
    "### Question-9\n",
    "What are the differences between the Step Over, Step In, and Step Out buttons in the debugger?\n",
    "\n",
    "\n",
    "##### Answer:\n",
    "The Step Over runs the code and then suspends the execution at the first line of code after the called function returns.\n",
    "\n",
    "Step Out continues running code and suspends execution when the current function reutrns.\n",
    "\n",
    "Step in move the debugger into the function call."
   ]
  },
  {
   "cell_type": "markdown",
   "id": "f9318364",
   "metadata": {},
   "source": [
    "### Question-10\n",
    "After you click Continue, when will the debugger stop ?\n",
    "\n",
    "\n",
    "##### Answer:\n",
    "Clicking Continue, continue execution until the next line in the current fuction is reached or it return"
   ]
  },
  {
   "cell_type": "markdown",
   "id": "2cb2b287",
   "metadata": {},
   "source": [
    "### Question-11\n",
    "What is the concept of a breakpoint?\n",
    "\n",
    "\n",
    "##### Answer:\n",
    "A breakpoint in programming is a in the program where all the code stop executing."
   ]
  },
  {
   "cell_type": "code",
   "execution_count": null,
   "id": "2fdf5082",
   "metadata": {},
   "outputs": [],
   "source": []
  }
 ],
 "metadata": {
  "kernelspec": {
   "display_name": "Python 3 (ipykernel)",
   "language": "python",
   "name": "python3"
  },
  "language_info": {
   "codemirror_mode": {
    "name": "ipython",
    "version": 3
   },
   "file_extension": ".py",
   "mimetype": "text/x-python",
   "name": "python",
   "nbconvert_exporter": "python",
   "pygments_lexer": "ipython3",
   "version": "3.9.7"
  }
 },
 "nbformat": 4,
 "nbformat_minor": 5
}
