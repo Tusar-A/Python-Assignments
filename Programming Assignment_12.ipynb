{
 "cells": [
  {
   "cell_type": "markdown",
   "id": "645402c2",
   "metadata": {},
   "source": [
    "### Question-1\n",
    "Write a Python program to Extract Unique values dictionary values?\n",
    "\n",
    "\n",
    "##### Answer:"
   ]
  },
  {
   "cell_type": "code",
   "execution_count": 1,
   "id": "28ef8f80",
   "metadata": {},
   "outputs": [
    {
     "data": {
      "text/plain": [
       "('Unique values are: ', {1, 2, 3, 4})"
      ]
     },
     "execution_count": 1,
     "metadata": {},
     "output_type": "execute_result"
    }
   ],
   "source": [
    "dictionary = {\n",
    "    'a':1,\n",
    "    'b':2,\n",
    "    'c':3,\n",
    "    'd':3,\n",
    "    'e':4\n",
    "}\n",
    "\n",
    "def extract_unique(dictionary):\n",
    "    try:\n",
    "        # finding & returning unique values using set function\n",
    "        return \"Unique values are: \",set(dictionary.values())\n",
    "    \n",
    "    except Exception as error:\n",
    "        return \"Error occured\"\n",
    "        \n",
    "extract_unique(dictionary)"
   ]
  },
  {
   "cell_type": "markdown",
   "id": "8cc3e1f9",
   "metadata": {},
   "source": [
    "### Question-2\n",
    "Write a Python program to find the sum of all items in a dictionary?\n",
    "\n",
    "\n",
    "##### Answer:"
   ]
  },
  {
   "cell_type": "code",
   "execution_count": 2,
   "id": "198ca75d",
   "metadata": {},
   "outputs": [
    {
     "data": {
      "text/plain": [
       "('Sum of all items is: ', 13)"
      ]
     },
     "execution_count": 2,
     "metadata": {},
     "output_type": "execute_result"
    }
   ],
   "source": [
    "dictionary = {\n",
    "    'a':1,\n",
    "    'b':2,\n",
    "    'c':3,\n",
    "    'd':3,\n",
    "    'e':4\n",
    "}\n",
    "\n",
    "def calculate_sum(dictionary):\n",
    "    try:\n",
    "        # finding & returning sum of items suing sum() function\n",
    "        return \"Sum of all items is: \",sum(dictionary.values())\n",
    "    \n",
    "    except Exception as error:\n",
    "        return \"Error occured\"\n",
    "        \n",
    "calculate_sum(dictionary)"
   ]
  },
  {
   "cell_type": "markdown",
   "id": "e372a051",
   "metadata": {},
   "source": [
    "### Question-3\n",
    "Write a Python program to Merging two Dictionaries?\n",
    "\n",
    "\n",
    "##### Answer:"
   ]
  },
  {
   "cell_type": "code",
   "execution_count": 3,
   "id": "e32f9f05",
   "metadata": {},
   "outputs": [
    {
     "data": {
      "text/plain": [
       "('Merged dictionary: ',\n",
       " {'a': 1, 'b': 2, 'c': 3, 'd': 4, 'e': 5, 'f': 6, 'g': 7})"
      ]
     },
     "execution_count": 3,
     "metadata": {},
     "output_type": "execute_result"
    }
   ],
   "source": [
    "dict1 = {'a':1, 'b':2, 'c':3, 'd':4}\n",
    "dict2 = {'e':5, 'f': 6, 'g':7}\n",
    "\n",
    "def merge_dict(dict1, dict2):\n",
    "    try:\n",
    "        return \"Merged dictionary: \", {**dict1, **dict2}\n",
    "    \n",
    "    except Exception as error:\n",
    "        return \"Can not merged dictionary\", error\n",
    "\n",
    "merge_dict(dict1, dict2)"
   ]
  },
  {
   "cell_type": "markdown",
   "id": "da398212",
   "metadata": {},
   "source": [
    "### Question-4\n",
    "Write a Python program to convert key-values list to flat dictionary?\n",
    "\n",
    "\n",
    "##### Answer:"
   ]
  },
  {
   "cell_type": "code",
   "execution_count": 4,
   "id": "cef5ad5b",
   "metadata": {},
   "outputs": [
    {
     "data": {
      "text/plain": [
       "('Flattened dictionary: ', {1: 'Friday', 2: 'Saturday', 3: 'Sunday'})"
      ]
     },
     "execution_count": 4,
     "metadata": {},
     "output_type": "execute_result"
    }
   ],
   "source": [
    "dictionary = {\"day\":[1,2,3], \"name\":['Friday','Saturday','Sunday']}\n",
    "\n",
    "def convert_flat_dict(dictionary):\n",
    "    return \"Flattened dictionary: \", dict(zip(dictionary['day'], dictionary[\"name\"]))\n",
    "\n",
    "convert_flat_dict(dictionary)"
   ]
  },
  {
   "cell_type": "markdown",
   "id": "7f3628d6",
   "metadata": {},
   "source": [
    "### Question-5\n",
    "Write a Python program to insertion at the beginning in OrderedDict?\n",
    "\n",
    "\n",
    "##### Answer:"
   ]
  },
  {
   "cell_type": "code",
   "execution_count": 5,
   "id": "436f5a1d",
   "metadata": {},
   "outputs": [
    {
     "data": {
      "text/plain": [
       "OrderedDict([('Tushar', 20), ('Tusar', 'Ahmed'), (1, 2)])"
      ]
     },
     "execution_count": 5,
     "metadata": {},
     "output_type": "execute_result"
    }
   ],
   "source": [
    "from collections import OrderedDict\n",
    "def insert_value(dic, val):\n",
    "        \n",
    "    return OrderedDict(list(val.items()) + list(dic.items()))\n",
    "\n",
    "dict1 = OrderedDict([('Tusar','Ahmed'), (1, 2)])\n",
    "value = OrderedDict([(\"Tushar\", 20)])\n",
    "\n",
    "insert_value(dict1, value)"
   ]
  },
  {
   "cell_type": "markdown",
   "id": "821ffc8b",
   "metadata": {},
   "source": [
    "### Question-6\n",
    "Write a Python program to check order of character in string using OrderedDict()?\n",
    "\n",
    "\n",
    "##### Answer:"
   ]
  },
  {
   "cell_type": "code",
   "execution_count": 6,
   "id": "9de58480",
   "metadata": {},
   "outputs": [
    {
     "data": {
      "text/plain": [
       "'Order is correct'"
      ]
     },
     "execution_count": 6,
     "metadata": {},
     "output_type": "execute_result"
    }
   ],
   "source": [
    "from collections import OrderedDict\n",
    "\n",
    "def check_order(inpt, pattern):\n",
    "    new_dict = OrderedDict.fromkeys(inpt)\n",
    "    pattern_length = 0\n",
    "    \n",
    "    for key, value in new_dict.items():\n",
    "        if (key == pattern[pattern_length]):\n",
    "            pattern_length = pattern_length + 1\n",
    "            \n",
    "        if (pattern_length == (len(pattern))):\n",
    "            return 'Order is correct'\n",
    "        \n",
    "    return \"Order is not correct\"\n",
    "\n",
    "\n",
    "inpt = \"Tusar Ahmed\"\n",
    "pattern = 'Tu'\n",
    "\n",
    "check_order(inpt, pattern)"
   ]
  },
  {
   "cell_type": "markdown",
   "id": "40422159",
   "metadata": {},
   "source": [
    "### Question-7\n",
    "Write a Python program to sort Python Dictionaries by Key or Value?\n",
    "\n",
    "\n",
    "##### Answer:"
   ]
  },
  {
   "cell_type": "code",
   "execution_count": 7,
   "id": "d4661045",
   "metadata": {},
   "outputs": [
    {
     "data": {
      "text/plain": [
       "('Sorted keys: ', ['ID', 'Occupation', 'name'])"
      ]
     },
     "execution_count": 7,
     "metadata": {},
     "output_type": "execute_result"
    }
   ],
   "source": [
    "dictionary = {\"name\": \"Tusar\", \"Occupation\": \"Student\", \"ID\": 0}\n",
    "\n",
    "def sort_dict(dictionary):\n",
    "    # sorted by keys\n",
    "    sorted_key = sorted(dictionary)\n",
    "    return \"Sorted keys: \",sorted_key\n",
    "\n",
    "sort_dict(dictionary)"
   ]
  },
  {
   "cell_type": "code",
   "execution_count": null,
   "id": "bbc7a3d8",
   "metadata": {},
   "outputs": [],
   "source": []
  }
 ],
 "metadata": {
  "kernelspec": {
   "display_name": "Python 3 (ipykernel)",
   "language": "python",
   "name": "python3"
  },
  "language_info": {
   "codemirror_mode": {
    "name": "ipython",
    "version": 3
   },
   "file_extension": ".py",
   "mimetype": "text/x-python",
   "name": "python",
   "nbconvert_exporter": "python",
   "pygments_lexer": "ipython3",
   "version": "3.9.7"
  }
 },
 "nbformat": 4,
 "nbformat_minor": 5
}
