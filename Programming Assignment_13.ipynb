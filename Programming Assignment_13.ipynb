{
 "cells": [
  {
   "cell_type": "markdown",
   "id": "9eff0097",
   "metadata": {},
   "source": [
    "### Question 1\n",
    "\n",
    "Write a program that calculates and prints the value according to the given formula:\n",
    "\n",
    "Q = Square root of [(2 * C * D)/H]\n",
    "\n",
    "Following are the fixed values of C and H:\n",
    "C is 50. H is 30.\n",
    "\n",
    "D is the variable whose values should be input to your program in a comma-separated\n",
    "sequence.\n",
    "\n",
    "Example\n",
    "\n",
    "Let us assume the following comma separated input sequence is given to the program:\n",
    "\n",
    "100,150,180\n",
    "The output of the program should be:\n",
    "\n",
    "18,22,24"
   ]
  },
  {
   "cell_type": "code",
   "execution_count": 1,
   "id": "fe8690ea",
   "metadata": {},
   "outputs": [],
   "source": [
    "# Creating the folmula\n",
    "\n",
    "def calculation_formula(C = 50, H = 30):\n",
    "    import math\n",
    "\n",
    "    # defining the variables\n",
    "    D = input(\"Enter comma seperated values: \").split(',')\n",
    "    Q = []\n",
    "    for i in D:\n",
    "        q = math.sqrt((2*C*int(i))/H)\n",
    "        Q.append(math.floor(q))\n",
    "    return Q"
   ]
  },
  {
   "cell_type": "code",
   "execution_count": 2,
   "id": "14c920be",
   "metadata": {},
   "outputs": [
    {
     "name": "stdout",
     "output_type": "stream",
     "text": [
      "Enter comma seperated values: 100,150,180\n"
     ]
    },
    {
     "data": {
      "text/plain": [
       "[18, 22, 24]"
      ]
     },
     "execution_count": 2,
     "metadata": {},
     "output_type": "execute_result"
    }
   ],
   "source": [
    "calculation_formula()"
   ]
  },
  {
   "cell_type": "markdown",
   "id": "572d7295",
   "metadata": {},
   "source": [
    "### Question 2\n",
    "\n",
    "Write a program which takes 2 digits, X,Y as input and generates a 2-dimensional array. The\n",
    "element value in the i-th row and j-th column of the array should be i*j.\n",
    "\n",
    "Note: i=0,1.., X-1; j=0,1,¡Y-1.\n",
    "\n",
    "Example\n",
    "\n",
    "Suppose the following inputs are given to the program:\n",
    "\n",
    "3,5\n",
    "\n",
    "Then, the output of the program should be:\n",
    "\n",
    "[[0, 0, 0, 0, 0], [0, 1, 2, 3, 4], [0, 2, 4, 6, 8]]"
   ]
  },
  {
   "cell_type": "code",
   "execution_count": 3,
   "id": "3bd99aed",
   "metadata": {
    "scrolled": true
   },
   "outputs": [
    {
     "name": "stdout",
     "output_type": "stream",
     "text": [
      "Enter number of rows: 3\n",
      "Enter number of columns: 5\n",
      "[[0, 0, 0, 0, 0], [0, 1, 2, 3, 4], [0, 2, 4, 6, 8]]\n"
     ]
    }
   ],
   "source": [
    "X = int(input(\"Enter number of rows: \"))\n",
    "Y = int(input(\"Enter number of columns: \"))\n",
    "array_list = [[0 for col in range(Y)] for row in range(X)]\n",
    "\n",
    "for row in range(X):\n",
    "    for col in range(Y):\n",
    "        array_list[row][col]=row*col\n",
    "        \n",
    "print(array_list)"
   ]
  },
  {
   "cell_type": "markdown",
   "id": "c7717124",
   "metadata": {},
   "source": [
    "### Question-3\n",
    "\n",
    "Write a program that accepts a comma separated sequence of words as input and prints the\n",
    "words in a comma-separated sequence after sorting them alphabetically.\n",
    "\n",
    "Suppose the following input is supplied to the program:\n",
    "\n",
    "without,hello,bag,world\n",
    "\n",
    "Then, the output should be:\n",
    "\n",
    "bag,hello,without,world"
   ]
  },
  {
   "cell_type": "code",
   "execution_count": 4,
   "id": "f89b8add",
   "metadata": {},
   "outputs": [
    {
     "name": "stdout",
     "output_type": "stream",
     "text": [
      "Enter comma seperated values: without,hello,bag,world\n",
      "bag, hello, without, world\n"
     ]
    }
   ],
   "source": [
    "input_value = input('Enter comma seperated values: ').split(',')\n",
    "input_value.sort()\n",
    "input_value = ', '.join(input_value)\n",
    "print(input_value)"
   ]
  },
  {
   "cell_type": "markdown",
   "id": "e207b05c",
   "metadata": {},
   "source": [
    "### Question-4\n",
    "\n",
    "Write a program that accepts a sequence of whitespace separated words as input and prints\n",
    "the words after removing all duplicate words and sorting them alphanumerically.\n",
    "\n",
    "Suppose the following input is supplied to the program:\n",
    "\n",
    "hello world and practice makes perfect and hello world again\n",
    "\n",
    "Then, the output should be:\n",
    "\n",
    "again and hello makes perfect practice world"
   ]
  },
  {
   "cell_type": "code",
   "execution_count": 6,
   "id": "0caf31e8",
   "metadata": {},
   "outputs": [
    {
     "name": "stdout",
     "output_type": "stream",
     "text": [
      "Enter the sentance: hello world and practice makes perfect and hello world again\n",
      "again, and, hello, makes, perfect, practice, world\n"
     ]
    }
   ],
   "source": [
    "input_sentance = input(\"Enter the sentance: \").split(' ')\n",
    "\n",
    "unique_words = []\n",
    "[unique_words.append(x) for x in input_sentance if x not in unique_words]\n",
    "\n",
    "unique_words.sort()\n",
    "unique_words = ', '.join(unique_words)\n",
    "print(unique_words)"
   ]
  },
  {
   "cell_type": "markdown",
   "id": "041bb44e",
   "metadata": {},
   "source": [
    "## Question-5\n",
    "\n",
    "Write a program that accepts a sentence and calculate the number of letters and digits.\n",
    "\n",
    "Suppose the following input is supplied to the program:\n",
    "\n",
    "hello world! 123\n",
    "\n",
    "Then, the output should be:\n",
    "\n",
    "LETTERS 10\n",
    "\n",
    "DIGITS 3"
   ]
  },
  {
   "cell_type": "code",
   "execution_count": 7,
   "id": "20ce2793",
   "metadata": {},
   "outputs": [
    {
     "name": "stdout",
     "output_type": "stream",
     "text": [
      "Enter the sentance: hello world! 123\n",
      "Letters:  10\n",
      "Digits:  3\n"
     ]
    }
   ],
   "source": [
    "input_sentance = input(\"Enter the sentance: \")\n",
    "letters = 0\n",
    "digits = 0\n",
    "\n",
    "for i in range(len(input_sentance)):\n",
    "    if (input_sentance[i].isalpha()):\n",
    "        letters+=1\n",
    "    elif (input_sentance[i].isnumeric()):\n",
    "        digits+=1\n",
    "    else:\n",
    "        None\n",
    "print(\"Letters: \", letters)\n",
    "print('Digits: ', digits)"
   ]
  },
  {
   "cell_type": "markdown",
   "id": "ad103c9c",
   "metadata": {},
   "source": [
    "## Question-6\n",
    "\n",
    "A website requires the users to input username and password to register. Write a program to\n",
    "check the validity of password input by users.\n",
    "\n",
    "Following are the criteria for checking the password:\n",
    "\n",
    "1. At least 1 letter between [a-z]\n",
    "\n",
    "2. At least 1 number between [0-9]\n",
    "\n",
    "1. At least 1 letter between [A-Z]\n",
    "\n",
    "3. At least 1 character from [$#@]\n",
    "\n",
    "4. Minimum length of transaction password: 6\n",
    "\n",
    "5. Maximum length of transaction password: 12\n",
    "\n",
    "Your program should accept a sequence of comma separated passwords and will check them\n",
    "according to the above criteria. Passwords that match the criteria are to be printed, each\n",
    "separated by a comma.\n",
    "\n",
    "Example\n",
    "\n",
    "If the following passwords are given as input to the program:\n",
    "\n",
    "ABd1234@1,a F1#,2w3E*,2We3345\n",
    "\n",
    "Then, the output of the program should be:\n",
    "\n",
    "ABd1234@1"
   ]
  },
  {
   "cell_type": "code",
   "execution_count": 8,
   "id": "97b88a68",
   "metadata": {},
   "outputs": [
    {
     "name": "stdout",
     "output_type": "stream",
     "text": [
      "Enter comma seperated password: ABd1234@1,a F1#,2w3E*,2We3345\n",
      "ABd1234@1\n"
     ]
    }
   ],
   "source": [
    "import re\n",
    "input_pass = input(\"Enter comma seperated password: \").split(\",\")\n",
    "x = True\n",
    "\n",
    "for i in range(len(input_pass)):\n",
    "    while x:\n",
    "        if len(input_pass[i])<6 or len(input_pass[i])>12:\n",
    "            break\n",
    "            \n",
    "        elif not re.search(\"[a-z]\", input_pass[i]):\n",
    "            break\n",
    "            \n",
    "        elif not re.search(\"[0-9]\", input_pass[i]):\n",
    "            break\n",
    "            \n",
    "        elif not re.search(\"[A-Z]\", input_pass[i]):\n",
    "            break\n",
    "        \n",
    "        elif not re.search(\"[$#@]\", input_pass[i]):\n",
    "            break\n",
    "            \n",
    "        elif re.search(\"\\s\", input_pass[i]):\n",
    "            break\n",
    "        \n",
    "        else:\n",
    "            print(input_pass[i])\n",
    "            x = False\n",
    "            break\n",
    "            "
   ]
  },
  {
   "cell_type": "code",
   "execution_count": null,
   "id": "3add4a6a",
   "metadata": {},
   "outputs": [],
   "source": []
  }
 ],
 "metadata": {
  "kernelspec": {
   "display_name": "Python 3 (ipykernel)",
   "language": "python",
   "name": "python3"
  },
  "language_info": {
   "codemirror_mode": {
    "name": "ipython",
    "version": 3
   },
   "file_extension": ".py",
   "mimetype": "text/x-python",
   "name": "python",
   "nbconvert_exporter": "python",
   "pygments_lexer": "ipython3",
   "version": "3.9.13"
  }
 },
 "nbformat": 4,
 "nbformat_minor": 5
}
