{
 "cells": [
  {
   "cell_type": "markdown",
   "id": "b0bd270f",
   "metadata": {},
   "source": [
    "### Question-1\n",
    "What are escape characters, and how do you use them?\n",
    "\n",
    "#### Answer:\n",
    "An escape character is is used to insert any character that is illegal in a string. In python escape character is a backslash \\ followed by the character need to be inserted."
   ]
  },
  {
   "cell_type": "markdown",
   "id": "9b9cc046",
   "metadata": {},
   "source": [
    "### Question-2\n",
    "What do the escape characters n and t stand for?\n",
    "\n",
    "#### Answer:\n",
    "The escape character n stands for a line break or newline.\n",
    "\n",
    "And, the escape character t stands for a tab."
   ]
  },
  {
   "cell_type": "markdown",
   "id": "932d1246",
   "metadata": {},
   "source": [
    "### Question-3\n",
    "What is the way to include backslash characters in a string?\n",
    "\n",
    "#### Answer:\n",
    "To include a backslash character in a string double backslash (\\\\\\\\) is used."
   ]
  },
  {
   "cell_type": "markdown",
   "id": "51dbc64a",
   "metadata": {},
   "source": [
    "### Question-4\n",
    "The string &quot;Howl&#39;s Moving Castle&quot; is a correct value. Why isn&#39;t the single quote character in the\n",
    "word Howl&#39;s not escaped a problem?\n",
    "\n",
    "#### Answer:\n",
    "In python, double quote or single quote is used to define a string. If we use double quote while defining string then we can use single quote inside that string without any escape problem. And the same things goes to single and double quote. This is the reason why the above example didn't return an escaped problem."
   ]
  },
  {
   "cell_type": "markdown",
   "id": "79215347",
   "metadata": {},
   "source": [
    "### Question-5\n",
    "How do you write a string of newlines if you don&#39;t want to use the n character?\n",
    "\n",
    "#### Answer:\n",
    "In python, if we don't want to use \\\\n for a new line but want to have a new line then we can use \"end=\" that is inside the print function."
   ]
  },
  {
   "cell_type": "markdown",
   "id": "c83dea06",
   "metadata": {},
   "source": [
    "### Question-6\n",
    "What are the values of the given expressions?\n",
    "\n",
    "&#39;Hello, world!&#39;[1]\n",
    "\n",
    "&#39;Hello, world!&#39;[0:5]\n",
    "\n",
    "&#39;Hello, world!&#39;[:5]\n",
    "\n",
    "&#39;Hello, world!&#39;[3:]\n",
    "\n",
    "#### Answer:\n",
    "The first one, 'Hello, world!'[1] will return \"e\" as output.\n",
    "\n",
    "The second one, 'Hello, world!'[0:5] will return \"Hello\" as output.\n",
    "\n",
    "The third one, 'Hello, world!'[:5] will return \"Hello\" as output.\n",
    "\n",
    "The fourth one, 'Hello, world!'[3:] will return \"lo, world!\" as output."
   ]
  },
  {
   "cell_type": "markdown",
   "id": "f68d7779",
   "metadata": {},
   "source": [
    "### Question-7\n",
    "What are the values of the following expressions?\n",
    "\n",
    "&#39;Hello&#39;.upper()\n",
    "\n",
    "&#39;Hello&#39;.upper().isupper()\n",
    "\n",
    "&#39;Hello&#39;.upper().lower()\n",
    "\n",
    "#### Answer:\n",
    "\n",
    "'Hello'.upper() will return 'HELLO'\n",
    "\n",
    "'Hello'.lower() will return 'hello'\n",
    "\n",
    "'Hello'.upper().lower() will return 'hello'"
   ]
  },
  {
   "cell_type": "markdown",
   "id": "105c5a40",
   "metadata": {},
   "source": [
    "### Question-8\n",
    "\n",
    "What are the values of the following expressions?\n",
    "\n",
    "&#39;Remember, remember, the fifth of July.&#39;.split()\n",
    "\n",
    "&#39;-&#39;.join(&#39;There can only one.&#39;.split())\n",
    "\n",
    "#### Answer:\n",
    "The first one will split all the values seperately and return a list: \n",
    "['Remember,', 'remember,', 'the', 'fifth', 'of', 'July.']\n",
    "\n",
    "\n",
    "For the second one, first the string will be splitted and then will join each one with a '-' and return: \n",
    "'There-can-only-one.'"
   ]
  },
  {
   "cell_type": "markdown",
   "id": "5683acc5",
   "metadata": {},
   "source": [
    "### Question-9\n",
    "What are the methods for right-justifying, left-justifying, and centering a string?\n",
    "\n",
    "#### Answer:\n",
    "For the right-justifying rjust() is used.\n",
    "\n",
    "For the left-justifying ljust() is used.\n",
    "\n",
    "For center justifying center() is used."
   ]
  },
  {
   "cell_type": "markdown",
   "id": "18cd8d26",
   "metadata": {},
   "source": [
    "### Question-10\n",
    "What is the best way to remove whitespace characters from the start or end?\n",
    "\n",
    "#### Answer:\n",
    "The strip() is used to remove any whitespace characters from the start or end. And for removing only white space from the start lstrip() is used and for end space rstrip() is used."
   ]
  },
  {
   "cell_type": "code",
   "execution_count": null,
   "id": "bdc8ad41",
   "metadata": {},
   "outputs": [],
   "source": []
  }
 ],
 "metadata": {
  "kernelspec": {
   "display_name": "Python 3 (ipykernel)",
   "language": "python",
   "name": "python3"
  },
  "language_info": {
   "codemirror_mode": {
    "name": "ipython",
    "version": 3
   },
   "file_extension": ".py",
   "mimetype": "text/x-python",
   "name": "python",
   "nbconvert_exporter": "python",
   "pygments_lexer": "ipython3",
   "version": "3.9.7"
  }
 },
 "nbformat": 4,
 "nbformat_minor": 5
}
