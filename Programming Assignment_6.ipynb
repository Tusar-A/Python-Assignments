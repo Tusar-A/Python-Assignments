{
 "cells": [
  {
   "cell_type": "markdown",
   "id": "8305fd5e",
   "metadata": {},
   "source": [
    "### Question-1\n",
    "Write a Python Program to Display Fibonacci Sequence Using Recursion?\n",
    "\n",
    "\n",
    "##### Answer:"
   ]
  },
  {
   "cell_type": "code",
   "execution_count": 1,
   "id": "cd9af41a",
   "metadata": {},
   "outputs": [
    {
     "name": "stdout",
     "output_type": "stream",
     "text": [
      "0\n",
      "1\n",
      "1\n",
      "2\n",
      "3\n",
      "5\n",
      "8\n",
      "13\n",
      "21\n",
      "34\n"
     ]
    }
   ],
   "source": [
    "def fib_recur(num):\n",
    "    if num<=1:\n",
    "        return num\n",
    "    else:\n",
    "        return (fib_recur(num-1)+fib_recur(num-2))\n",
    "    \n",
    "terms = 10\n",
    "if terms<=0:\n",
    "    print(\"Enter a positive number.\")\n",
    "    \n",
    "else:\n",
    "    for i in range(terms):\n",
    "        \n",
    "        print(fib_recur(i))"
   ]
  },
  {
   "cell_type": "markdown",
   "id": "5d1e1b67",
   "metadata": {},
   "source": [
    "### Question-2\n",
    "Write a Python Program to Find Factorial of Number Using Recursion?\n",
    "\n",
    "\n",
    "##### Answer:"
   ]
  },
  {
   "cell_type": "code",
   "execution_count": 2,
   "id": "b6da8e8e",
   "metadata": {},
   "outputs": [
    {
     "data": {
      "text/plain": [
       "120"
      ]
     },
     "execution_count": 2,
     "metadata": {},
     "output_type": "execute_result"
    }
   ],
   "source": [
    "def facto(num):\n",
    "    if num<=1:\n",
    "        return 1\n",
    "    else:\n",
    "        return num*facto(num-1)\n",
    "    \n",
    "facto(5)"
   ]
  },
  {
   "cell_type": "markdown",
   "id": "b0a32d92",
   "metadata": {},
   "source": [
    "### Question-3\n",
    "Write a Python Program to calculate your Body Mass Index?\n",
    "\n",
    "\n",
    "##### Answer:"
   ]
  },
  {
   "cell_type": "code",
   "execution_count": 3,
   "id": "dfbb7bc5",
   "metadata": {},
   "outputs": [
    {
     "name": "stdout",
     "output_type": "stream",
     "text": [
      "Enter weight: 30\n",
      "Enter height: 2.5\n"
     ]
    },
    {
     "data": {
      "text/plain": [
       "4.8"
      ]
     },
     "execution_count": 3,
     "metadata": {},
     "output_type": "execute_result"
    }
   ],
   "source": [
    "try:\n",
    "    def body_mass_index(weight, height):\n",
    "        bmi = weight/(height**2)\n",
    "        return bmi\n",
    "    \n",
    "except ValueError as msg:\n",
    "    print(\"{} occured. Enter number only.\".format(msg))\n",
    "    \n",
    "weight = int(input(\"Enter weight: \"))\n",
    "height = float(input(\"Enter height: \"))\n",
    "body_mass_index(weight, height)"
   ]
  },
  {
   "cell_type": "markdown",
   "id": "a5edaf5b",
   "metadata": {},
   "source": [
    "### Question-4\n",
    "Write a Python Program to calculate the natural logarithm of any number?\n",
    "\n",
    "\n",
    "##### Answer:"
   ]
  },
  {
   "cell_type": "code",
   "execution_count": 4,
   "id": "055c74b4",
   "metadata": {},
   "outputs": [
    {
     "data": {
      "text/plain": [
       "('Natural log value: ', 2.302585092994046)"
      ]
     },
     "execution_count": 4,
     "metadata": {},
     "output_type": "execute_result"
    }
   ],
   "source": [
    "def natural_log(val):\n",
    "    import math\n",
    "    return \"Natural log value: \", math.log(val)\n",
    "\n",
    "natural_log(10)"
   ]
  },
  {
   "cell_type": "markdown",
   "id": "a0578be6",
   "metadata": {},
   "source": [
    "### Question-5\n",
    "Write a Python Program for cube sum of first n natural numbers?\n",
    "\n",
    "\n",
    "##### Answer:"
   ]
  },
  {
   "cell_type": "code",
   "execution_count": 5,
   "id": "a1ca1a7e",
   "metadata": {},
   "outputs": [
    {
     "data": {
      "text/plain": [
       "'Cube sum of 10 is: 3025'"
      ]
     },
     "execution_count": 5,
     "metadata": {},
     "output_type": "execute_result"
    }
   ],
   "source": [
    "def cube_sum(nth):\n",
    "    summ = 0\n",
    "    for i in range(0,nth+1):\n",
    "        summ = summ + (i**3)\n",
    "        \n",
    "    return \"Cube sum of {} is: {}\".format(nth, summ)\n",
    "\n",
    "cube_sum(10)"
   ]
  },
  {
   "cell_type": "code",
   "execution_count": null,
   "id": "c7ca8bef",
   "metadata": {},
   "outputs": [],
   "source": []
  },
  {
   "cell_type": "code",
   "execution_count": null,
   "id": "88d0d649",
   "metadata": {},
   "outputs": [],
   "source": []
  }
 ],
 "metadata": {
  "kernelspec": {
   "display_name": "Python 3 (ipykernel)",
   "language": "python",
   "name": "python3"
  },
  "language_info": {
   "codemirror_mode": {
    "name": "ipython",
    "version": 3
   },
   "file_extension": ".py",
   "mimetype": "text/x-python",
   "name": "python",
   "nbconvert_exporter": "python",
   "pygments_lexer": "ipython3",
   "version": "3.9.7"
  }
 },
 "nbformat": 4,
 "nbformat_minor": 5
}
