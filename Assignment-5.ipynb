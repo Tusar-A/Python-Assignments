{
 "cells": [
  {
   "cell_type": "markdown",
   "id": "753243e1",
   "metadata": {},
   "source": [
    "### Question-1\n",
    "What does an empty dictionary&#39;s code look like?\n",
    "\n",
    "#### Answer:\n",
    "The empty dictionary looks like {}"
   ]
  },
  {
   "cell_type": "markdown",
   "id": "4d6805db",
   "metadata": {},
   "source": [
    "### Question-2\n",
    "What is the value of a dictionary value with the key &#39;foo&#39; and the value 42?\n",
    "\n",
    "#### Answer:\n",
    "THe dictionary value will be {'foo':42}"
   ]
  },
  {
   "cell_type": "code",
   "execution_count": 1,
   "id": "5b589cbf",
   "metadata": {},
   "outputs": [
    {
     "data": {
      "text/plain": [
       "{'foo': 42}"
      ]
     },
     "execution_count": 1,
     "metadata": {},
     "output_type": "execute_result"
    }
   ],
   "source": [
    "{'foo':42}"
   ]
  },
  {
   "cell_type": "markdown",
   "id": "facf36d4",
   "metadata": {},
   "source": [
    "### Question-3\n",
    "What is the most significant distinction between a dictionary and a list?\n",
    "\n",
    "#### Answer:\n",
    "The most significant distinction between a dictionary and a list is, the structure. A dictionary contain values in a key:values manner on the contrary a list contain its values only in values."
   ]
  },
  {
   "cell_type": "markdown",
   "id": "ab48126b",
   "metadata": {},
   "source": [
    "### Question-4\n",
    "What happens if you try to access spam[&#39;foo&#39;] if spam is {&#39;bar&#39;: 100}?\n",
    "\n",
    "#### Answer:\n",
    "It will return an error which will be a KeyError as the key 'foo' is not available in the dictionary."
   ]
  },
  {
   "cell_type": "code",
   "execution_count": 2,
   "id": "1522de11",
   "metadata": {},
   "outputs": [
    {
     "ename": "KeyError",
     "evalue": "'foo'",
     "output_type": "error",
     "traceback": [
      "\u001b[1;31m---------------------------------------------------------------------------\u001b[0m",
      "\u001b[1;31mKeyError\u001b[0m                                  Traceback (most recent call last)",
      "\u001b[1;32m~\\AppData\\Local\\Temp/ipykernel_23600/4026577702.py\u001b[0m in \u001b[0;36m<module>\u001b[1;34m\u001b[0m\n\u001b[0;32m      1\u001b[0m \u001b[0mspam\u001b[0m \u001b[1;33m=\u001b[0m \u001b[1;33m{\u001b[0m\u001b[1;34m'bar'\u001b[0m\u001b[1;33m:\u001b[0m\u001b[1;36m100\u001b[0m\u001b[1;33m}\u001b[0m\u001b[1;33m\u001b[0m\u001b[1;33m\u001b[0m\u001b[0m\n\u001b[1;32m----> 2\u001b[1;33m \u001b[0mspam\u001b[0m\u001b[1;33m[\u001b[0m\u001b[1;34m'foo'\u001b[0m\u001b[1;33m]\u001b[0m\u001b[1;33m\u001b[0m\u001b[1;33m\u001b[0m\u001b[0m\n\u001b[0m",
      "\u001b[1;31mKeyError\u001b[0m: 'foo'"
     ]
    }
   ],
   "source": [
    "spam = {'bar':100}\n",
    "spam['foo']"
   ]
  },
  {
   "cell_type": "markdown",
   "id": "14c39432",
   "metadata": {},
   "source": [
    "### Question-5\n",
    "If a dictionary is stored in spam, what is the difference between the expressions &#39;cat&#39; in spam and\n",
    "&#39;cat&#39; in spam.keys()?\n",
    "\n",
    "#### Answer:\n",
    "In spam, 'cat' will be a key of dictionary spam. And in spam.keys() will return all the available keys in the spam dictionary."
   ]
  },
  {
   "cell_type": "markdown",
   "id": "f3d3b288",
   "metadata": {},
   "source": [
    "### Question-6\n",
    "If a dictionary is stored in spam, what is the difference between the expressions &#39;cat&#39; in spam and\n",
    "&#39;cat&#39; in spam.values()?\n",
    "\n",
    "#### Answer:\n",
    "In spam, 'cat' will be a key of dictionary spam. And in spam.values() will return all the values of keys in the spam dictionary."
   ]
  },
  {
   "cell_type": "markdown",
   "id": "d4e1efdd",
   "metadata": {},
   "source": [
    "### Question-7\n",
    "\n",
    "What is a shortcut for the following code?\n",
    "\n",
    "if &#39;color&#39; not in spam:\n",
    "\n",
    "spam[&#39;color&#39;] = &#39;black&#39;\n",
    "\n",
    "#### Answer:\n",
    "Using setdefault() method, the code will be reduced with the same output."
   ]
  },
  {
   "cell_type": "markdown",
   "id": "437e2259",
   "metadata": {},
   "source": [
    "### Question-8\n",
    "How do you &quot;pretty print&quot; dictionary values using which module and function?\n",
    "\n",
    "#### Answer:\n",
    "In, pprint module there is a function pprint, which is used to \"pretty print\" of a given object."
   ]
  },
  {
   "cell_type": "code",
   "execution_count": null,
   "id": "8eca597b",
   "metadata": {},
   "outputs": [],
   "source": []
  }
 ],
 "metadata": {
  "kernelspec": {
   "display_name": "Python 3 (ipykernel)",
   "language": "python",
   "name": "python3"
  },
  "language_info": {
   "codemirror_mode": {
    "name": "ipython",
    "version": 3
   },
   "file_extension": ".py",
   "mimetype": "text/x-python",
   "name": "python",
   "nbconvert_exporter": "python",
   "pygments_lexer": "ipython3",
   "version": "3.9.7"
  }
 },
 "nbformat": 4,
 "nbformat_minor": 5
}
