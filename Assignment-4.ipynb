{
 "cells": [
  {
   "cell_type": "markdown",
   "id": "21a33649",
   "metadata": {},
   "source": [
    "### Question-1\n",
    "\n",
    "What exactly is []?\n",
    "\n",
    "#### Answer:\n",
    "[] is an empty list."
   ]
  },
  {
   "cell_type": "markdown",
   "id": "57458f48",
   "metadata": {},
   "source": [
    "### Question-2\n",
    "In a list of values stored in a variable called spam, how would you assign the value &#39;hello&#39; as the\n",
    "third value? (Assume [2, 4, 6, 8, 10] are in spam.)\n",
    "\n",
    "#### Answer:\n",
    "Here, spam is a list and adding any value to a list in a specific index position .insert() function is used. In insert function the first argument is is the index position and the second one is the value. As asked to assaign vlaue to the third position the index position will be 2 as index starts from 0. The following code illustrate the process."
   ]
  },
  {
   "cell_type": "code",
   "execution_count": 2,
   "id": "ffc0361d",
   "metadata": {},
   "outputs": [
    {
     "name": "stdout",
     "output_type": "stream",
     "text": [
      "[2, 4, 'hello', 6, 8, 10]\n"
     ]
    }
   ],
   "source": [
    "spam = [2, 4, 6, 8, 10]\n",
    "\n",
    "spam.insert(2, \"hello\")\n",
    "print(spam)"
   ]
  },
  {
   "cell_type": "code",
   "execution_count": null,
   "id": "9325aea2",
   "metadata": {},
   "outputs": [],
   "source": []
  },
  {
   "cell_type": "code",
   "execution_count": 13,
   "id": "415f3994",
   "metadata": {},
   "outputs": [],
   "source": [
    "## Spam List\n",
    "spam = ['a','b','c', 'd']"
   ]
  },
  {
   "cell_type": "markdown",
   "id": "fab9180d",
   "metadata": {},
   "source": [
    "### Question-3\n",
    "What is the value of spam[int(int(&#39;3&#39; * 2) / 11)]?\n",
    "\n",
    "#### Answer:\n",
    "The value of this statement will be d. This is becuase first it calculate the value inside [] and later it consider the result for index slicing, thus it retrive value from the spam list and return the value from the list that is in index position of 3."
   ]
  },
  {
   "cell_type": "code",
   "execution_count": 15,
   "id": "d42745ac",
   "metadata": {},
   "outputs": [
    {
     "data": {
      "text/plain": [
       "'d'"
      ]
     },
     "execution_count": 15,
     "metadata": {},
     "output_type": "execute_result"
    }
   ],
   "source": [
    "spam[int(int('3' * 2) / 11)]"
   ]
  },
  {
   "cell_type": "markdown",
   "id": "cc9291b8",
   "metadata": {},
   "source": [
    "### Question-4\n",
    "What is the value of spam[-1]?\n",
    "\n",
    "#### Answer:\n",
    "The value of this slicing will be d, as [-1] starts counting from the reverse position. The following line of code is the solution"
   ]
  },
  {
   "cell_type": "code",
   "execution_count": 16,
   "id": "34568854",
   "metadata": {},
   "outputs": [
    {
     "data": {
      "text/plain": [
       "'d'"
      ]
     },
     "execution_count": 16,
     "metadata": {},
     "output_type": "execute_result"
    }
   ],
   "source": [
    "spam[-1]"
   ]
  },
  {
   "cell_type": "markdown",
   "id": "ea1e199c",
   "metadata": {},
   "source": [
    "### Question-5\n",
    "5. What is the value of spam[:2]?\n",
    "\n",
    "#### Answer: \n",
    "The given line will return the value from index position 0 zero 1 and the value will be (a and b). It won't give the position 2 as it the upper bound."
   ]
  },
  {
   "cell_type": "code",
   "execution_count": 18,
   "id": "61fe3a7d",
   "metadata": {},
   "outputs": [
    {
     "data": {
      "text/plain": [
       "['a', 'b']"
      ]
     },
     "execution_count": 18,
     "metadata": {},
     "output_type": "execute_result"
    }
   ],
   "source": [
    "spam[:2]"
   ]
  },
  {
   "cell_type": "code",
   "execution_count": null,
   "id": "38880ef7",
   "metadata": {},
   "outputs": [],
   "source": []
  },
  {
   "cell_type": "code",
   "execution_count": 25,
   "id": "ec1c9976",
   "metadata": {},
   "outputs": [],
   "source": [
    "# Bacon list\n",
    "bacon = [3.14, 'cat', 11, 'cat', True]"
   ]
  },
  {
   "cell_type": "markdown",
   "id": "fa14345f",
   "metadata": {},
   "source": [
    "### Question-6\n",
    "What is the value of bacon.index(&#39;cat&#39;)?\n",
    "\n",
    "#### Answer:\n",
    "The code return the first index position of 'cat' string, which is 1."
   ]
  },
  {
   "cell_type": "code",
   "execution_count": 21,
   "id": "ff66c406",
   "metadata": {},
   "outputs": [
    {
     "data": {
      "text/plain": [
       "1"
      ]
     },
     "execution_count": 21,
     "metadata": {},
     "output_type": "execute_result"
    }
   ],
   "source": [
    "bacon.index('cat')"
   ]
  },
  {
   "cell_type": "markdown",
   "id": "8ef3284c",
   "metadata": {},
   "source": [
    "### Question-7\n",
    "How does bacon.append(99) change the look of the list value in bacon?\n",
    "\n",
    "#### Answer:\n",
    "The code will add a new value, 99 to the list and increase its element number."
   ]
  },
  {
   "cell_type": "code",
   "execution_count": 23,
   "id": "75805e4b",
   "metadata": {},
   "outputs": [
    {
     "name": "stdout",
     "output_type": "stream",
     "text": [
      "[3.14, 'cat', 11, 'cat', True, 99, 99]\n"
     ]
    }
   ],
   "source": [
    "bacon.append(99)\n",
    "print(bacon)"
   ]
  },
  {
   "cell_type": "markdown",
   "id": "b961360b",
   "metadata": {},
   "source": [
    "### Question-8\n",
    "How does bacon.remove(&#39;cat&#39;) change the look of the list in bacon?\n",
    "\n",
    "#### Answer:\n",
    "The given code will remove the first 'cat' from the list and it will return the following output."
   ]
  },
  {
   "cell_type": "code",
   "execution_count": 26,
   "id": "94b61e61",
   "metadata": {},
   "outputs": [
    {
     "name": "stdout",
     "output_type": "stream",
     "text": [
      "[3.14, 11, 'cat', True]\n"
     ]
    }
   ],
   "source": [
    "bacon.remove('cat')\n",
    "print(bacon)"
   ]
  },
  {
   "cell_type": "markdown",
   "id": "d41d3896",
   "metadata": {},
   "source": [
    "### Question-9\n",
    "What are the list concatenation and list replication operators?\n",
    "\n",
    "#### Answer:\n",
    "List concatenation is the way to add two listand the operator for that is (+)\n",
    "Replication of a list means to create multiple list like that and the operation of this is (*)"
   ]
  },
  {
   "cell_type": "markdown",
   "id": "0831b121",
   "metadata": {},
   "source": [
    "### Question-10\n",
    "What is difference between the list methods append() and insert()?\n",
    "\n",
    "#### Answer:\n",
    "The append method add any list value to the last index position of the list whereas the insert() method can add any value to the list according to the given index position except it is out of the index range position."
   ]
  },
  {
   "cell_type": "markdown",
   "id": "adb8f0d2",
   "metadata": {},
   "source": [
    "### Question-11\n",
    "What are the two methods for removing items from a list?\n",
    "\n",
    "#### Answer:\n",
    "The two methods of removing items from the list are .pop() and .remove().\n",
    "Where pop() method remove values from the last index and the remove() method remove values from the first occurance."
   ]
  },
  {
   "cell_type": "markdown",
   "id": "8320203d",
   "metadata": {},
   "source": [
    "### Question-12\n",
    "Describe how list values and string values are identical.\n",
    "\n",
    "#### Answer:\n",
    "List values and string values are identical because both are sequences."
   ]
  },
  {
   "cell_type": "markdown",
   "id": "cbf160c0",
   "metadata": {},
   "source": [
    "### Question-13\n",
    "What&#39;s the difference between tuples and lists?\n",
    "\n",
    "#### Answer:\n",
    "The difference between tuples and lists are, tuples are immutable and lists are mutable which means that we can update values of a list but can't do the same for the tuples after defining it."
   ]
  },
  {
   "cell_type": "markdown",
   "id": "1ef2b55a",
   "metadata": {},
   "source": [
    "### Question-14\n",
    "How do you type a tuple value that only contains the integer 42?\n",
    "\n",
    "\n",
    "#### Answer:\n",
    "Tuples can be definied in two ways, one is using only the parenthesis () and another is by typing, tuple(). In case of having only one value in tuple, () is used, adding a (,) after the value. So, if we want to care a tuple only with 42 the code will be (42,). The given line creates a tuple and showing its type."
   ]
  },
  {
   "cell_type": "code",
   "execution_count": 36,
   "id": "6bcc19bf",
   "metadata": {},
   "outputs": [
    {
     "data": {
      "text/plain": [
       "tuple"
      ]
     },
     "execution_count": 36,
     "metadata": {},
     "output_type": "execute_result"
    }
   ],
   "source": [
    "type((42,))"
   ]
  },
  {
   "cell_type": "markdown",
   "id": "6f47aa47",
   "metadata": {},
   "source": [
    "### Question-15\n",
    "How do you get a list value&#39;s tuple form? How do you get a tuple value&#39;s list form?\n",
    "\n",
    "#### Answer:\n",
    "To get list values in a tuple form we can use python's builtin function tuple().\n",
    "\n",
    "To get tuple values in a list form, list comprehention or a loop can be used."
   ]
  },
  {
   "cell_type": "markdown",
   "id": "cc4459e0",
   "metadata": {},
   "source": [
    "### Question-16\n",
    "Variables that &quot;contain&quot; list values are not necessarily lists themselves. Instead, what do they\n",
    "contain?\n",
    "\n",
    "#### Answer:\n",
    "List values are not necessarily lists themselves intead they contain references to list values while assigning values."
   ]
  },
  {
   "cell_type": "markdown",
   "id": "c91c4298",
   "metadata": {},
   "source": [
    "### Question-17\n",
    "How do you distinguish between copy.copy() and copy.deepcopy()?\n",
    "\n",
    "#### Answer:\n",
    "copy.copy() create a reference to the original object and if we change the copied object then the original object will also be changed.\n",
    "\n",
    "On the other hand, copy.deepcopy() creates a new copied object and if we change the value of copied object, the original object won't change."
   ]
  },
  {
   "cell_type": "code",
   "execution_count": null,
   "id": "79256cf2",
   "metadata": {},
   "outputs": [],
   "source": []
  }
 ],
 "metadata": {
  "kernelspec": {
   "display_name": "Python 3 (ipykernel)",
   "language": "python",
   "name": "python3"
  },
  "language_info": {
   "codemirror_mode": {
    "name": "ipython",
    "version": 3
   },
   "file_extension": ".py",
   "mimetype": "text/x-python",
   "name": "python",
   "nbconvert_exporter": "python",
   "pygments_lexer": "ipython3",
   "version": "3.9.7"
  }
 },
 "nbformat": 4,
 "nbformat_minor": 5
}
