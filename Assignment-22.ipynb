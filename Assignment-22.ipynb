{
 "cells": [
  {
   "cell_type": "markdown",
   "id": "1012c346",
   "metadata": {},
   "source": [
    "### Question-1\n",
    "What is the result of the code, and explain?\n",
    "\n",
    "&gt;&gt;&gt; X = &#39;iNeuron&#39;\n",
    "&gt;&gt;&gt; def func():\n",
    "print(X)\n",
    "\n",
    "&gt;&gt;&gt; func()"
   ]
  },
  {
   "cell_type": "markdown",
   "id": "0d4e47e4",
   "metadata": {},
   "source": [
    "What is the result of the code, and explain?\n",
    "\n",
    "&gt;&gt;&gt; X = &#39;iNeuron&#39;\n",
    "\n",
    "&gt;&gt;&gt; def func():\n",
    "\n",
    "print(X)\n",
    "\n",
    "&gt;&gt;&gt; func()\n",
    "\n",
    "\n",
    "###### Answer:"
   ]
  },
  {
   "cell_type": "markdown",
   "id": "a8028710",
   "metadata": {},
   "source": [
    "It will return iNeuron. It's because the \"X\" is defined before the function and it's a global variable. This is why it will work both inside the function and outside of the function."
   ]
  },
  {
   "cell_type": "markdown",
   "id": "357c150b",
   "metadata": {},
   "source": [
    "### Question-2\n",
    "\n",
    "What is the result of the code, and explain?\n",
    "\n",
    "&gt;&gt;&gt; X = &#39;iNeuron&#39;\n",
    "\n",
    "&gt;&gt;&gt; def func():\n",
    "\n",
    "X = &#39;NI!&#39;\n",
    "\n",
    "&gt;&gt;&gt; func()\n",
    "\n",
    "&gt;&gt;&gt; print(X)"
   ]
  },
  {
   "cell_type": "markdown",
   "id": "ee9876a6",
   "metadata": {},
   "source": [
    "First the code will return \"NI\" and then \"iNeuron\". As the function is called before print function and inside the func function the value of X is change to \"NI\" and becomes local variable for this function so it will overwrite the value of X for this function only. This is why it return \"NI\" and then for X which is outside of the function is a global varible return \"iNeuron\""
   ]
  },
  {
   "cell_type": "markdown",
   "id": "01b05773",
   "metadata": {},
   "source": [
    "### Question-3\n",
    "What does this code print, and why?\n",
    "\n",
    "&gt;&gt;&gt; X = &#39;iNeuron&#39;\n",
    "\n",
    "&gt;&gt;&gt; def func():\n",
    "\n",
    "X = &#39;NI&#39;\n",
    "\n",
    "print(X)\n",
    "\n",
    "&gt;&gt;&gt; func()\n",
    "\n",
    "&gt;&gt;&gt; print(X)\n",
    "\n",
    "\n",
    "##### Answer:"
   ]
  },
  {
   "cell_type": "markdown",
   "id": "ae261806",
   "metadata": {},
   "source": [
    "The code will first print 'NI' then 'iNeuron'. Firstly inside the function the variable X is redefined which will work only inside the function and it is printed. The function is called before the print function so it will print the redefined value of X and later the print function will return the value of X (iNeuron) which will be the value from outside of the function."
   ]
  },
  {
   "cell_type": "markdown",
   "id": "773c7450",
   "metadata": {},
   "source": [
    "### Question-4\n",
    "What output does this code produce? Why?\n",
    "\n",
    "&gt;&gt;&gt; X = &#39;iNeuron&#39;\n",
    "\n",
    "&gt;&gt;&gt; def func():\n",
    "\n",
    "global X\n",
    "\n",
    "X = &#39;NI&#39;\n",
    "\n",
    "\n",
    "&gt;&gt;&gt; func()\n",
    "\n",
    "&gt;&gt;&gt; print(X)\n",
    "\n",
    "\n",
    "##### Answer:"
   ]
  },
  {
   "cell_type": "markdown",
   "id": "402e4f8d",
   "metadata": {},
   "source": [
    "This code will print only the value of x which will be 'NI'. This is because there a global keyword is used inside the function which convert the variable x into a global variable and this is why anywhere the variable x is called it will return the value from inside the function."
   ]
  },
  {
   "cell_type": "markdown",
   "id": "253a549f",
   "metadata": {},
   "source": [
    "### Question-5\n",
    "\n",
    "What about this code—what’s the output, and why?\n",
    "\n",
    "&gt;&gt;&gt; X = &#39;iNeuron&#39;\n",
    "\n",
    "&gt;&gt;&gt; def func():\n",
    "\n",
    "X = &#39;NI&#39;\n",
    "\n",
    "def nested():\n",
    "\n",
    "print(X)\n",
    "\n",
    "nested()\n",
    "\n",
    "&gt;&gt;&gt; func()\n",
    "\n",
    "&gt;&gt;&gt; X\n",
    "\n",
    "##### Answer:"
   ]
  },
  {
   "cell_type": "markdown",
   "id": "70d20071",
   "metadata": {},
   "source": [
    "The function will return the value of 'X' definded before the function starts. Inside the func() function the variable X is redefined to another value and there is a nested function which prints the value of X. If we call the nested function nested() from the main function it will return the redefined value and the calling X it will the value of X which is \"iNeuron\"\n",
    "\n",
    "So the output will be\n",
    "\n",
    "'NI'\n",
    "\n",
    "'INeuron'"
   ]
  },
  {
   "cell_type": "markdown",
   "id": "71296ae9",
   "metadata": {},
   "source": [
    "### Question-6\n",
    "\n",
    "How about this code: what is its output in Python 3, and explain?\n",
    "\n",
    "&gt;&gt;&gt; def func():\n",
    "\n",
    "X = &#39;NI&#39;\n",
    "\n",
    "def nested():\n",
    "\n",
    "nonlocal X\n",
    "\n",
    "X = &#39;Spam&#39;\n",
    "\n",
    "nested()\n",
    "\n",
    "print(X)\n",
    "\n",
    "&gt;&gt;&gt; func()\n",
    "\n",
    "\n",
    "\n",
    "##### Answer:"
   ]
  },
  {
   "cell_type": "markdown",
   "id": "707bc2f4",
   "metadata": {},
   "source": [
    "The code will return the value \"spam\". This is because in the nested function there a nonlocal keyword is used. At the first function func(), X is defined and inside the nested function after the nonlocal keywrod the value of X is updated. While calling the nested function from the value of first X is updated due the nonlocal keyword and after printing and calling the main function it return the value \"spam\" from the nested function."
   ]
  },
  {
   "cell_type": "code",
   "execution_count": null,
   "id": "94ea14cd",
   "metadata": {},
   "outputs": [],
   "source": []
  }
 ],
 "metadata": {
  "kernelspec": {
   "display_name": "Python 3 (ipykernel)",
   "language": "python",
   "name": "python3"
  },
  "language_info": {
   "codemirror_mode": {
    "name": "ipython",
    "version": 3
   },
   "file_extension": ".py",
   "mimetype": "text/x-python",
   "name": "python",
   "nbconvert_exporter": "python",
   "pygments_lexer": "ipython3",
   "version": "3.9.7"
  }
 },
 "nbformat": 4,
 "nbformat_minor": 5
}
