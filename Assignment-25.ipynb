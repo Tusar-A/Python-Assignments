{
 "cells": [
  {
   "cell_type": "markdown",
   "id": "077d6bd0",
   "metadata": {},
   "source": [
    "### Question-1\n",
    "What is the difference between enclosing a list comprehension in square brackets and\n",
    "parentheses?\n",
    "\n",
    "\n",
    "##### Answer:"
   ]
  },
  {
   "cell_type": "markdown",
   "id": "6c1472a2",
   "metadata": {},
   "source": [
    "The difference between enclosing a list comprehension in square brackets and parentheses is square brackets is used for list comprehension and parentheses is for Generator expression."
   ]
  },
  {
   "cell_type": "markdown",
   "id": "1d6e679c",
   "metadata": {},
   "source": [
    "### Question-2\n",
    "What is the relationship between generators and iterators?\n",
    "\n",
    "\n",
    "##### Answer:"
   ]
  },
  {
   "cell_type": "markdown",
   "id": "18666aab",
   "metadata": {},
   "source": [
    "Difference between generator and iterators is, generator is a function that produces a sequence of value using a yield statement whereas the iterators are the objects that use the next() method to get the next value of the sequence."
   ]
  },
  {
   "cell_type": "markdown",
   "id": "b5a58164",
   "metadata": {},
   "source": [
    "### Question-3\n",
    "What are the signs that a function is a generator function?\n",
    "\n",
    "\n",
    "##### Answer:"
   ]
  },
  {
   "cell_type": "markdown",
   "id": "266437a5",
   "metadata": {},
   "source": [
    "If a functon use at least one yield statement then it will a generator function."
   ]
  },
  {
   "cell_type": "markdown",
   "id": "c5062206",
   "metadata": {},
   "source": [
    "### Question-4\n",
    "What is the purpose of a yield statement?\n",
    "\n",
    "\n",
    "##### Answer:"
   ]
  },
  {
   "cell_type": "markdown",
   "id": "9e95b37a",
   "metadata": {},
   "source": [
    "The purpose of yield statement is that it returns a generator object to the one who calls the function which contains yield, instead of simply returning a value."
   ]
  },
  {
   "cell_type": "markdown",
   "id": "14deae1a",
   "metadata": {},
   "source": [
    "### Question-5\n",
    "What is the relationship between map calls and list comprehensions? Make a comparison and\n",
    "contrast between the two.\n",
    "\n",
    "\n",
    "##### Answer:"
   ]
  },
  {
   "cell_type": "markdown",
   "id": "0196b7a3",
   "metadata": {},
   "source": [
    "The relationship between map calls and list comprehensions is, List comprehension return a list whereas the map function returns an object of iterable. List comprehension code is more concise and easier to read as compared to the map function."
   ]
  },
  {
   "cell_type": "code",
   "execution_count": 1,
   "id": "356b923e",
   "metadata": {},
   "outputs": [
    {
     "name": "stdout",
     "output_type": "stream",
     "text": [
      "<class 'list'>\n",
      "<class 'map'>\n"
     ]
    }
   ],
   "source": [
    "# list comprehension\n",
    "lst = [i*2 for i in range(4)]\n",
    "print(type(lst))\n",
    "\n",
    "# map operation\n",
    "def multi(num):\n",
    "    return num*3\n",
    "map_lst = map(multi ,range(4))\n",
    "print(type(map_lst))"
   ]
  },
  {
   "cell_type": "markdown",
   "id": "ba889d0a",
   "metadata": {},
   "source": [
    "Above if look, the type of list comprehension returns a list object whereas the map return an iterable object."
   ]
  },
  {
   "cell_type": "code",
   "execution_count": null,
   "id": "192cd4f8",
   "metadata": {},
   "outputs": [],
   "source": []
  }
 ],
 "metadata": {
  "kernelspec": {
   "display_name": "Python 3 (ipykernel)",
   "language": "python",
   "name": "python3"
  },
  "language_info": {
   "codemirror_mode": {
    "name": "ipython",
    "version": 3
   },
   "file_extension": ".py",
   "mimetype": "text/x-python",
   "name": "python",
   "nbconvert_exporter": "python",
   "pygments_lexer": "ipython3",
   "version": "3.9.7"
  }
 },
 "nbformat": 4,
 "nbformat_minor": 5
}
