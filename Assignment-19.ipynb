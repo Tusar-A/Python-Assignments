{
 "cells": [
  {
   "cell_type": "markdown",
   "id": "eae7e0bb",
   "metadata": {},
   "source": [
    "### Question-1\n",
    "Make a class called Thing with no contents and print it. Then, create an object called example\n",
    "from this class and also print it. Are the printed values the same or different?\n",
    "\n",
    "\n",
    "##### Answer:"
   ]
  },
  {
   "cell_type": "code",
   "execution_count": 1,
   "id": "90ea8ab9",
   "metadata": {},
   "outputs": [
    {
     "name": "stdout",
     "output_type": "stream",
     "text": [
      "<class '__main__.Thing'>\n",
      "<__main__.Thing object at 0x0000022033E8E2E0>\n"
     ]
    }
   ],
   "source": [
    "class Thing:\n",
    "    pass\n",
    "print(Thing)\n",
    "example = Thing()\n",
    "print(example)"
   ]
  },
  {
   "cell_type": "markdown",
   "id": "07801309",
   "metadata": {},
   "source": [
    "It print different values. print(Thing) prints the object class and the print(example) prints the object and the memory location of that object."
   ]
  },
  {
   "cell_type": "markdown",
   "id": "d1cb2b69",
   "metadata": {},
   "source": [
    "### Question-2\n",
    "Create a new class called Thing2 and add the value &#39;abc&#39; to the letters class attribute. Letters\n",
    "should be printed.\n",
    "\n",
    "\n",
    "##### Answer:"
   ]
  },
  {
   "cell_type": "code",
   "execution_count": 2,
   "id": "a9c2ada6",
   "metadata": {},
   "outputs": [
    {
     "data": {
      "text/plain": [
       "'abc'"
      ]
     },
     "execution_count": 2,
     "metadata": {},
     "output_type": "execute_result"
    }
   ],
   "source": [
    "class Thing2:\n",
    "    letters = 'abc'\n",
    "\n",
    "Thing2.letters"
   ]
  },
  {
   "cell_type": "markdown",
   "id": "27d8754d",
   "metadata": {},
   "source": [
    "### Question-3\n",
    "Make yet another class called, of course, Thing3. This time, assign the value &#39;xyz&#39; to an instance\n",
    "(object) attribute called letters. Print letters. Do you need to make an object from the class to do\n",
    "this?\n",
    "\n",
    "\n",
    "\n",
    "##### Answer:"
   ]
  },
  {
   "cell_type": "code",
   "execution_count": 3,
   "id": "f2847c10",
   "metadata": {},
   "outputs": [
    {
     "data": {
      "text/plain": [
       "'abc'"
      ]
     },
     "execution_count": 3,
     "metadata": {},
     "output_type": "execute_result"
    }
   ],
   "source": [
    "class Thing3:\n",
    "    def __init__(self, letters):\n",
    "        self.letters = 'abc'\n",
    "        \n",
    "obj = Thing3('abc')\n",
    "obj.letters\n",
    "\n",
    "# Yes, I need to make an object from the class to do this."
   ]
  },
  {
   "cell_type": "markdown",
   "id": "a937d918",
   "metadata": {},
   "source": [
    "### Question-4\n",
    "Create an Element class with the instance attributes name, symbol, and number. Create a class\n",
    "object with the values &#39;Hydrogen,&#39; &#39;H,&#39; and 1.\n",
    "\n",
    "\n",
    "##### Answer:"
   ]
  },
  {
   "cell_type": "code",
   "execution_count": 4,
   "id": "d31a3a2b",
   "metadata": {},
   "outputs": [
    {
     "name": "stdout",
     "output_type": "stream",
     "text": [
      "Name: Hydrogen, Symbol: H, Number: 1\n"
     ]
    }
   ],
   "source": [
    "class Element:\n",
    "    def __init__(self, name, symbol, number):\n",
    "        self.name = name\n",
    "        self.symbol = symbol\n",
    "        self.number = number\n",
    "        \n",
    "        \n",
    "    def __str__(self):\n",
    "        return \"Name: {}, Symbol: {}, Number: {}\".format(self.name, self.symbol, self.number)\n",
    "\n",
    "class_object = Element('Hydrogen', 'H', 1)\n",
    "\n",
    "print(class_object)"
   ]
  },
  {
   "cell_type": "markdown",
   "id": "1cb0d22b",
   "metadata": {},
   "source": [
    "### Question-5\n",
    "Make a dictionary with these keys and values: &#39;name&#39;: &#39;Hydrogen&#39;, &#39;symbol&#39;: &#39;H&#39;, &#39;number&#39;: 1. Then,\n",
    "create an object called hydrogen from class Element using this dictionary.\n",
    "\n",
    "\n",
    "##### Answer:"
   ]
  },
  {
   "cell_type": "code",
   "execution_count": 5,
   "id": "727ef03e",
   "metadata": {},
   "outputs": [
    {
     "name": "stdout",
     "output_type": "stream",
     "text": [
      "Name: Hydrogen, Symbol: H, Number: 1\n"
     ]
    }
   ],
   "source": [
    "element_dict = {'name': 'Hydrogen', 'symbol': 'H', 'number': 1}\n",
    "\n",
    "hydrogen = Element(**element_dict)\n",
    "print(hydrogen)"
   ]
  },
  {
   "cell_type": "markdown",
   "id": "a18e6511",
   "metadata": {},
   "source": [
    "### Question-6\n",
    "For the Element class, define a method called dump() that prints the values of the object’s\n",
    "attributes (name, symbol, and number). Create the hydrogen object from this new definition and\n",
    "use dump() to print its attributes.\n",
    "\n",
    "\n",
    "##### Answer:"
   ]
  },
  {
   "cell_type": "code",
   "execution_count": 6,
   "id": "04836970",
   "metadata": {},
   "outputs": [
    {
     "data": {
      "text/plain": [
       "'Name: Hydrogen, Symbol: H, Number: 1'"
      ]
     },
     "execution_count": 6,
     "metadata": {},
     "output_type": "execute_result"
    }
   ],
   "source": [
    "class Element:\n",
    "    def __init__(self, name, symbol, number):\n",
    "        self.name = name\n",
    "        self.symbol = symbol\n",
    "        self.number = number\n",
    "        \n",
    "    def dump(self):\n",
    "        return \"Name: {}, Symbol: {}, Number: {}\".format(self.name, self.symbol, self.number)\n",
    "    \n",
    "    \n",
    "hydrogen = Element('Hydrogen', 'H', 1)\n",
    "hydrogen.dump()"
   ]
  },
  {
   "cell_type": "markdown",
   "id": "46e01a82",
   "metadata": {},
   "source": [
    "### Question-7\n",
    "Call print(hydrogen). In the definition of Element, change the name of method dump to __str__,\n",
    "create a new hydrogen object, and call print(hydrogen) again.\n",
    "\n",
    "\n",
    "##### Answer:"
   ]
  },
  {
   "cell_type": "code",
   "execution_count": 7,
   "id": "27da54ca",
   "metadata": {},
   "outputs": [
    {
     "name": "stdout",
     "output_type": "stream",
     "text": [
      "Name: Hydrogen, Symbol: H, Number: 1\n"
     ]
    }
   ],
   "source": [
    "class Element:\n",
    "    def __init__(self, name, symbol, number):\n",
    "        self.name = name\n",
    "        self.symbol = symbol\n",
    "        self.number = number\n",
    "        \n",
    "    def __str__(self):\n",
    "        return \"Name: {}, Symbol: {}, Number: {}\".format(self.name, self.symbol, self.number)\n",
    "    \n",
    "    \n",
    "hydrogen = Element('Hydrogen', 'H', 1)\n",
    "print(hydrogen)"
   ]
  },
  {
   "cell_type": "markdown",
   "id": "55e9849c",
   "metadata": {},
   "source": [
    "### Question-8\n",
    "Modify Element to make the attributes name, symbol, and number private. Define a getter\n",
    "property for each to return its value.\n",
    "\n",
    "\n",
    "##### Answer:"
   ]
  },
  {
   "cell_type": "code",
   "execution_count": 8,
   "id": "96b060fa",
   "metadata": {},
   "outputs": [
    {
     "name": "stdout",
     "output_type": "stream",
     "text": [
      "Hydrogen H 1\n"
     ]
    }
   ],
   "source": [
    "class Element:\n",
    "    def __init__(self, name, symbol, number):\n",
    "        self.__name = name\n",
    "        self.__symbol = symbol\n",
    "        self.__number = number\n",
    "        \n",
    "    @property\n",
    "    def name(self):\n",
    "        return self.__name\n",
    "    \n",
    "    @property\n",
    "    def symbol(self):\n",
    "        return self.__symbol\n",
    "    \n",
    "    @property\n",
    "    def number(self):\n",
    "        return self.__number\n",
    "    \n",
    "    \n",
    "hydrogen = Element('Hydrogen', 'H', 1)\n",
    "print(hydrogen.name, hydrogen.symbol, hydrogen.number)"
   ]
  },
  {
   "cell_type": "markdown",
   "id": "6363b11c",
   "metadata": {},
   "source": [
    "### Question-9\n",
    "Define three classes: Bear, Rabbit, and Octothorpe. For each, define only one method: eats(). This\n",
    "should return &#39;berries&#39; (Bear), &#39;clover&#39; (Rabbit), or &#39;campers&#39; (Octothorpe). Create one object from\n",
    "each and print what it eats.\n",
    "\n",
    "\n",
    "##### Answer:"
   ]
  },
  {
   "cell_type": "code",
   "execution_count": 9,
   "id": "683d3c8a",
   "metadata": {},
   "outputs": [
    {
     "name": "stdout",
     "output_type": "stream",
     "text": [
      "berries\n",
      "clover\n",
      "campers\n"
     ]
    }
   ],
   "source": [
    "class Bear:\n",
    "    def eats(self):\n",
    "        return 'berries'\n",
    "    \n",
    "class Rabbit:\n",
    "    def eats(self):\n",
    "        return 'clover'\n",
    "    \n",
    "class Octothorpe:\n",
    "    def eats(self):\n",
    "        return 'campers'\n",
    "\n",
    "# Bear object\n",
    "bear_obj = Bear()\n",
    "print(bear_obj.eats())\n",
    "\n",
    "# Rabbit object\n",
    "rabbit_obj = Rabbit()\n",
    "print(rabbit_obj.eats())\n",
    "\n",
    "# Octothorpe object\n",
    "oct_obj = Octothorpe()\n",
    "print(oct_obj.eats())"
   ]
  },
  {
   "cell_type": "markdown",
   "id": "a91d5779",
   "metadata": {},
   "source": [
    "### Question-10\n",
    "Define these classes: Laser, Claw, and SmartPhone. Each has only one method: does(). This\n",
    "returns &#39;disintegrate&#39; (Laser), &#39;crush&#39; (Claw), or &#39;ring&#39; (SmartPhone). Then, define the class Robot that\n",
    "has one instance (object) of each of these. Define a does() method for the Robot that prints what its\n",
    "component objects do.\n",
    "\n",
    "\n",
    "##### Answer:"
   ]
  },
  {
   "cell_type": "code",
   "execution_count": 10,
   "id": "9da65991",
   "metadata": {},
   "outputs": [
    {
     "name": "stdout",
     "output_type": "stream",
     "text": [
      "disintegrate crush ring\n"
     ]
    }
   ],
   "source": [
    "class Laser:\n",
    "    def does(self):\n",
    "        return 'disintegrate'\n",
    "\n",
    "class Claw:\n",
    "    def does(self):\n",
    "        return 'crush'\n",
    "\n",
    "class SmartPhone:\n",
    "    def does(self):\n",
    "        return 'ring'\n",
    "    \n",
    "class Robot:\n",
    "    def __init__(self, laser, claw, smartphone):\n",
    "        self.laser = laser\n",
    "        self.claw = claw\n",
    "        self.smartphone = smartphone\n",
    "        \n",
    "    def does(self):\n",
    "        print(self.laser.does(), self.claw.does(), self.smartphone.does())\n",
    "    \n",
    "\n",
    "laser = Laser()\n",
    "claw = Claw()\n",
    "smartphone = SmartPhone()\n",
    "robot = Robot(laser, claw, smartphone)\n",
    "robot.does()"
   ]
  },
  {
   "cell_type": "code",
   "execution_count": null,
   "id": "9b798d64",
   "metadata": {},
   "outputs": [],
   "source": []
  }
 ],
 "metadata": {
  "kernelspec": {
   "display_name": "Python 3 (ipykernel)",
   "language": "python",
   "name": "python3"
  },
  "language_info": {
   "codemirror_mode": {
    "name": "ipython",
    "version": 3
   },
   "file_extension": ".py",
   "mimetype": "text/x-python",
   "name": "python",
   "nbconvert_exporter": "python",
   "pygments_lexer": "ipython3",
   "version": "3.9.7"
  }
 },
 "nbformat": 4,
 "nbformat_minor": 5
}
