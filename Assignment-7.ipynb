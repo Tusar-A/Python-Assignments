{
 "cells": [
  {
   "cell_type": "markdown",
   "id": "1320faf4",
   "metadata": {},
   "source": [
    "### Question-1\n",
    "What is the name of the feature responsible for generating Regex objects?\n",
    "\n",
    "#### Answer:\n",
    "Regex object is created by re.compile() function."
   ]
  },
  {
   "cell_type": "markdown",
   "id": "c3cce9de",
   "metadata": {},
   "source": [
    "### Question-2\n",
    "Why do raw strings often appear in Regex objects?\n",
    "\n",
    "#### Answer:\n",
    "Raw strings often appear in Regex objects because backslash won't be escaped."
   ]
  },
  {
   "cell_type": "markdown",
   "id": "c5f8503d",
   "metadata": {},
   "source": [
    "### Question-3\n",
    "What is the return value of the search() method?\n",
    "\n",
    "#### Answer:\n",
    "The search() method returns the objects if matches and if there are multiple objects it return only the first object. And if any object doesn't match the method return None."
   ]
  },
  {
   "cell_type": "markdown",
   "id": "65087992",
   "metadata": {},
   "source": [
    "### Question-4\n",
    "From a Match item, how do you get the actual strings that match the pattern?\n",
    "\n",
    "#### Answer:\n",
    "To get the actual strings that match the pattern group() method is used."
   ]
  },
  {
   "cell_type": "markdown",
   "id": "e693cf77",
   "metadata": {},
   "source": [
    "### Question-5\n",
    "In the regex which created from the r&#39;(\\d\\d\\d)-(\\d\\d\\d-\\d\\d\\d\\d)&#39;, what does group zero cover?\n",
    "Group 2? Group 1?\n",
    "\n",
    "#### Answer:\n",
    "In the regex group zero cover the entire match.\n",
    "\n",
    "Group 2 cover the second set of parentheses and Group 1 cover the first set of parentheses."
   ]
  },
  {
   "cell_type": "markdown",
   "id": "9a98cea4",
   "metadata": {},
   "source": [
    "### Question-6\n",
    "In standard expression syntax, parentheses and intervals have distinct meanings. How can you tell\n",
    "a regex that you want it to fit real parentheses and periods?\n",
    "\n",
    "#### Answer:\n",
    "Periods and Parentheses can be escaped with a backslash in this case."
   ]
  },
  {
   "cell_type": "markdown",
   "id": "2fe25bb3",
   "metadata": {},
   "source": [
    "### Question-7\n",
    "The findall() method returns a string list or a list of string tuples. What causes it to return one of\n",
    "the two options?\n",
    "\n",
    "#### Answer:\n",
    "The findall() method returns a list of tuples if the pattern has more than one group."
   ]
  },
  {
   "cell_type": "markdown",
   "id": "816f31aa",
   "metadata": {},
   "source": [
    "### Question-8\n",
    "In standard expressions, what does the | character mean?\n",
    "\n",
    "#### Answer:\n",
    "The | character means the alternative operator which delimits or seperate the alternative subexpression."
   ]
  },
  {
   "cell_type": "markdown",
   "id": "82e65674",
   "metadata": {},
   "source": [
    "### Question-9\n",
    "In regular expressions, what does the character stand for?\n",
    "\n",
    "#### Answer:\n",
    "A regular expressions is a sequence of characters that specifies a search pattern in text. In regular expression a character can be a letter, a number, or an underscore."
   ]
  },
  {
   "cell_type": "markdown",
   "id": "2456f106",
   "metadata": {},
   "source": [
    "### Question-10\n",
    "In regular expressions, what is the difference between the + and * characters?\n",
    "\n",
    "#### Answer:\n",
    "The (*) means zero or more occurances of a value in the string whereas (+) means one or more occurances of a value in the string."
   ]
  },
  {
   "cell_type": "markdown",
   "id": "b6cc9fd0",
   "metadata": {},
   "source": [
    "### Question-11\n",
    "What is the difference between {4} and {4,5} in regular expression?\n",
    "\n",
    "#### Answer:\n",
    "The difference between {4} and {4,5} is that {4} matches exactly four instances of the preceding group and {4,5} matches between four and five instances."
   ]
  },
  {
   "cell_type": "markdown",
   "id": "c5fba003",
   "metadata": {},
   "source": [
    "### Question-12\n",
    "What do you mean by the \\d, \\w, and \\s shorthand character classes signify in regular\n",
    "expressions?\n",
    "\n",
    "#### Answer:\n",
    "The \\d, \\w, and \\s shorthand character classes signifies the match of a single character that is digit, word or a space character respectively."
   ]
  },
  {
   "cell_type": "markdown",
   "id": "6e3996cc",
   "metadata": {},
   "source": [
    "### Question-13\n",
    "What do means by \\D, \\W, and \\S shorthand character classes signify in regular expressions?\n",
    "\n",
    "#### Answer: \n",
    "The \\d, \\w, and \\s shorthand character classes signifies the match of a single character that is not a digit, word or a space character respectively."
   ]
  },
  {
   "cell_type": "markdown",
   "id": "e496632a",
   "metadata": {},
   "source": [
    "### Question-14\n",
    "What is the difference between .*? and .*?\n",
    "\n",
    "#### Answer:\n",
    "The difference is .*? matches any character(.) any number of times (*), as few times as possible to make the regex match (?)"
   ]
  },
  {
   "cell_type": "markdown",
   "id": "81292040",
   "metadata": {},
   "source": [
    "### Question-15\n",
    "What is the syntax for matching both numbers and lowercase letters with a character class?\n",
    "\n",
    "#### Answer:\n",
    "The syntax for matching both number and lowercase letters with a character class is [a-z0-9]"
   ]
  },
  {
   "cell_type": "markdown",
   "id": "66f35de3",
   "metadata": {},
   "source": [
    "### Question-16\n",
    "What is the procedure for making a normal expression in regax case insensitive?\n",
    "\n",
    "#### Answer:\n",
    "re.IGNORECASE flag  allows for making case insensitive."
   ]
  },
  {
   "cell_type": "markdown",
   "id": "d0f3db31",
   "metadata": {},
   "source": [
    "### Question-17\n",
    "What does the . character normally match? What does it match if re.DOTALL is passed as 2nd\n",
    "argument in re.compile()?\n",
    "\n",
    "#### Answer:\n",
    "Characters normally matches any character except the newline characters. If re.DOTALL is passed as the 2nd argument in re.compile() then dot will also match newline characters."
   ]
  },
  {
   "cell_type": "markdown",
   "id": "036ae312",
   "metadata": {},
   "source": [
    "### Question-18\n",
    "If numReg = re.compile(r&#39;\\d+&#39;), what will numRegex.sub(&#39;X&#39;, &#39;11 drummers, 10 pipers, five rings, 4\n",
    "hen&#39;) return?\n",
    "\n",
    "#### Answer:\n",
    "It will return Xdrummers, X pipers, five rings, X hen"
   ]
  },
  {
   "cell_type": "markdown",
   "id": "0dd3e8a8",
   "metadata": {},
   "source": [
    "### Question-19\n",
    "What does passing re.VERBOSE as the 2nd argument to re.compile() allow to do?\n",
    "\n",
    "#### Answer:\n",
    "Passing re.VERBOSE as the second argument to re.compile() allows to ignore whitespace and comments inside the regular expression string."
   ]
  },
  {
   "cell_type": "markdown",
   "id": "db5a1378",
   "metadata": {},
   "source": [
    "### Question-20\n",
    "How would you write a regex that match a number with comma for every three digits? It must\n",
    "match the given following:\n",
    "\n",
    "&#39;42&#39;\n",
    "\n",
    "&#39;1,234&#39;\n",
    "\n",
    "&#39;6,368,745&#39;\n",
    "\n",
    "but not the following:\n",
    "\n",
    "&#39;12,34,567&#39; (which has only two digits between the commas)\n",
    "\n",
    "&#39;1234&#39; (which lacks commas)\n",
    "\n",
    "#### Answer:\n",
    "numbers_comma = re.compile(r\"(^d{1,3}),(,\\d{3})*$\")\n",
    "\n",
    "numbers_comma.search(\"12,34,567\").group()"
   ]
  },
  {
   "cell_type": "markdown",
   "id": "cfb5c5ed",
   "metadata": {},
   "source": [
    "### Question-21\n",
    "\n",
    "How would you write a regex that matches the full name of someone whose last name is\n",
    "Watanabe? You can assume that the first name that comes before it will always be one word that\n",
    "begins with a capital letter. The regex must match the following:\n",
    "\n",
    "&#39;Haruto Watanabe&#39;\n",
    "\n",
    "&#39;Alice Watanabe&#39;\n",
    "\n",
    "&#39;RoboCop Watanabe&#39;\n",
    "\n",
    "but not the following:\n",
    "\n",
    "&#39;haruto Watanabe&#39; (where the first name is not capitalized)\n",
    "\n",
    "&#39;Mr. Watanabe&#39; (where the preceding word has a nonletter character)\n",
    "\n",
    "&#39;Watanabe&#39; (which has no first name)\n",
    "\n",
    "&#39;Haruto watanabe&#39; (where Watanabe is not capitalized)\n",
    "\n",
    "\n",
    "#### Answer:\n",
    "name = re.compile(r'[A-Z]\\w [A-Z]\\w') \n",
    "\n",
    "hw = name.findall('Haruto Watanabe, haruto watanabe, Alice WAtanabe, watanabe, RoboCop Watanabe, Haruto watanabe') \n",
    "\n",
    "hw.group()"
   ]
  },
  {
   "cell_type": "markdown",
   "id": "6372c2f8",
   "metadata": {},
   "source": [
    "### Question-22\n",
    "How would you write a regex that matches a sentence where the first word is either Alice, Bob,\n",
    "or Carol; the second word is either eats, pets, or throws; the third word is apples, cats, or baseballs;\n",
    "and the sentence ends with a period? This regex should be case-insensitive. It must match the\n",
    "following:\n",
    "\n",
    "&#39;Alice eats apples.&#39;\n",
    "\n",
    "&#39;Bob pets cats.&#39;\n",
    "\n",
    "&#39;Carol throws baseballs.&#39;\n",
    "\n",
    "&#39;Alice throws Apples.&#39;\n",
    "\n",
    "&#39;BOB EATS CATS.&#39;\n",
    "\n",
    "but not the following:\n",
    "\n",
    "&#39;RoboCop eats apples.&#39;\n",
    "\n",
    "&#39;ALICE THROWS FOOTBALLS.&#39;\n",
    "\n",
    "&#39;Carol eats 7 cats.&#39;\n",
    "\n",
    "\n",
    "#### Answer:\n"
   ]
  },
  {
   "cell_type": "markdown",
   "id": "870c054e",
   "metadata": {},
   "source": [
    "reg = re.compile(r'(Alice|Bob|Carol)\\s(eats|pets|throws)\\s(apples|cats|baseballs).', re.I|re.DOTALL)\n",
    "\n",
    "reg.findall('''Alice eats apples.'\n",
    "\n",
    "'Bob pets cats.'\n",
    "\n",
    "'Carol throws baseballs.'\n",
    "\n",
    "'Alice throws Apples.'\n",
    "\n",
    "'BOB EATS CATS.'\n",
    "\n",
    "but not the following:\n",
    "\n",
    "'Robocop eats apples.'\n",
    "\n",
    "'ALICE THROWS FOOTBALLS.'\n",
    "\n",
    "'Carol eats 7 cats.''')"
   ]
  },
  {
   "cell_type": "code",
   "execution_count": null,
   "id": "5246a953",
   "metadata": {},
   "outputs": [],
   "source": []
  }
 ],
 "metadata": {
  "kernelspec": {
   "display_name": "Python 3 (ipykernel)",
   "language": "python",
   "name": "python3"
  },
  "language_info": {
   "codemirror_mode": {
    "name": "ipython",
    "version": 3
   },
   "file_extension": ".py",
   "mimetype": "text/x-python",
   "name": "python",
   "nbconvert_exporter": "python",
   "pygments_lexer": "ipython3",
   "version": "3.9.7"
  }
 },
 "nbformat": 4,
 "nbformat_minor": 5
}
