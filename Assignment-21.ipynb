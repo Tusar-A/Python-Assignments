{
 "cells": [
  {
   "cell_type": "markdown",
   "id": "2a151e04",
   "metadata": {},
   "source": [
    "### Question-1\n",
    "Add the current date to the text file today.txt as a string.\n",
    "\n",
    "##### Answre:"
   ]
  },
  {
   "cell_type": "code",
   "execution_count": 1,
   "id": "8dca60de",
   "metadata": {},
   "outputs": [],
   "source": [
    "from datetime import datetime\n",
    "\n",
    "#today = datetime.datetime.today()\n",
    "\n",
    "def write_text():\n",
    "    with open(\"today.txt\", \"w+\") as file:\n",
    "        file.write(str(datetime.today()))\n",
    "        \n",
    "write_text()"
   ]
  },
  {
   "cell_type": "markdown",
   "id": "a526fbe5",
   "metadata": {},
   "source": [
    "### Question-2\n",
    "Read the text file today.txt into the string today_string\n",
    "\n",
    "\n",
    "##### Answer:"
   ]
  },
  {
   "cell_type": "code",
   "execution_count": 2,
   "id": "cf917b75",
   "metadata": {},
   "outputs": [
    {
     "data": {
      "text/plain": [
       "'2022-11-06 15:35:50.131036'"
      ]
     },
     "execution_count": 2,
     "metadata": {},
     "output_type": "execute_result"
    }
   ],
   "source": [
    "def read_file():\n",
    "    with open(\"today.txt\", \"r\") as file:\n",
    "        today_string = file.read()\n",
    "    \n",
    "    return today_string\n",
    "        \n",
    "read_file()"
   ]
  },
  {
   "cell_type": "markdown",
   "id": "b371d88d",
   "metadata": {},
   "source": [
    "### Question-3\n",
    "Parse the date from today_string.\n",
    "\n",
    "\n",
    "##### Answer:"
   ]
  },
  {
   "cell_type": "code",
   "execution_count": 3,
   "id": "780073ff",
   "metadata": {
    "scrolled": true
   },
   "outputs": [
    {
     "data": {
      "text/plain": [
       "'2022-11-06'"
      ]
     },
     "execution_count": 3,
     "metadata": {},
     "output_type": "execute_result"
    }
   ],
   "source": [
    "from dateutil import parser\n",
    "\n",
    "file = open(\"today.txt\", 'r')\n",
    "today_string = file.read()\n",
    "\n",
    "# parser\n",
    "today_string = parser.parse(today_string)\n",
    "datetime.strftime(today_string, '%Y-%m-%d')"
   ]
  },
  {
   "cell_type": "markdown",
   "id": "3c5c4e30",
   "metadata": {},
   "source": [
    "### Question-4\n",
    "Create a list of all of the files in your parent directory (minimum five files should be available).\n",
    "\n",
    "\n",
    "\n",
    "##### Answer:"
   ]
  },
  {
   "cell_type": "code",
   "execution_count": 4,
   "id": "3469bd2a",
   "metadata": {
    "scrolled": true
   },
   "outputs": [
    {
     "name": "stdout",
     "output_type": "stream",
     "text": [
      "['.ipynb_checkpoints', '06 November 2022.txt', 'Assignment-1.ipynb', 'Assignment-10.ipynb', 'Assignment-11.ipynb', 'Assignment-12.ipynb', 'Assignment-13.ipynb', 'Assignment-14.ipynb', 'Assignment-15.ipynb', 'Assignment-16.ipynb', 'Assignment-17.ipynb', 'Assignment-18.ipynb', 'Assignment-19.ipynb', 'Assignment-2.ipynb', 'Assignment-20.ipynb', 'Assignment-21.ipynb', 'Assignment-3.ipynb', 'Assignment-4.ipynb', 'Assignment-5.ipynb', 'Assignment-6.ipynb', 'Assignment-7.ipynb', 'Assignment-8.ipynb', 'Assignment-9.ipynb', 'book.csv', 'books.db', 'car.jpg', 'destination', 'doc_object_file.docx', 'edited_car.jpg', 'FSDS_bootcamp_assignment_002_Oct_01.ipynb', 'FSDS_bootcamp_assignment_004_Oct_09.ipynb', 'FSDS_bootcamp_assignment_005_Oct_16.ipynb', 'FSDS_September.zip', 'logfile.log', 'Programming Assignment_1.ipynb', 'Programming Assignment_2.ipynb', 'Programming Assignment_3.ipynb', 'Programming Assignment_4.ipynb', 'Programming Assignment_5.ipynb', 'Programming Assignment_6.ipynb', 'Programming Assignment_7.ipynb', 'Programming Assignment_8.ipynb', 'students.csv', 'test.txt', 'today.txt', 'zoo.py', '__pycache__']\n"
     ]
    }
   ],
   "source": [
    "import os\n",
    "\n",
    "\n",
    "file_list = os.listdir()\n",
    "print(file_list)"
   ]
  },
  {
   "cell_type": "markdown",
   "id": "574672e1",
   "metadata": {},
   "source": [
    "### Question-5\n",
    "Use multiprocessing to create three separate processes. Make each one wait a random number of\n",
    "seconds between one and five, print the current time, and then exit.\n",
    "\n",
    "\n",
    "##### Answer:"
   ]
  },
  {
   "cell_type": "code",
   "execution_count": 5,
   "id": "34f897ad",
   "metadata": {},
   "outputs": [
    {
     "name": "stdout",
     "output_type": "stream",
     "text": [
      "Finished in 21.2921926 seconds\n"
     ]
    }
   ],
   "source": [
    "import time\n",
    "import multiprocessing\n",
    "\n",
    "def multi_processing(seconds):\n",
    "    print(\"It is a multiprocessing process\")\n",
    "    time.sleep(seconds)\n",
    "    print(\"process done\")\n",
    "    \n",
    "p1 = multiprocessing.Process(target = multi_processing, args=[2])\n",
    "p2 = multiprocessing.Process(target = multi_processing, args=[4])\n",
    "p3 = multiprocessing.Process(target = multi_processing, args=[4])\n",
    "    \n",
    "if __name__ == '__main__':\n",
    "    p1.start()\n",
    "    p2.start()\n",
    "    p3.start()\n",
    "    p1.join()\n",
    "    p2.join()\n",
    "    p3.join()\n",
    "    \n",
    "finish = time.perf_counter()\n",
    "print(\"Finished in {} seconds\".format(finish))"
   ]
  },
  {
   "cell_type": "markdown",
   "id": "504559ab",
   "metadata": {},
   "source": [
    "### Question-6\n",
    "Create a date object of your day of birth.\n",
    "\n",
    "\n",
    "##### Answer:"
   ]
  },
  {
   "cell_type": "code",
   "execution_count": 6,
   "id": "17318035",
   "metadata": {},
   "outputs": [
    {
     "data": {
      "text/plain": [
       "datetime.datetime(1999, 11, 23, 0, 0)"
      ]
     },
     "execution_count": 6,
     "metadata": {},
     "output_type": "execute_result"
    }
   ],
   "source": [
    "from datetime import datetime, timedelta\n",
    "\n",
    "date_object = datetime(1999, 11, 23)\n",
    "date_object"
   ]
  },
  {
   "cell_type": "markdown",
   "id": "7581393d",
   "metadata": {},
   "source": [
    "### Question-7\n",
    "What day of the week was your day of birth?\n",
    "\n",
    "\n",
    "##### Answer:"
   ]
  },
  {
   "cell_type": "code",
   "execution_count": 7,
   "id": "055fd43d",
   "metadata": {},
   "outputs": [
    {
     "data": {
      "text/plain": [
       "1"
      ]
     },
     "execution_count": 7,
     "metadata": {},
     "output_type": "execute_result"
    }
   ],
   "source": [
    "week_day = date_object.weekday()\n",
    "week_day"
   ]
  },
  {
   "cell_type": "markdown",
   "id": "3ba02dc6",
   "metadata": {},
   "source": [
    "### Question-8\n",
    "When will you be (or when were you) 10,000 days old?\n",
    "\n",
    "\n",
    "##### Answer:"
   ]
  },
  {
   "cell_type": "code",
   "execution_count": 8,
   "id": "38be5116",
   "metadata": {},
   "outputs": [
    {
     "data": {
      "text/plain": [
       "datetime.datetime(2027, 4, 10, 0, 0)"
      ]
     },
     "execution_count": 8,
     "metadata": {},
     "output_type": "execute_result"
    }
   ],
   "source": [
    "days_10000 = date_object + timedelta(days=10000)\n",
    "days_10000"
   ]
  },
  {
   "cell_type": "code",
   "execution_count": null,
   "id": "b72e47ed",
   "metadata": {},
   "outputs": [],
   "source": []
  }
 ],
 "metadata": {
  "kernelspec": {
   "display_name": "Python 3 (ipykernel)",
   "language": "python",
   "name": "python3"
  },
  "language_info": {
   "codemirror_mode": {
    "name": "ipython",
    "version": 3
   },
   "file_extension": ".py",
   "mimetype": "text/x-python",
   "name": "python",
   "nbconvert_exporter": "python",
   "pygments_lexer": "ipython3",
   "version": "3.9.7"
  }
 },
 "nbformat": 4,
 "nbformat_minor": 5
}
