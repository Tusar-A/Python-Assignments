{
 "cells": [
  {
   "cell_type": "markdown",
   "id": "f7fc0e74",
   "metadata": {},
   "source": [
    "### Question-1\n",
    "Write a Python Program to find sum of array?\n",
    "\n",
    "\n",
    "##### Answer:"
   ]
  },
  {
   "cell_type": "code",
   "execution_count": 1,
   "id": "0ffb9b8f",
   "metadata": {},
   "outputs": [
    {
     "data": {
      "text/plain": [
       "('sum of the array is: ', 19)"
      ]
     },
     "execution_count": 1,
     "metadata": {},
     "output_type": "execute_result"
    }
   ],
   "source": [
    "def arr_sum(arr):\n",
    "    summ = 0\n",
    "    \n",
    "    for i in range(len(arr)):\n",
    "        summ = summ+arr[i]\n",
    "        \n",
    "    return \"sum of the array is: \",summ\n",
    "arr_sum([1,2,4,6,6])"
   ]
  },
  {
   "cell_type": "markdown",
   "id": "e25e7d40",
   "metadata": {},
   "source": [
    "### Question-2\n",
    "Write a Python Program to find largest element in an array?\n",
    "\n",
    "\n",
    "##### Answer:"
   ]
  },
  {
   "cell_type": "code",
   "execution_count": 2,
   "id": "c11c503b",
   "metadata": {},
   "outputs": [],
   "source": [
    "def find_largest(arr):\n",
    "    n = arr[0]\n",
    "    for i in range(len(arr)):\n",
    "        if n < arr[i]:\n",
    "            n = arr[i]\n",
    "    return n"
   ]
  },
  {
   "cell_type": "code",
   "execution_count": 3,
   "id": "caaea136",
   "metadata": {},
   "outputs": [
    {
     "data": {
      "text/plain": [
       "78"
      ]
     },
     "execution_count": 3,
     "metadata": {},
     "output_type": "execute_result"
    }
   ],
   "source": [
    "find_largest([2,3,4,5,6,1,2,67,78, 55, 4])"
   ]
  },
  {
   "cell_type": "markdown",
   "id": "7e1b66a4",
   "metadata": {},
   "source": [
    "### Question-3\n",
    "Write a Python Program for array rotation?\n",
    "\n",
    "\n",
    "##### Answer:"
   ]
  },
  {
   "cell_type": "code",
   "execution_count": 4,
   "id": "691260ab",
   "metadata": {},
   "outputs": [
    {
     "name": "stdout",
     "output_type": "stream",
     "text": [
      "Array after rotation is:  [3, 4, 5, 6, 7, 8, 1, 2]\n"
     ]
    }
   ],
   "source": [
    "def array_rotate(arr, n):\n",
    "    temp = []\n",
    "    \n",
    "    for i in range(n, len(arr)):\n",
    "        temp.append(arr[i])\n",
    "        \n",
    "    for i in range(0,n):\n",
    "        temp.append(arr[i])\n",
    "        \n",
    "    rotate = temp.copy()\n",
    "    return rotate\n",
    "\n",
    "arr = [1,2,3,4,5,6,7,8]\n",
    "print(\"Array after rotation is: \", array_rotate(arr, 2))"
   ]
  },
  {
   "cell_type": "markdown",
   "id": "4075b0a5",
   "metadata": {},
   "source": [
    "### Question-4\n",
    "Write a Python Program to Split the array and add the first part to the end?\n",
    "\n",
    "\n",
    "##### Answer:"
   ]
  },
  {
   "cell_type": "code",
   "execution_count": 5,
   "id": "f683adfa",
   "metadata": {},
   "outputs": [
    {
     "name": "stdout",
     "output_type": "stream",
     "text": [
      "14 15 16 17 10 12 "
     ]
    }
   ],
   "source": [
    "def array_split(arr, b):\n",
    "    a = len(arr)\n",
    "    for i in range(0, b):\n",
    "        x = arr[0]\n",
    "        for j in range(0, a-1):\n",
    "            arr[j] = arr[j+1]\n",
    "            \n",
    "        arr[a-1]= x\n",
    "        \n",
    "    for i in range(0, len(arr)):\n",
    "        print(arr[i], end = ' ')\n",
    "        \n",
    "        \n",
    "arr = [10,12,14,15,16,17]\n",
    "\n",
    "b = 2\n",
    "array_split(arr, b)"
   ]
  },
  {
   "cell_type": "markdown",
   "id": "edbdca14",
   "metadata": {},
   "source": [
    "### Question-5\n",
    "Write a Python Program to check if given array is Monotonic?\n",
    "\n",
    "\n",
    "##### Answer:"
   ]
  },
  {
   "cell_type": "code",
   "execution_count": 6,
   "id": "052fae39",
   "metadata": {},
   "outputs": [
    {
     "name": "stdout",
     "output_type": "stream",
     "text": [
      "False\n"
     ]
    }
   ],
   "source": [
    "def check_monotonic(arr):\n",
    "    n = len(arr)\n",
    "    if n == 1:\n",
    "        return True\n",
    "    else:\n",
    "        if all(arr[i]>arr[i+1] for i in range(0, n-1) or a[i]<=a[i+1] for i in range(0,n-1)):\n",
    "            return True\n",
    "        else:\n",
    "            return False\n",
    "\n",
    "arr = [1,2,3,4,5,6,7]\n",
    "print(check_monotonic(arr))\n",
    "        "
   ]
  }
 ],
 "metadata": {
  "kernelspec": {
   "display_name": "Python 3 (ipykernel)",
   "language": "python",
   "name": "python3"
  },
  "language_info": {
   "codemirror_mode": {
    "name": "ipython",
    "version": 3
   },
   "file_extension": ".py",
   "mimetype": "text/x-python",
   "name": "python",
   "nbconvert_exporter": "python",
   "pygments_lexer": "ipython3",
   "version": "3.9.7"
  }
 },
 "nbformat": 4,
 "nbformat_minor": 5
}
