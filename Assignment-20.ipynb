{
 "cells": [
  {
   "cell_type": "markdown",
   "id": "7bb8f34e",
   "metadata": {},
   "source": [
    "### Question-1\n",
    "Set the variable test1 to the string &#39;This is a test of the emergency text system,&#39; and save test1 to a\n",
    "file named test.txt.\n",
    "\n",
    "\n",
    "##### Answer:"
   ]
  },
  {
   "cell_type": "code",
   "execution_count": 1,
   "id": "b2cf2011",
   "metadata": {},
   "outputs": [
    {
     "data": {
      "text/plain": [
       "44"
      ]
     },
     "execution_count": 1,
     "metadata": {},
     "output_type": "execute_result"
    }
   ],
   "source": [
    "test1 = 'This is a test of the emergency text system,'\n",
    "\n",
    "test = open('test.txt', 'w')\n",
    "test.write(test1)"
   ]
  },
  {
   "cell_type": "markdown",
   "id": "5f5d8a7e",
   "metadata": {},
   "source": [
    "### Question-2\n",
    "Read the contents of the file test.txt into the variable test2. Is there a difference between test 1\n",
    "and test 2?\n",
    "\n",
    "\n",
    "##### Answer:"
   ]
  },
  {
   "cell_type": "code",
   "execution_count": 2,
   "id": "dfa9b253",
   "metadata": {},
   "outputs": [
    {
     "data": {
      "text/plain": [
       "''"
      ]
     },
     "execution_count": 2,
     "metadata": {},
     "output_type": "execute_result"
    }
   ],
   "source": [
    "test2 = open('test.txt', mode='r')\n",
    "test2.read()\n",
    "\n",
    "# test1 variable is used for writing text in the file whereas the test2 variable is used for reading the text file."
   ]
  },
  {
   "cell_type": "markdown",
   "id": "ae76b0d7",
   "metadata": {},
   "source": [
    "### Question-3\n",
    "Create a CSV file called books.csv by using these lines:\n",
    "\n",
    "title,author,year\n",
    "\n",
    "The Weirdstone of Brisingamen,Alan Garner,1960\n",
    "\n",
    "Perdido Street Station,China Miéville,2000\n",
    "\n",
    "Thud!,Terry Pratchett,2005\n",
    "\n",
    "The Spellman Files,Lisa Lutz,2007\n",
    "\n",
    "Small Gods,Terry Pratchett,1992\n",
    "\n",
    "\n",
    "##### Answer:"
   ]
  },
  {
   "cell_type": "code",
   "execution_count": 3,
   "id": "b50aaef4",
   "metadata": {},
   "outputs": [],
   "source": [
    "import csv\n",
    "\n",
    "header = [\"title\", \"author\", \"year\"]\n",
    "book_data = [\n",
    "    [\"The Weirdstone of Brisingamen\", \"Alan Garner\", 1960],\n",
    "    [\"Perdido Street Station\", \"China Miéville\", 2000],\n",
    "    [\"Thud!\", \"Terry Pratchett\", 2005],\n",
    "    [\"The Spellman Files\" ,\"Lisa Lutz\", 2007],\n",
    "    [\"Small Gods\", \"Terry Pratchett\", 1992]\n",
    "]\n",
    "\n",
    "with open(\"books.csv\", 'w') as file:\n",
    "    writer = csv.writer(file, delimiter = '\\n')\n",
    "    writer.writerow(header)\n",
    "    writer.writerows(book_data)"
   ]
  },
  {
   "cell_type": "markdown",
   "id": "d6eeee59",
   "metadata": {},
   "source": [
    "### Question-4\n",
    "Use the sqlite3 module to create a SQLite database called books.db, and a table called books with\n",
    "these fields: title (text), author (text), and year (integer).\n",
    "\n",
    "\n",
    "##### Answer:"
   ]
  },
  {
   "cell_type": "code",
   "execution_count": 4,
   "id": "0d3e063a",
   "metadata": {},
   "outputs": [
    {
     "data": {
      "text/plain": [
       "<sqlite3.Cursor at 0x143b2deab90>"
      ]
     },
     "execution_count": 4,
     "metadata": {},
     "output_type": "execute_result"
    }
   ],
   "source": [
    "import sqlite3\n",
    "\n",
    "conn = sqlite3.connect('books.db')\n",
    "\n",
    "cursor = conn.cursor()\n",
    "cursor.execute(\"\"\"\n",
    "        create table if not exists books (\n",
    "        title VARCHAR(50),\n",
    "        author VARCHAR(30),\n",
    "        year INT(5)\n",
    "        )\n",
    "        \n",
    "\"\"\")"
   ]
  },
  {
   "cell_type": "markdown",
   "id": "75967790",
   "metadata": {},
   "source": [
    "### Question-5\n",
    "Read books.csv and insert its data into the book table.\n",
    "\n",
    "\n",
    "##### Answer:"
   ]
  },
  {
   "cell_type": "code",
   "execution_count": 5,
   "id": "136bc70a",
   "metadata": {},
   "outputs": [
    {
     "data": {
      "text/plain": [
       "17"
      ]
     },
     "execution_count": 5,
     "metadata": {},
     "output_type": "execute_result"
    }
   ],
   "source": [
    "import pandas as pd\n",
    "\n",
    "read_books = pd.read_csv('books.csv',encoding='unicode_escape')\n",
    "read_books.to_sql('books', conn, if_exists='append', index = False)"
   ]
  },
  {
   "cell_type": "markdown",
   "id": "43cf6eb7",
   "metadata": {},
   "source": [
    "### Question-6\n",
    "Select and print the title column from the book table in alphabetical order.\n",
    "\n",
    "\n",
    "##### Answer:"
   ]
  },
  {
   "cell_type": "code",
   "execution_count": 6,
   "id": "2f6f8362",
   "metadata": {},
   "outputs": [
    {
     "name": "stdout",
     "output_type": "stream",
     "text": [
      "[('1960',), ('1960',), ('1992',), ('1992',), ('2000',), ('2000',), ('2005',), ('2005',), ('2007',), ('2007',), ('Alan Garner',), ('Alan Garner',), ('China Miéville',), ('China Miéville',), ('Lisa Lutz',), ('Lisa Lutz',), ('Perdido Street Station',), ('Perdido Street Station',), ('Small Gods',), ('Small Gods',), ('Terry Pratchett',), ('Terry Pratchett',), ('Terry Pratchett',), ('Terry Pratchett',), ('The Spellman Files',), ('The Spellman Files',), ('The Weirdstone of Brisingamen',), ('The Weirdstone of Brisingamen',), ('Thud!',), ('Thud!',), ('author',), ('author',), ('year',), ('year',)]\n"
     ]
    }
   ],
   "source": [
    "import sqlite3\n",
    "\n",
    "conn = sqlite3.connect('books.db')\n",
    "\n",
    "cursor = conn.cursor()\n",
    "cursor.execute(\"SELECT title FROM books ORDER BY title\")\n",
    "print(cursor.fetchall())\n",
    "conn.commit()\n",
    "conn.close()"
   ]
  },
  {
   "cell_type": "markdown",
   "id": "1bb58bee",
   "metadata": {},
   "source": [
    "### Question-7\n",
    "From the book table, select and print all columns in the order of publication.\n",
    "\n",
    "\n",
    "##### Answer:"
   ]
  },
  {
   "cell_type": "code",
   "execution_count": 7,
   "id": "78441179",
   "metadata": {},
   "outputs": [
    {
     "name": "stdout",
     "output_type": "stream",
     "text": [
      "[('author', None, None), ('year', None, None), ('The Weirdstone of Brisingamen', None, None), ('Alan Garner', None, None), ('1960', None, None), ('Perdido Street Station', None, None), ('China Miéville', None, None), ('2000', None, None), ('Thud!', None, None), ('Terry Pratchett', None, None), ('2005', None, None), ('The Spellman Files', None, None), ('Lisa Lutz', None, None), ('2007', None, None), ('Small Gods', None, None), ('Terry Pratchett', None, None), ('1992', None, None), ('author', None, None), ('year', None, None), ('The Weirdstone of Brisingamen', None, None), ('Alan Garner', None, None), ('1960', None, None), ('Perdido Street Station', None, None), ('China Miéville', None, None), ('2000', None, None), ('Thud!', None, None), ('Terry Pratchett', None, None), ('2005', None, None), ('The Spellman Files', None, None), ('Lisa Lutz', None, None), ('2007', None, None), ('Small Gods', None, None), ('Terry Pratchett', None, None), ('1992', None, None)]\n"
     ]
    }
   ],
   "source": [
    "import sqlite3\n",
    "\n",
    "conn = sqlite3.connect('books.db')\n",
    "\n",
    "cursor = conn.cursor()\n",
    "cursor.execute(\"SELECT * FROM books ORDER BY author\")\n",
    "print(cursor.fetchall())\n",
    "conn.commit()\n",
    "conn.close()"
   ]
  },
  {
   "cell_type": "markdown",
   "id": "a6e0776a",
   "metadata": {},
   "source": [
    "### Question-8\n",
    "Use the sqlalchemy module to connect to the sqlite3 database books.db that you just made in\n",
    "exercise 6.\n",
    "\n",
    "\n",
    "##### Answer:"
   ]
  },
  {
   "cell_type": "code",
   "execution_count": 8,
   "id": "b9daed6b",
   "metadata": {},
   "outputs": [
    {
     "name": "stdout",
     "output_type": "stream",
     "text": [
      "('author', None, None)\n",
      "('year', None, None)\n",
      "('The Weirdstone of Brisingamen', None, None)\n",
      "('Alan Garner', None, None)\n",
      "('1960', None, None)\n",
      "('Perdido Street Station', None, None)\n",
      "('China Miéville', None, None)\n",
      "('2000', None, None)\n",
      "('Thud!', None, None)\n",
      "('Terry Pratchett', None, None)\n",
      "('2005', None, None)\n",
      "('The Spellman Files', None, None)\n",
      "('Lisa Lutz', None, None)\n",
      "('2007', None, None)\n",
      "('Small Gods', None, None)\n",
      "('Terry Pratchett', None, None)\n",
      "('1992', None, None)\n",
      "('author', None, None)\n",
      "('year', None, None)\n",
      "('The Weirdstone of Brisingamen', None, None)\n",
      "('Alan Garner', None, None)\n",
      "('1960', None, None)\n",
      "('Perdido Street Station', None, None)\n",
      "('China Miéville', None, None)\n",
      "('2000', None, None)\n",
      "('Thud!', None, None)\n",
      "('Terry Pratchett', None, None)\n",
      "('2005', None, None)\n",
      "('The Spellman Files', None, None)\n",
      "('Lisa Lutz', None, None)\n",
      "('2007', None, None)\n",
      "('Small Gods', None, None)\n",
      "('Terry Pratchett', None, None)\n",
      "('1992', None, None)\n"
     ]
    }
   ],
   "source": [
    "import sqlalchemy\n",
    "\n",
    "\n",
    "engine = sqlalchemy.create_engine(\"sqlite:///books.db\")\n",
    "data = engine.execute('select * from books')\n",
    "\n",
    "for rows in data:\n",
    "    print(rows)"
   ]
  },
  {
   "cell_type": "markdown",
   "id": "8fb261c8",
   "metadata": {},
   "source": [
    "### Question-9\n",
    "Install the Redis server and the Python redis library (pip install redis) on your computer. Create a\n",
    "Redis hash called test with the fields count (1) and name (&#39;Fester Bestertester&#39;). Print all the fields for\n",
    "test.\n",
    "\n",
    "\n",
    "##### Answer:"
   ]
  },
  {
   "cell_type": "code",
   "execution_count": 9,
   "id": "037960bf",
   "metadata": {},
   "outputs": [
    {
     "name": "stdout",
     "output_type": "stream",
     "text": [
      "Requirement already satisfied: redis in c:\\users\\tusar\\anaconda3\\lib\\site-packages (4.5.4)\n",
      "Requirement already satisfied: async-timeout>=4.0.2 in c:\\users\\tusar\\anaconda3\\lib\\site-packages (from redis) (4.0.2)\n"
     ]
    }
   ],
   "source": [
    "!pip install redis"
   ]
  },
  {
   "cell_type": "code",
   "execution_count": 10,
   "id": "256e50d6",
   "metadata": {},
   "outputs": [
    {
     "name": "stderr",
     "output_type": "stream",
     "text": [
      "C:\\Users\\tusar\\AppData\\Local\\Temp\\ipykernel_20472\\19521559.py:4: DeprecationWarning: Redis.hmset() is deprecated. Use Redis.hset() instead.\n",
      "  conn.hmset('test', {'count': 1, 'name': 'Fester Bestertester'})\n"
     ]
    },
    {
     "data": {
      "text/plain": [
       "{b'count': b'1', b'name': b'Fester Bestertester'}"
      ]
     },
     "execution_count": 10,
     "metadata": {},
     "output_type": "execute_result"
    }
   ],
   "source": [
    "import redis\n",
    "conn = redis.Redis()\n",
    "conn.delete('test')\n",
    "conn.hmset('test', {'count': 1, 'name': 'Fester Bestertester'})\n",
    "conn.hgetall('test')"
   ]
  },
  {
   "cell_type": "code",
   "execution_count": null,
   "id": "6a87911e",
   "metadata": {},
   "outputs": [],
   "source": []
  },
  {
   "cell_type": "markdown",
   "id": "2e173f2a",
   "metadata": {},
   "source": [
    "### Question-10\n",
    "Increment the count field of test and print it.\n",
    "\n",
    "\n",
    "##### Answer:"
   ]
  },
  {
   "cell_type": "code",
   "execution_count": 11,
   "id": "68d7b6df",
   "metadata": {},
   "outputs": [
    {
     "data": {
      "text/plain": [
       "4"
      ]
     },
     "execution_count": 11,
     "metadata": {},
     "output_type": "execute_result"
    }
   ],
   "source": [
    "conn.hincrby('test','count', 3)"
   ]
  },
  {
   "cell_type": "code",
   "execution_count": null,
   "id": "923b2807",
   "metadata": {},
   "outputs": [],
   "source": []
  }
 ],
 "metadata": {
  "kernelspec": {
   "display_name": "Python 3 (ipykernel)",
   "language": "python",
   "name": "python3"
  },
  "language_info": {
   "codemirror_mode": {
    "name": "ipython",
    "version": 3
   },
   "file_extension": ".py",
   "mimetype": "text/x-python",
   "name": "python",
   "nbconvert_exporter": "python",
   "pygments_lexer": "ipython3",
   "version": "3.9.13"
  }
 },
 "nbformat": 4,
 "nbformat_minor": 5
}
