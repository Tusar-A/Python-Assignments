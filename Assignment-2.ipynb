{
 "cells": [
  {
   "cell_type": "markdown",
   "id": "c240bd79",
   "metadata": {},
   "source": [
    "# 1.\n",
    "What are the two values of the Boolean data type? How do you write them?"
   ]
  },
  {
   "cell_type": "markdown",
   "id": "b2d2a0cb",
   "metadata": {},
   "source": [
    "##### Answer:\n",
    "\n",
    "In boolean data types the two values are True and False. They are written in the following manner, True, False."
   ]
  },
  {
   "cell_type": "markdown",
   "id": "2e55baa6",
   "metadata": {},
   "source": [
    "# 2.\n",
    "What are the three different types of Boolean operators?"
   ]
  },
  {
   "cell_type": "markdown",
   "id": "cec89e7f",
   "metadata": {},
   "source": [
    "##### Answer:\n",
    "The three different types of boolean operators are AND, OR, NOT."
   ]
  },
  {
   "cell_type": "markdown",
   "id": "a9265137",
   "metadata": {},
   "source": [
    "# 3. \n",
    "Make a list of each Boolean operator's truth tables (i.e. every possible combination of Boolean values for the operator and what it evaluate )."
   ]
  },
  {
   "cell_type": "markdown",
   "id": "189e0e29",
   "metadata": {},
   "source": [
    "##### Answer:\n",
    "\n",
    "The boolean operator truth tables and every possible combination of boolean values for the operator are given below,\n",
    "\n",
    "With AND operator <br><br>\n",
    "True and True = True<br>\n",
    "False and False = False<br>\n",
    "True and False = False<br>\n",
    "False and True = False<br><br>\n",
    "\n",
    "With OR operator <br><br>\n",
    "True or True = True <br>\n",
    "False or False = False<br>\n",
    "True or False = True<br>\n",
    "False or True = True<br>"
   ]
  },
  {
   "cell_type": "markdown",
   "id": "c5db3fb8",
   "metadata": {},
   "source": [
    "# 4. \n",
    "What are the values of the following expressions?\n",
    "\n"
   ]
  },
  {
   "cell_type": "markdown",
   "id": "dde27279",
   "metadata": {},
   "source": [
    "##### Answer:\n",
    "(5>4) and (3==5) = False <br>\n",
    "not (5>4) = False<br>\n",
    "(5>4) or (3==5) = True<br>\n",
    "not (5>4) or (3==5) = False<br>\n",
    "(True and True) and (True ==False) = False<br>\n",
    "(not False) or (not True) = True<br>"
   ]
  },
  {
   "cell_type": "markdown",
   "id": "02d26092",
   "metadata": {},
   "source": [
    "# 5. \n",
    "What are the six comparison operators?"
   ]
  },
  {
   "cell_type": "raw",
   "id": "7acb3705",
   "metadata": {},
   "source": [
    "##### Answer:\n",
    "The six comparison operators are,\n",
    "\n",
    "1. ==  Equal to operator <br>\n",
    "2. !=  Not Equal to operator <br>\n",
    "3. >  Greater than operator <br>\n",
    "4. <  Less than operator <br>\n",
    "5. >=  Greater than or equal to operator <br>\n",
    "6. <=  Less than or equal to operator <br>"
   ]
  },
  {
   "cell_type": "markdown",
   "id": "b7efe5c0",
   "metadata": {},
   "source": [
    "# 6. \n",
    "How do you tell the difference between the equal to and assignment operators?Describe a\n",
    "condition and when you would use one."
   ]
  },
  {
   "cell_type": "markdown",
   "id": "4425aaae",
   "metadata": {},
   "source": [
    "##### Answer:\n",
    "The euqal to operator are assigned by (==) and the assignment operators are assigned by (=). When it need to assign any value into a variable the assignment operator (=) is used and when it comes to compare two thing equal to or (==) operator are used."
   ]
  },
  {
   "cell_type": "markdown",
   "id": "e4b082de",
   "metadata": {},
   "source": [
    "# 7. \n",
    "Identify the three blocks in this code:"
   ]
  },
  {
   "cell_type": "markdown",
   "id": "3da174fe",
   "metadata": {},
   "source": [
    "##### Answer:\n",
    "The first code block starts with the first if condition and the second one is with second if condition which is a nested condition. And the third block is with the else part of the condition. The structured code is given below."
   ]
  },
  {
   "cell_type": "code",
   "execution_count": null,
   "id": "2aca3bd3",
   "metadata": {},
   "outputs": [],
   "source": [
    "spam = 0\n",
    "\n",
    "# First block.\n",
    "if spam ==10:\n",
    "    print('eggs')\n",
    "    \n",
    "    # Second block.\n",
    "    if spam >5:\n",
    "        print('bacon')\n",
    "    \n",
    "    # third block\n",
    "    else:\n",
    "        print('ham')\n",
    "        \n",
    "print('spam')\n",
    "print('spam')\n",
    "    "
   ]
  },
  {
   "cell_type": "markdown",
   "id": "e14bb7bd",
   "metadata": {},
   "source": [
    "# 8. \n",
    "Write code that prints Hello if 1 is stored in spam, prints Howdy if 2 is stored in spam, and prints\n",
    "Greetings! if anything else is stored in spam."
   ]
  },
  {
   "cell_type": "code",
   "execution_count": null,
   "id": "c8edffee",
   "metadata": {},
   "outputs": [],
   "source": [
    "spam = 1\n",
    "\n",
    "if spam ==1:\n",
    "    print(\"Hello\")\n",
    "elif spam == 2:\n",
    "    print(\"Howdy\")\n",
    "else:\n",
    "    print(\"Greetings!\")"
   ]
  },
  {
   "cell_type": "code",
   "execution_count": null,
   "id": "8be67b02",
   "metadata": {},
   "outputs": [],
   "source": []
  },
  {
   "cell_type": "markdown",
   "id": "1b46d16c",
   "metadata": {},
   "source": [
    "# 9.\n",
    "If your programme is stuck in an endless loop, what keys you’ll press?"
   ]
  },
  {
   "cell_type": "markdown",
   "id": "b2ff0ce4",
   "metadata": {},
   "source": [
    "##### Answer:\n",
    "If the programme is stuck with an endless loop, CTRL+c will stop the loop. Again in jupyter notebook interrupting the code can also work in this case. "
   ]
  },
  {
   "cell_type": "code",
   "execution_count": null,
   "id": "f6a438f1",
   "metadata": {},
   "outputs": [],
   "source": []
  },
  {
   "cell_type": "markdown",
   "id": "2449a153",
   "metadata": {},
   "source": [
    "# 10.\n",
    "How can you tell the difference between break and continue?"
   ]
  },
  {
   "cell_type": "markdown",
   "id": "6212488f",
   "metadata": {},
   "source": [
    "##### Answer:\n",
    "\n",
    "break and continue are used in loop controlling. If we want to skip the loop after a certain condition then break is used and on the other hand continue is used in a loop to end up with the current iteration and don't execute the next command until the logic it get an invalid logic. This mean it will continue looping within it untill we stop or it get an False condition. In a word, continue will continue the within the same loop until it get an false condition and break skip all the iterations of the code once it executed."
   ]
  },
  {
   "cell_type": "markdown",
   "id": "853820d7",
   "metadata": {},
   "source": [
    "# 11. \n",
    "In a for loop, what is the difference between range(10), range(0, 10), and range(0, 10, 1)?"
   ]
  },
  {
   "cell_type": "markdown",
   "id": "b9de7b3b",
   "metadata": {},
   "source": [
    "##### Answer:\n",
    "In a word, there will be no difference in the output as all these three gives the same output. Let me explain:\n",
    "    \n",
    "The first range(10), in this case the range function starts from 0 and return values up to 10 except 10, though the starts value 0 is not given by default it starts from 0.\n",
    "\n",
    "In the second case, the lower bound and upper bound are given, so it return from 0 to 9, including 9.\n",
    "\n",
    "And the last one, the extra 1 is given which is the step size. By default the step size is 1 and in previous cases the step size is 1 also. In this case it also return 0-9 values."
   ]
  },
  {
   "cell_type": "markdown",
   "id": "626984c1",
   "metadata": {},
   "source": [
    "# 12. \n",
    "Write a short program that prints the numbers 1 to 10 using a for loop. Then write an equivalent program that prints the numbers 1 to 10 using a while loop."
   ]
  },
  {
   "cell_type": "code",
   "execution_count": 14,
   "id": "53a63072",
   "metadata": {
    "collapsed": true
   },
   "outputs": [
    {
     "name": "stdout",
     "output_type": "stream",
     "text": [
      "0\n",
      "1\n",
      "2\n",
      "3\n",
      "4\n",
      "5\n",
      "6\n",
      "7\n",
      "8\n",
      "9\n",
      "10\n"
     ]
    }
   ],
   "source": [
    "## Using For Loop\n",
    "\n",
    "for i in range(0,11):\n",
    "    print(i)"
   ]
  },
  {
   "cell_type": "code",
   "execution_count": 15,
   "id": "a963a1a4",
   "metadata": {
    "collapsed": true
   },
   "outputs": [
    {
     "name": "stdout",
     "output_type": "stream",
     "text": [
      "0\n",
      "1\n",
      "2\n",
      "3\n",
      "4\n",
      "5\n",
      "6\n",
      "7\n",
      "8\n",
      "9\n",
      "10\n"
     ]
    }
   ],
   "source": [
    "# using While Loop\n",
    "\n",
    "i = 0\n",
    "while i<=10:\n",
    "    print(i)\n",
    "    i+=1"
   ]
  },
  {
   "cell_type": "markdown",
   "id": "b5a935d4",
   "metadata": {},
   "source": [
    "# 13. \n",
    "If you had a function named bacon() inside a module named spam, how would you call it after importing spam?"
   ]
  },
  {
   "cell_type": "markdown",
   "id": "e0ac3d48",
   "metadata": {},
   "source": [
    "##### Answer:\n",
    "\n",
    "After importing a function, if we want to call any module then I will do that by using (.). For an example from the spam module if I need bacon function then I'll call it using the following syntax.\n",
    "\n",
    "spam.bacon()"
   ]
  },
  {
   "cell_type": "code",
   "execution_count": null,
   "id": "5d787dd9",
   "metadata": {},
   "outputs": [],
   "source": []
  }
 ],
 "metadata": {
  "kernelspec": {
   "display_name": "Python 3 (ipykernel)",
   "language": "python",
   "name": "python3"
  },
  "language_info": {
   "codemirror_mode": {
    "name": "ipython",
    "version": 3
   },
   "file_extension": ".py",
   "mimetype": "text/x-python",
   "name": "python",
   "nbconvert_exporter": "python",
   "pygments_lexer": "ipython3",
   "version": "3.9.7"
  }
 },
 "nbformat": 4,
 "nbformat_minor": 5
}
