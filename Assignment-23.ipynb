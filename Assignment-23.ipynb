{
 "cells": [
  {
   "cell_type": "markdown",
   "id": "dff521bb",
   "metadata": {},
   "source": [
    "### Question-1\n",
    "What is the result of the code, and why?\n",
    "\n",
    "&gt;&gt;&gt; def func(a, b=6, c=8):\n",
    "\n",
    "print(a, b, c)\n",
    "\n",
    "&gt;&gt;&gt; func(1, 2)\n",
    "\n",
    "\n",
    "##### Answer:"
   ]
  },
  {
   "cell_type": "markdown",
   "id": "3f0935df",
   "metadata": {},
   "source": [
    "The code will return \"1,2,8\" this is because while calling the function two argument is passed into the function and these two argument is assigned into the first two variable. Though b has its value 6, it will be overwritten and will return the new value. And for variable c no argument is provided so it will return the default value."
   ]
  },
  {
   "cell_type": "markdown",
   "id": "1e5b197e",
   "metadata": {},
   "source": [
    "### Question-2\n",
    "What is the result of this code, and why?\n",
    "\n",
    "&gt;&gt;&gt; def func(a, b, c=5):\n",
    "    \n",
    "print(a, b, c)\n",
    "\n",
    "&gt;&gt;&gt; func(1, c=3, b=2)\n",
    "\n",
    "\n",
    "##### Answer:"
   ]
  },
  {
   "cell_type": "markdown",
   "id": "ce3c7007",
   "metadata": {},
   "source": [
    "The code will results the value (1,2,3). While calling the function three argument were passed and the value of b & c is updated from the default value. Thus it will return 1,2,3 as output."
   ]
  },
  {
   "cell_type": "markdown",
   "id": "f6f825bb",
   "metadata": {},
   "source": [
    "### Question-3\n",
    "How about this code: what is its result, and why?\n",
    "\n",
    "&gt;&gt;&gt; def func(a, *pargs):\n",
    "\n",
    "print(a, pargs)\n",
    "\n",
    "&gt;&gt;&gt; func(1, 2, 3)\n",
    "\n",
    "\n",
    "##### Answer:"
   ]
  },
  {
   "cell_type": "markdown",
   "id": "d1b3fa8d",
   "metadata": {},
   "source": [
    "This code will return two value one is for a variable and another is for args variable, where a will contain only one value which will be 1 and args will contain two value that is (2,3). It is because, before the args there is * which means that it can contain multiple values."
   ]
  },
  {
   "cell_type": "markdown",
   "id": "b5cc056b",
   "metadata": {},
   "source": [
    "### Question-4\n",
    "What does this code print, and why?\n",
    "\n",
    "&gt;&gt;&gt; def func(a, **kargs):\n",
    "\n",
    "print(a, kargs)\n",
    "\n",
    "&gt;&gt;&gt; func(a=1, c=3, b=2)"
   ]
  },
  {
   "cell_type": "markdown",
   "id": "d2e01c86",
   "metadata": {},
   "source": [
    "This code will return the value for a is 1 and for kargs a dictionary. This is because with **kargs we can send multiple variable with values in a function."
   ]
  },
  {
   "cell_type": "markdown",
   "id": "cd0efc92",
   "metadata": {},
   "source": [
    "### Question-5\n",
    "What gets printed by this, and explain?\n",
    "\n",
    "&gt;&gt;&gt; def func(a, b, c=8, d=5): \n",
    "print(a, b, c, d)\n",
    "\n",
    "&gt;&gt;&gt; func(1, *(5, 6))\n",
    "\n",
    "\n",
    "##### Answer:"
   ]
  },
  {
   "cell_type": "markdown",
   "id": "89ab668f",
   "metadata": {},
   "source": [
    "The code will return (1,5,6,5). It is because while calling the function three argument is passed, first 1 will be inserted into variable a, next value 5 will be inserted into b and 6 will be into c, here the value of c will be updated to passed argument and the of d will be remained default."
   ]
  },
  {
   "cell_type": "markdown",
   "id": "df1abca0",
   "metadata": {},
   "source": [
    "### Question-6\n",
    "what is the result of this, and explain?\n",
    "\n",
    "&gt;&gt;&gt; def func(a, b, c): a = 2; b[0] = &#39;x&#39;; c[&#39;a&#39;] = &#39;y&#39;\n",
    "\n",
    "&gt;&gt;&gt; l=1; m=[1]; n={&#39;a&#39;:0}\n",
    "\n",
    "&gt;&gt;&gt; func(l, m, n)\n",
    "\n",
    "&gt;&gt;&gt; l, m, n\n",
    "\n",
    "\n",
    "##### Answer:"
   ]
  },
  {
   "cell_type": "markdown",
   "id": "262f143e",
   "metadata": {},
   "source": [
    "This code will return three value for l,m,n.  First for l it will return 1 because the variable a will be updated to the argument passes into the function. Secondly, the value of m will be ['x']. It is because for b[0] ='x' so for the first value of list b it will be 'x'. Now, lastly for n, the c['a'] has a value 'y' so with the argument value it will be updated and return {'a':'y'}"
   ]
  },
  {
   "cell_type": "code",
   "execution_count": null,
   "id": "8ee54917",
   "metadata": {},
   "outputs": [],
   "source": []
  }
 ],
 "metadata": {
  "kernelspec": {
   "display_name": "Python 3 (ipykernel)",
   "language": "python",
   "name": "python3"
  },
  "language_info": {
   "codemirror_mode": {
    "name": "ipython",
    "version": 3
   },
   "file_extension": ".py",
   "mimetype": "text/x-python",
   "name": "python",
   "nbconvert_exporter": "python",
   "pygments_lexer": "ipython3",
   "version": "3.9.7"
  }
 },
 "nbformat": 4,
 "nbformat_minor": 5
}
