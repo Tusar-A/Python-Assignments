{
 "cells": [
  {
   "cell_type": "markdown",
   "id": "09370e20",
   "metadata": {},
   "source": [
    "### Question-1\n",
    "Write a Python program to convert kilometers to miles?\n",
    "\n",
    "##### Answer:\n"
   ]
  },
  {
   "cell_type": "code",
   "execution_count": 1,
   "id": "ec18c39c",
   "metadata": {},
   "outputs": [
    {
     "name": "stdout",
     "output_type": "stream",
     "text": [
      "Enter value in Kilometers: 10\n",
      "The value in miles is:  6.21371192\n"
     ]
    }
   ],
   "source": [
    "kilometers = int(input(\"Enter value in Kilometers: \"))\n",
    "\n",
    "miles = kilometers*0.621371192 \n",
    "print(\"The value in miles is: \", miles)"
   ]
  },
  {
   "cell_type": "markdown",
   "id": "45a71c71",
   "metadata": {},
   "source": [
    "### Question-2\n",
    "Write a Python program to convert Celsius to Fahrenheit?\n",
    "\n",
    "##### Answer:"
   ]
  },
  {
   "cell_type": "code",
   "execution_count": 2,
   "id": "8ffc7db0",
   "metadata": {},
   "outputs": [
    {
     "name": "stdout",
     "output_type": "stream",
     "text": [
      "Enter the tempareture: 30\n",
      "The Tempareture is 86.0 degree farenheit.\n"
     ]
    }
   ],
   "source": [
    "temp_cel = int(input(\"Enter the tempareture: \"))\n",
    "\n",
    "fah = (temp_cel*(9/5))+32\n",
    "\n",
    "print(\"The Tempareture is {} degree farenheit.\".format(fah))"
   ]
  },
  {
   "cell_type": "markdown",
   "id": "50fdfe11",
   "metadata": {},
   "source": [
    "### Question-3\n",
    "Write a Python program to display calendar?\n",
    "\n",
    "##### Answer:\n"
   ]
  },
  {
   "cell_type": "code",
   "execution_count": 3,
   "id": "939171c8",
   "metadata": {},
   "outputs": [
    {
     "name": "stdout",
     "output_type": "stream",
     "text": [
      "    October 2020\n",
      "Mo Tu We Th Fr Sa Su\n",
      "          1  2  3  4\n",
      " 5  6  7  8  9 10 11\n",
      "12 13 14 15 16 17 18\n",
      "19 20 21 22 23 24 25\n",
      "26 27 28 29 30 31\n",
      "\n"
     ]
    }
   ],
   "source": [
    "# python built-in calendar module will help to display calender\n",
    "import calendar\n",
    "\n",
    "months = 10\n",
    "years = 2020\n",
    "\n",
    "calend = calendar.month(years, months)\n",
    "print(calend)"
   ]
  },
  {
   "cell_type": "markdown",
   "id": "dbe27eec",
   "metadata": {},
   "source": [
    "### Question-4\n",
    "Write a Python program to solve quadratic equation?\n",
    "\n",
    "##### Answer:"
   ]
  },
  {
   "cell_type": "code",
   "execution_count": 5,
   "id": "6f78a3a0",
   "metadata": {},
   "outputs": [
    {
     "name": "stdout",
     "output_type": "stream",
     "text": [
      "Enter the first value: 1\n",
      "Enter the second values: -3\n",
      "Enter the third values: -4\n",
      "The solution will be 4.0, (1.5+1.3228756555322954j)\n"
     ]
    }
   ],
   "source": [
    "# quadratic equation has three values, and the equuation is ax2 + bx + c = 0\n",
    "\n",
    "val_a = int(input(\"Enter the first value: \"))\n",
    "val_b = int(input(\"Enter the second values: \"))\n",
    "val_c = int(input(\"Enter the third values: \"))\n",
    "\n",
    "x1 = (-(val_b) + (((val_b**2)-(4*val_a*val_c))**0.5))/(2*val_a)\n",
    "x2 = (-(val_b) + (((val_b**2)+(4*val_a*val_c))**0.5))/(2*val_a)\n",
    "\n",
    "print(\"The solution will be {}, {}\".format(x1,x2))"
   ]
  },
  {
   "cell_type": "markdown",
   "id": "2123b76b",
   "metadata": {},
   "source": [
    "### Question-5\n",
    "Write a Python program to swap two variables without temp variable?\n",
    "\n",
    "##### Answer:"
   ]
  },
  {
   "cell_type": "code",
   "execution_count": 6,
   "id": "fcc0c3d4",
   "metadata": {},
   "outputs": [
    {
     "name": "stdout",
     "output_type": "stream",
     "text": [
      "After swaping the value of x: 6 and value of y: 5\n"
     ]
    }
   ],
   "source": [
    "# defining variables\n",
    "x = 5\n",
    "y = 6\n",
    "\n",
    "x, y = y, x\n",
    "\n",
    "print('After swaping the value of x: {} and value of y: {}'.format(x,y))"
   ]
  },
  {
   "cell_type": "code",
   "execution_count": null,
   "id": "ff346b2e",
   "metadata": {},
   "outputs": [],
   "source": []
  }
 ],
 "metadata": {
  "kernelspec": {
   "display_name": "Python 3 (ipykernel)",
   "language": "python",
   "name": "python3"
  },
  "language_info": {
   "codemirror_mode": {
    "name": "ipython",
    "version": 3
   },
   "file_extension": ".py",
   "mimetype": "text/x-python",
   "name": "python",
   "nbconvert_exporter": "python",
   "pygments_lexer": "ipython3",
   "version": "3.9.7"
  }
 },
 "nbformat": 4,
 "nbformat_minor": 5
}
